{
  "nbformat": 4,
  "nbformat_minor": 0,
  "metadata": {
    "colab": {
      "provenance": [],
      "authorship_tag": "ABX9TyOj8dV4x82j/mbviDlKH2qS",
      "include_colab_link": true
    },
    "kernelspec": {
      "name": "python3",
      "display_name": "Python 3"
    },
    "language_info": {
      "name": "python"
    }
  },
  "cells": [
    {
      "cell_type": "markdown",
      "metadata": {
        "id": "view-in-github",
        "colab_type": "text"
      },
      "source": [
        "<a href=\"https://colab.research.google.com/github/asegura4488/CienciaDatos/blob/main/Semana3/Sesion5.ipynb\" target=\"_parent\"><img src=\"https://colab.research.google.com/assets/colab-badge.svg\" alt=\"Open In Colab\"/></a>"
      ]
    },
    {
      "cell_type": "code",
      "execution_count": null,
      "metadata": {
        "id": "ZfsiCKz8Sar3"
      },
      "outputs": [],
      "source": [
        "from google.colab import drive\n",
        "from google.colab import files\n",
        "drive.mount('/content/drive', force_remount=True)"
      ]
    },
    {
      "cell_type": "code",
      "source": [
        "import numpy as np\n",
        "import pandas as pd\n",
        "import matplotlib.pyplot as plt\n",
        "import seaborn as sns\n",
        "import os\n",
        "os.chdir('/content/drive/MyDrive/ColabNotebooks/Cursos/CursoCienciaDatos/Semana3')\n",
        "!ls"
      ],
      "metadata": {
        "id": "iT9uWFyPShBd"
      },
      "execution_count": null,
      "outputs": []
    },
    {
      "cell_type": "markdown",
      "source": [
        "1. \"age\" (Edad) numérica\n",
        "2. \"job\" (Trabajo) categórica\n",
        "3. \"marital\" (Estado civil) categórica\n",
        "4. \"education\" (Nivel educativo) categórica\n",
        "5. \"default\" (Si dejo de pagar) categórico\n",
        "6. \"balance\" (saldo promedio) numérico\n",
        "7. \"housing\" (Credito hipotecario) categórico\n",
        "8. \"loan\" (Creditos de consumo) categórico\n",
        "9. \"contact\" (Medio de contacto) categórico\n",
        "10. \"day\" (último día en que fue contactado) numérica\n",
        "11. \"month\" (último més en que fue contactado) categórica\n",
        "12. \"duration\" (Duración de última llamada en segundos) numérica\n",
        "13. \"campaign\" (Numero total de veces en ser contactado) numérica\n",
        "14. \"pdays\" (Número de dias después de haber sido contactado) numérica\n",
        "15. \"previous\" (Número de veces de ser conctactado antes de la presente campaña) numérica\n",
        "16. \"poutcome\" (Resultado de la campaña anterior) categórica\n",
        "17. \"y\" (El cliente suscribió el deposito) categórica"
      ],
      "metadata": {
        "id": "nz2bP-exSha2"
      }
    },
    {
      "cell_type": "code",
      "source": [],
      "metadata": {
        "id": "-FpEz8o_Scn8"
      },
      "execution_count": null,
      "outputs": []
    }
  ]
}