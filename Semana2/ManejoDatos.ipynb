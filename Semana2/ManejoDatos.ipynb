{
  "nbformat": 4,
  "nbformat_minor": 0,
  "metadata": {
    "colab": {
      "provenance": [],
      "authorship_tag": "ABX9TyON78OLWVqFcR/7p1T8rX8r",
      "include_colab_link": true
    },
    "kernelspec": {
      "name": "python3",
      "display_name": "Python 3"
    },
    "language_info": {
      "name": "python"
    }
  },
  "cells": [
    {
      "cell_type": "markdown",
      "metadata": {
        "id": "view-in-github",
        "colab_type": "text"
      },
      "source": [
        "<a href=\"https://colab.research.google.com/github/asegura4488/CienciaDatos/blob/main/Semana2/ManejoDatos.ipynb\" target=\"_parent\"><img src=\"https://colab.research.google.com/assets/colab-badge.svg\" alt=\"Open In Colab\"/></a>"
      ]
    },
    {
      "cell_type": "code",
      "execution_count": 1,
      "metadata": {
        "colab": {
          "base_uri": "https://localhost:8080/"
        },
        "id": "xpc9ZknH9XuN",
        "outputId": "4d8499d8-5257-47e6-e6e2-a6919314c62a"
      },
      "outputs": [
        {
          "output_type": "stream",
          "name": "stdout",
          "text": [
            "Mounted at /content/drive\n"
          ]
        }
      ],
      "source": [
        "import os\n",
        "import random\n",
        "import shutil\n",
        "import zipfile\n",
        "from google.colab import drive\n",
        "from google.colab import files\n",
        "drive.mount('/content/drive', force_remount=True)"
      ]
    },
    {
      "cell_type": "code",
      "source": [
        "os.chdir('/content/drive/MyDrive/ColabNotebooks/Cursos/CursoCienciaDatos/Semana2')\n",
        "!ls"
      ],
      "metadata": {
        "id": "Kgm_FrEO_nIm",
        "colab": {
          "base_uri": "https://localhost:8080/"
        },
        "outputId": "c2ff74cb-d579-4f59-ec7c-44d17af7bff0"
      },
      "execution_count": 12,
      "outputs": [
        {
          "output_type": "stream",
          "name": "stdout",
          "text": [
            "ManejoDatos\n"
          ]
        }
      ]
    },
    {
      "cell_type": "code",
      "source": [
        "carpeta_principal = \"Datos\"\n",
        "os.makedirs(carpeta_principal, exist_ok=True) # Crea la carpeta si no existe"
      ],
      "metadata": {
        "id": "KgNVOJfD9nxD"
      },
      "execution_count": 13,
      "outputs": []
    },
    {
      "cell_type": "code",
      "source": [
        "# Crear 10 sub-directorios\n",
        "for i in range(1, 11):\n",
        "  sub_carpeta = os.path.join(carpeta_principal, f\"Conjunto_{i}\")\n",
        "  os.makedirs(sub_carpeta, exist_ok=True)"
      ],
      "metadata": {
        "id": "cG47aU2c9x_A"
      },
      "execution_count": 17,
      "outputs": []
    },
    {
      "cell_type": "code",
      "source": [
        "# Vamos a crear un archivo en las primeras 10\n",
        "for i in range(1, 11):\n",
        "  sub_carpeta = os.path.join(carpeta_principal, f\"Conjunto_{i}\")\n",
        "\n",
        "  # Vamos a crear un numero aleatorio\n",
        "  numero = random.randint(1, 100)\n",
        "\n",
        "  archivo = os.path.join(sub_carpeta, f\"archivo_{numero}.txt\")\n",
        "  # Adicional voy a poner un archivo, sin numero\n",
        "  archivo1 = os.path.join(sub_carpeta, f\"archivo.txt\")\n",
        "\n",
        "\n",
        "  print(sub_carpeta,archivo,archivo1)"
      ],
      "metadata": {
        "id": "mnhsagMX9zpA",
        "colab": {
          "base_uri": "https://localhost:8080/"
        },
        "outputId": "50ae8d88-c39a-4e0e-bdca-1fc1b03708c4"
      },
      "execution_count": 24,
      "outputs": [
        {
          "output_type": "stream",
          "name": "stdout",
          "text": [
            "Datos/Conjunto_1 Datos/Conjunto_1/archivo_42.txt Datos/Conjunto_1/archivo.txt\n",
            "Datos/Conjunto_2 Datos/Conjunto_2/archivo_79.txt Datos/Conjunto_2/archivo.txt\n",
            "Datos/Conjunto_3 Datos/Conjunto_3/archivo_76.txt Datos/Conjunto_3/archivo.txt\n",
            "Datos/Conjunto_4 Datos/Conjunto_4/archivo_87.txt Datos/Conjunto_4/archivo.txt\n",
            "Datos/Conjunto_5 Datos/Conjunto_5/archivo_23.txt Datos/Conjunto_5/archivo.txt\n",
            "Datos/Conjunto_6 Datos/Conjunto_6/archivo_70.txt Datos/Conjunto_6/archivo.txt\n",
            "Datos/Conjunto_7 Datos/Conjunto_7/archivo_56.txt Datos/Conjunto_7/archivo.txt\n",
            "Datos/Conjunto_8 Datos/Conjunto_8/archivo_37.txt Datos/Conjunto_8/archivo.txt\n",
            "Datos/Conjunto_9 Datos/Conjunto_9/archivo_96.txt Datos/Conjunto_9/archivo.txt\n",
            "Datos/Conjunto_10 Datos/Conjunto_10/archivo_12.txt Datos/Conjunto_10/archivo.txt\n"
          ]
        }
      ]
    },
    {
      "cell_type": "code",
      "source": [],
      "metadata": {
        "id": "sTEiMahePIQh"
      },
      "execution_count": 21,
      "outputs": []
    }
  ]
}