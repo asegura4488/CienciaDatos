{
  "nbformat": 4,
  "nbformat_minor": 0,
  "metadata": {
    "colab": {
      "provenance": [],
      "authorship_tag": "ABX9TyO2YmZlYwqKk3mIO+yd186w",
      "include_colab_link": true
    },
    "kernelspec": {
      "name": "python3",
      "display_name": "Python 3"
    },
    "language_info": {
      "name": "python"
    }
  },
  "cells": [
    {
      "cell_type": "markdown",
      "metadata": {
        "id": "view-in-github",
        "colab_type": "text"
      },
      "source": [
        "<a href=\"https://colab.research.google.com/github/asegura4488/CienciaDatos/blob/main/Semana2/ManejoDatos.ipynb\" target=\"_parent\"><img src=\"https://colab.research.google.com/assets/colab-badge.svg\" alt=\"Open In Colab\"/></a>"
      ]
    },
    {
      "cell_type": "code",
      "execution_count": 43,
      "metadata": {
        "colab": {
          "base_uri": "https://localhost:8080/"
        },
        "id": "xpc9ZknH9XuN",
        "outputId": "986217cc-0b55-48b3-b99c-071093dd8f2a"
      },
      "outputs": [
        {
          "output_type": "stream",
          "name": "stdout",
          "text": [
            "Mounted at /content/drive\n"
          ]
        }
      ],
      "source": [
        "import os\n",
        "import random\n",
        "import shutil\n",
        "import zipfile\n",
        "from google.colab import drive\n",
        "from google.colab import files\n",
        "drive.mount('/content/drive', force_remount=True)"
      ]
    },
    {
      "cell_type": "code",
      "source": [
        "os.chdir('/content/drive/MyDrive/ColabNotebooks/Cursos/CursoCienciaDatos/Semana2')\n",
        "!ls"
      ],
      "metadata": {
        "id": "Kgm_FrEO_nIm",
        "colab": {
          "base_uri": "https://localhost:8080/"
        },
        "outputId": "ec040e34-7b00-4b8a-df5f-ca538ba7071e"
      },
      "execution_count": 44,
      "outputs": [
        {
          "output_type": "stream",
          "name": "stdout",
          "text": [
            "conjunto_1.zip\t conjunto_3.zip  conjunto_9.zip  ManejoDatos\n",
            "conjunto_30.zip  conjunto_7.zip  Datos\n"
          ]
        }
      ]
    },
    {
      "cell_type": "code",
      "source": [
        "carpeta_principal = \"Datos\"\n",
        "os.makedirs(carpeta_principal, exist_ok=True) # Crea la carpeta si no existe"
      ],
      "metadata": {
        "id": "KgNVOJfD9nxD"
      },
      "execution_count": 45,
      "outputs": []
    },
    {
      "cell_type": "code",
      "source": [
        "# Crear 10 sub-directorios\n",
        "for i in range(1, 11):\n",
        "  sub_carpeta = os.path.join(carpeta_principal, f\"Conjunto_{i}\")\n",
        "  os.makedirs(sub_carpeta, exist_ok=True)"
      ],
      "metadata": {
        "id": "cG47aU2c9x_A"
      },
      "execution_count": 46,
      "outputs": []
    },
    {
      "cell_type": "code",
      "source": [
        "# Vamos a crear un archivo en las primeras 10\n",
        "for i in range(1, 11):\n",
        "  sub_carpeta = os.path.join(carpeta_principal, f\"Conjunto_{i}\")\n",
        "\n",
        "  # Vamos a crear un numero aleatorio\n",
        "  numero = random.randint(1, 100)\n",
        "\n",
        "  archivo = os.path.join(sub_carpeta, f\"archivo_{numero}.txt\")\n",
        "  # Adicional voy a poner un archivo, sin numero\n",
        "  archivo1 = os.path.join(sub_carpeta, f\"archivo.txt\")\n",
        "\n",
        "  # Escribimos la informacion\n",
        "  with open(archivo, \"w\") as f:\n",
        "    f.write(f\"Contenido del archivo {numero}\")\n",
        "\n",
        "  with open(archivo1, \"w\") as f:\n",
        "    f.write(f\"Contenido del archivo\")\n",
        "\n",
        "  print(f'Creando archivos {archivo}')\n",
        "  print(f'Creando archivo de control {archivo1}')\n",
        "\n",
        "  #print(sub_carpeta,archivo,archivo1)"
      ],
      "metadata": {
        "id": "mnhsagMX9zpA",
        "colab": {
          "base_uri": "https://localhost:8080/"
        },
        "outputId": "678873fd-a1b3-4c2d-fd8b-8bb32ed546a3"
      },
      "execution_count": 47,
      "outputs": [
        {
          "output_type": "stream",
          "name": "stdout",
          "text": [
            "Creando archivos Datos/Conjunto_1/archivo_24.txt\n",
            "Creando archivo de control Datos/Conjunto_1/archivo.txt\n",
            "Creando archivos Datos/Conjunto_2/archivo_83.txt\n",
            "Creando archivo de control Datos/Conjunto_2/archivo.txt\n",
            "Creando archivos Datos/Conjunto_3/archivo_23.txt\n",
            "Creando archivo de control Datos/Conjunto_3/archivo.txt\n",
            "Creando archivos Datos/Conjunto_4/archivo_14.txt\n",
            "Creando archivo de control Datos/Conjunto_4/archivo.txt\n",
            "Creando archivos Datos/Conjunto_5/archivo_70.txt\n",
            "Creando archivo de control Datos/Conjunto_5/archivo.txt\n",
            "Creando archivos Datos/Conjunto_6/archivo_46.txt\n",
            "Creando archivo de control Datos/Conjunto_6/archivo.txt\n",
            "Creando archivos Datos/Conjunto_7/archivo_35.txt\n",
            "Creando archivo de control Datos/Conjunto_7/archivo.txt\n",
            "Creando archivos Datos/Conjunto_8/archivo_11.txt\n",
            "Creando archivo de control Datos/Conjunto_8/archivo.txt\n",
            "Creando archivos Datos/Conjunto_9/archivo_81.txt\n",
            "Creando archivo de control Datos/Conjunto_9/archivo.txt\n",
            "Creando archivos Datos/Conjunto_10/archivo_68.txt\n",
            "Creando archivo de control Datos/Conjunto_10/archivo.txt\n"
          ]
        }
      ]
    },
    {
      "cell_type": "code",
      "source": [
        "!ls $carpeta_principal/Conjunto_1*"
      ],
      "metadata": {
        "id": "sTEiMahePIQh",
        "colab": {
          "base_uri": "https://localhost:8080/"
        },
        "outputId": "9d01dd64-6df8-4a2d-e154-7c7250a8a690"
      },
      "execution_count": 48,
      "outputs": [
        {
          "output_type": "stream",
          "name": "stdout",
          "text": [
            "Datos/Conjunto_1:\n",
            "archivo_14.txt\tarchivo_33.txt\tarchivo_96.txt\n",
            "archivo_24.txt\tarchivo_59.txt\tarchivo.txt\n",
            "\n",
            "Datos/Conjunto_10:\n",
            "archivo_49.txt\tarchivo_68.txt\tarchivo_75.txt\n",
            "archivo_62.txt\tarchivo_72.txt\tarchivo.txt\n",
            "\n",
            "Datos/Conjunto_11:\n",
            "\n",
            "Datos/Conjunto_12:\n",
            "\n",
            "Datos/Conjunto_13:\n",
            "\n",
            "Datos/Conjunto_14:\n",
            "\n",
            "Datos/Conjunto_15:\n",
            "\n",
            "Datos/Conjunto_16:\n",
            "\n",
            "Datos/Conjunto_17:\n",
            "\n",
            "Datos/Conjunto_18:\n",
            "\n",
            "Datos/Conjunto_19:\n"
          ]
        }
      ]
    },
    {
      "cell_type": "code",
      "source": [
        "# queremos escoger un sub-conjunto de los datos (escoger carpetas especificas)\n",
        "indices = [0,3,7,30,9]\n",
        "\n",
        "for i in indices:\n",
        "  folder = os.path.join(carpeta_principal, f'Conjunto_{i}')\n",
        "  print(folder)\n",
        "\n",
        "  if not os.path.exists(folder):\n",
        "    print(f'La carpeta {folder} no existe')\n",
        "    continue\n",
        "\n",
        "  # Preparamos para descargar\n",
        "  zip_base = f'conjunto_{i}'\n",
        "  shutil.make_archive(zip_base, 'zip', folder)\n",
        "  files.download(f'{zip_base}.zip')\n",
        "  print(f'Descargando {zip_base}')"
      ],
      "metadata": {
        "colab": {
          "base_uri": "https://localhost:8080/",
          "height": 195
        },
        "id": "Apzj8yRTkgMG",
        "outputId": "697be421-64db-432d-86bc-86549207ed79"
      },
      "execution_count": 49,
      "outputs": [
        {
          "output_type": "stream",
          "name": "stdout",
          "text": [
            "Datos/Conjunto_0\n",
            "La carpeta Datos/Conjunto_0 no existe\n",
            "Datos/Conjunto_3\n"
          ]
        },
        {
          "output_type": "display_data",
          "data": {
            "text/plain": [
              "<IPython.core.display.Javascript object>"
            ],
            "application/javascript": [
              "\n",
              "    async function download(id, filename, size) {\n",
              "      if (!google.colab.kernel.accessAllowed) {\n",
              "        return;\n",
              "      }\n",
              "      const div = document.createElement('div');\n",
              "      const label = document.createElement('label');\n",
              "      label.textContent = `Downloading \"${filename}\": `;\n",
              "      div.appendChild(label);\n",
              "      const progress = document.createElement('progress');\n",
              "      progress.max = size;\n",
              "      div.appendChild(progress);\n",
              "      document.body.appendChild(div);\n",
              "\n",
              "      const buffers = [];\n",
              "      let downloaded = 0;\n",
              "\n",
              "      const channel = await google.colab.kernel.comms.open(id);\n",
              "      // Send a message to notify the kernel that we're ready.\n",
              "      channel.send({})\n",
              "\n",
              "      for await (const message of channel.messages) {\n",
              "        // Send a message to notify the kernel that we're ready.\n",
              "        channel.send({})\n",
              "        if (message.buffers) {\n",
              "          for (const buffer of message.buffers) {\n",
              "            buffers.push(buffer);\n",
              "            downloaded += buffer.byteLength;\n",
              "            progress.value = downloaded;\n",
              "          }\n",
              "        }\n",
              "      }\n",
              "      const blob = new Blob(buffers, {type: 'application/binary'});\n",
              "      const a = document.createElement('a');\n",
              "      a.href = window.URL.createObjectURL(blob);\n",
              "      a.download = filename;\n",
              "      div.appendChild(a);\n",
              "      a.click();\n",
              "      div.remove();\n",
              "    }\n",
              "  "
            ]
          },
          "metadata": {}
        },
        {
          "output_type": "display_data",
          "data": {
            "text/plain": [
              "<IPython.core.display.Javascript object>"
            ],
            "application/javascript": [
              "download(\"download_9ea0dcf3-0961-4d99-84b1-2f3a1ba619bb\", \"conjunto_3.zip\", 793)"
            ]
          },
          "metadata": {}
        },
        {
          "output_type": "stream",
          "name": "stdout",
          "text": [
            "Descargando conjunto_3\n",
            "Datos/Conjunto_7\n"
          ]
        },
        {
          "output_type": "display_data",
          "data": {
            "text/plain": [
              "<IPython.core.display.Javascript object>"
            ],
            "application/javascript": [
              "\n",
              "    async function download(id, filename, size) {\n",
              "      if (!google.colab.kernel.accessAllowed) {\n",
              "        return;\n",
              "      }\n",
              "      const div = document.createElement('div');\n",
              "      const label = document.createElement('label');\n",
              "      label.textContent = `Downloading \"${filename}\": `;\n",
              "      div.appendChild(label);\n",
              "      const progress = document.createElement('progress');\n",
              "      progress.max = size;\n",
              "      div.appendChild(progress);\n",
              "      document.body.appendChild(div);\n",
              "\n",
              "      const buffers = [];\n",
              "      let downloaded = 0;\n",
              "\n",
              "      const channel = await google.colab.kernel.comms.open(id);\n",
              "      // Send a message to notify the kernel that we're ready.\n",
              "      channel.send({})\n",
              "\n",
              "      for await (const message of channel.messages) {\n",
              "        // Send a message to notify the kernel that we're ready.\n",
              "        channel.send({})\n",
              "        if (message.buffers) {\n",
              "          for (const buffer of message.buffers) {\n",
              "            buffers.push(buffer);\n",
              "            downloaded += buffer.byteLength;\n",
              "            progress.value = downloaded;\n",
              "          }\n",
              "        }\n",
              "      }\n",
              "      const blob = new Blob(buffers, {type: 'application/binary'});\n",
              "      const a = document.createElement('a');\n",
              "      a.href = window.URL.createObjectURL(blob);\n",
              "      a.download = filename;\n",
              "      div.appendChild(a);\n",
              "      a.click();\n",
              "      div.remove();\n",
              "    }\n",
              "  "
            ]
          },
          "metadata": {}
        },
        {
          "output_type": "display_data",
          "data": {
            "text/plain": [
              "<IPython.core.display.Javascript object>"
            ],
            "application/javascript": [
              "download(\"download_402b988d-5505-4c32-80a7-f6e7608c617f\", \"conjunto_7.zip\", 790)"
            ]
          },
          "metadata": {}
        },
        {
          "output_type": "stream",
          "name": "stdout",
          "text": [
            "Descargando conjunto_7\n",
            "Datos/Conjunto_30\n"
          ]
        },
        {
          "output_type": "display_data",
          "data": {
            "text/plain": [
              "<IPython.core.display.Javascript object>"
            ],
            "application/javascript": [
              "\n",
              "    async function download(id, filename, size) {\n",
              "      if (!google.colab.kernel.accessAllowed) {\n",
              "        return;\n",
              "      }\n",
              "      const div = document.createElement('div');\n",
              "      const label = document.createElement('label');\n",
              "      label.textContent = `Downloading \"${filename}\": `;\n",
              "      div.appendChild(label);\n",
              "      const progress = document.createElement('progress');\n",
              "      progress.max = size;\n",
              "      div.appendChild(progress);\n",
              "      document.body.appendChild(div);\n",
              "\n",
              "      const buffers = [];\n",
              "      let downloaded = 0;\n",
              "\n",
              "      const channel = await google.colab.kernel.comms.open(id);\n",
              "      // Send a message to notify the kernel that we're ready.\n",
              "      channel.send({})\n",
              "\n",
              "      for await (const message of channel.messages) {\n",
              "        // Send a message to notify the kernel that we're ready.\n",
              "        channel.send({})\n",
              "        if (message.buffers) {\n",
              "          for (const buffer of message.buffers) {\n",
              "            buffers.push(buffer);\n",
              "            downloaded += buffer.byteLength;\n",
              "            progress.value = downloaded;\n",
              "          }\n",
              "        }\n",
              "      }\n",
              "      const blob = new Blob(buffers, {type: 'application/binary'});\n",
              "      const a = document.createElement('a');\n",
              "      a.href = window.URL.createObjectURL(blob);\n",
              "      a.download = filename;\n",
              "      div.appendChild(a);\n",
              "      a.click();\n",
              "      div.remove();\n",
              "    }\n",
              "  "
            ]
          },
          "metadata": {}
        },
        {
          "output_type": "display_data",
          "data": {
            "text/plain": [
              "<IPython.core.display.Javascript object>"
            ],
            "application/javascript": [
              "download(\"download_6419af35-9b58-4d97-a369-86708ea59022\", \"conjunto_30.zip\", 22)"
            ]
          },
          "metadata": {}
        },
        {
          "output_type": "stream",
          "name": "stdout",
          "text": [
            "Descargando conjunto_30\n",
            "Datos/Conjunto_9\n"
          ]
        },
        {
          "output_type": "display_data",
          "data": {
            "text/plain": [
              "<IPython.core.display.Javascript object>"
            ],
            "application/javascript": [
              "\n",
              "    async function download(id, filename, size) {\n",
              "      if (!google.colab.kernel.accessAllowed) {\n",
              "        return;\n",
              "      }\n",
              "      const div = document.createElement('div');\n",
              "      const label = document.createElement('label');\n",
              "      label.textContent = `Downloading \"${filename}\": `;\n",
              "      div.appendChild(label);\n",
              "      const progress = document.createElement('progress');\n",
              "      progress.max = size;\n",
              "      div.appendChild(progress);\n",
              "      document.body.appendChild(div);\n",
              "\n",
              "      const buffers = [];\n",
              "      let downloaded = 0;\n",
              "\n",
              "      const channel = await google.colab.kernel.comms.open(id);\n",
              "      // Send a message to notify the kernel that we're ready.\n",
              "      channel.send({})\n",
              "\n",
              "      for await (const message of channel.messages) {\n",
              "        // Send a message to notify the kernel that we're ready.\n",
              "        channel.send({})\n",
              "        if (message.buffers) {\n",
              "          for (const buffer of message.buffers) {\n",
              "            buffers.push(buffer);\n",
              "            downloaded += buffer.byteLength;\n",
              "            progress.value = downloaded;\n",
              "          }\n",
              "        }\n",
              "      }\n",
              "      const blob = new Blob(buffers, {type: 'application/binary'});\n",
              "      const a = document.createElement('a');\n",
              "      a.href = window.URL.createObjectURL(blob);\n",
              "      a.download = filename;\n",
              "      div.appendChild(a);\n",
              "      a.click();\n",
              "      div.remove();\n",
              "    }\n",
              "  "
            ]
          },
          "metadata": {}
        },
        {
          "output_type": "display_data",
          "data": {
            "text/plain": [
              "<IPython.core.display.Javascript object>"
            ],
            "application/javascript": [
              "download(\"download_ea982d36-398d-4b9a-9343-86eb4912d66a\", \"conjunto_9.zip\", 793)"
            ]
          },
          "metadata": {}
        },
        {
          "output_type": "stream",
          "name": "stdout",
          "text": [
            "Descargando conjunto_9\n"
          ]
        }
      ]
    },
    {
      "cell_type": "code",
      "source": [
        "# DE los subniveles seleccionados querermos una informacion especifica"
      ],
      "metadata": {
        "id": "BvFTKYztlVqE"
      },
      "execution_count": null,
      "outputs": []
    },
    {
      "cell_type": "code",
      "source": [
        "indices = [3,7,5,9]\n",
        "archivos = ['archivo.txt'] # El archivo que necesito descargar\n",
        "\n",
        "zip_path = \"subconjunto_archivos.zip\"\n",
        "\n",
        "with zipfile.ZipFile(zip_path, 'w', zipfile.ZIP_DEFLATED) as z:\n",
        "  # El archivo zip esta listo\n",
        "  for i in indices:\n",
        "    folder = os.path.join(carpeta_principal, f'Conjunto_{i}')\n",
        "    print(folder)\n",
        "\n",
        "    if not os.path.exists(folder):\n",
        "      print(f'La carpeta {folder} no existe')\n",
        "      continue"
      ],
      "metadata": {
        "id": "6U5FvjktnbmC",
        "colab": {
          "base_uri": "https://localhost:8080/"
        },
        "outputId": "667fa687-8f18-427f-ec67-f9c079b41ed5"
      },
      "execution_count": 51,
      "outputs": [
        {
          "output_type": "stream",
          "name": "stdout",
          "text": [
            "Datos/Conjunto_3\n",
            "Datos/Conjunto_7\n",
            "Datos/Conjunto_5\n",
            "Datos/Conjunto_9\n"
          ]
        }
      ]
    },
    {
      "cell_type": "code",
      "source": [],
      "metadata": {
        "id": "UcHRDL95pFw0"
      },
      "execution_count": null,
      "outputs": []
    }
  ]
}