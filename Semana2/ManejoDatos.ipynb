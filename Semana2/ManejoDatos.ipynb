{
  "nbformat": 4,
  "nbformat_minor": 0,
  "metadata": {
    "colab": {
      "provenance": [],
      "authorship_tag": "ABX9TyOEK9GBn9dBD+OrOIWulMtD",
      "include_colab_link": true
    },
    "kernelspec": {
      "name": "python3",
      "display_name": "Python 3"
    },
    "language_info": {
      "name": "python"
    }
  },
  "cells": [
    {
      "cell_type": "markdown",
      "metadata": {
        "id": "view-in-github",
        "colab_type": "text"
      },
      "source": [
        "<a href=\"https://colab.research.google.com/github/asegura4488/CienciaDatos/blob/main/Semana2/ManejoDatos.ipynb\" target=\"_parent\"><img src=\"https://colab.research.google.com/assets/colab-badge.svg\" alt=\"Open In Colab\"/></a>"
      ]
    },
    {
      "cell_type": "code",
      "execution_count": 43,
      "metadata": {
        "colab": {
          "base_uri": "https://localhost:8080/"
        },
        "id": "xpc9ZknH9XuN",
        "outputId": "986217cc-0b55-48b3-b99c-071093dd8f2a"
      },
      "outputs": [
        {
          "output_type": "stream",
          "name": "stdout",
          "text": [
            "Mounted at /content/drive\n"
          ]
        }
      ],
      "source": [
        "import os\n",
        "import random\n",
        "import shutil\n",
        "import zipfile\n",
        "from google.colab import drive\n",
        "from google.colab import files\n",
        "drive.mount('/content/drive', force_remount=True)"
      ]
    },
    {
      "cell_type": "code",
      "source": [
        "os.chdir('/content/drive/MyDrive/ColabNotebooks/Cursos/CursoCienciaDatos/Semana2')\n",
        "!ls"
      ],
      "metadata": {
        "id": "Kgm_FrEO_nIm",
        "colab": {
          "base_uri": "https://localhost:8080/"
        },
        "outputId": "ec040e34-7b00-4b8a-df5f-ca538ba7071e"
      },
      "execution_count": 44,
      "outputs": [
        {
          "output_type": "stream",
          "name": "stdout",
          "text": [
            "conjunto_1.zip\t conjunto_3.zip  conjunto_9.zip  ManejoDatos\n",
            "conjunto_30.zip  conjunto_7.zip  Datos\n"
          ]
        }
      ]
    },
    {
      "cell_type": "code",
      "source": [
        "carpeta_principal = \"Datos\"\n",
        "os.makedirs(carpeta_principal, exist_ok=True) # Crea la carpeta si no existe"
      ],
      "metadata": {
        "id": "KgNVOJfD9nxD"
      },
      "execution_count": 45,
      "outputs": []
    },
    {
      "cell_type": "code",
      "source": [
        "# Crear 10 sub-directorios\n",
        "for i in range(1, 11):\n",
        "  sub_carpeta = os.path.join(carpeta_principal, f\"Conjunto_{i}\")\n",
        "  os.makedirs(sub_carpeta, exist_ok=True)"
      ],
      "metadata": {
        "id": "cG47aU2c9x_A"
      },
      "execution_count": 46,
      "outputs": []
    },
    {
      "cell_type": "code",
      "source": [
        "# Vamos a crear un archivo en las primeras 10\n",
        "for i in range(1, 11):\n",
        "  sub_carpeta = os.path.join(carpeta_principal, f\"Conjunto_{i}\")\n",
        "\n",
        "  # Vamos a crear un numero aleatorio\n",
        "  numero = random.randint(1, 100)\n",
        "\n",
        "  archivo = os.path.join(sub_carpeta, f\"archivo_{numero}.txt\")\n",
        "  # Adicional voy a poner un archivo, sin numero\n",
        "  archivo1 = os.path.join(sub_carpeta, f\"archivo.txt\")\n",
        "\n",
        "  # Escribimos la informacion\n",
        "  with open(archivo, \"w\") as f:\n",
        "    f.write(f\"Contenido del archivo {numero}\")\n",
        "\n",
        "  with open(archivo1, \"w\") as f:\n",
        "    f.write(f\"Contenido del archivo\")\n",
        "\n",
        "  print(f'Creando archivos {archivo}')\n",
        "  print(f'Creando archivo de control {archivo1}')\n",
        "\n",
        "  #print(sub_carpeta,archivo,archivo1)"
      ],
      "metadata": {
        "id": "mnhsagMX9zpA",
        "colab": {
          "base_uri": "https://localhost:8080/"
        },
        "outputId": "678873fd-a1b3-4c2d-fd8b-8bb32ed546a3"
      },
      "execution_count": 47,
      "outputs": [
        {
          "output_type": "stream",
          "name": "stdout",
          "text": [
            "Creando archivos Datos/Conjunto_1/archivo_24.txt\n",
            "Creando archivo de control Datos/Conjunto_1/archivo.txt\n",
            "Creando archivos Datos/Conjunto_2/archivo_83.txt\n",
            "Creando archivo de control Datos/Conjunto_2/archivo.txt\n",
            "Creando archivos Datos/Conjunto_3/archivo_23.txt\n",
            "Creando archivo de control Datos/Conjunto_3/archivo.txt\n",
            "Creando archivos Datos/Conjunto_4/archivo_14.txt\n",
            "Creando archivo de control Datos/Conjunto_4/archivo.txt\n",
            "Creando archivos Datos/Conjunto_5/archivo_70.txt\n",
            "Creando archivo de control Datos/Conjunto_5/archivo.txt\n",
            "Creando archivos Datos/Conjunto_6/archivo_46.txt\n",
            "Creando archivo de control Datos/Conjunto_6/archivo.txt\n",
            "Creando archivos Datos/Conjunto_7/archivo_35.txt\n",
            "Creando archivo de control Datos/Conjunto_7/archivo.txt\n",
            "Creando archivos Datos/Conjunto_8/archivo_11.txt\n",
            "Creando archivo de control Datos/Conjunto_8/archivo.txt\n",
            "Creando archivos Datos/Conjunto_9/archivo_81.txt\n",
            "Creando archivo de control Datos/Conjunto_9/archivo.txt\n",
            "Creando archivos Datos/Conjunto_10/archivo_68.txt\n",
            "Creando archivo de control Datos/Conjunto_10/archivo.txt\n"
          ]
        }
      ]
    },
    {
      "cell_type": "code",
      "source": [
        "!ls $carpeta_principal/Conjunto_1*"
      ],
      "metadata": {
        "id": "sTEiMahePIQh",
        "colab": {
          "base_uri": "https://localhost:8080/"
        },
        "outputId": "9d01dd64-6df8-4a2d-e154-7c7250a8a690"
      },
      "execution_count": 48,
      "outputs": [
        {
          "output_type": "stream",
          "name": "stdout",
          "text": [
            "Datos/Conjunto_1:\n",
            "archivo_14.txt\tarchivo_33.txt\tarchivo_96.txt\n",
            "archivo_24.txt\tarchivo_59.txt\tarchivo.txt\n",
            "\n",
            "Datos/Conjunto_10:\n",
            "archivo_49.txt\tarchivo_68.txt\tarchivo_75.txt\n",
            "archivo_62.txt\tarchivo_72.txt\tarchivo.txt\n",
            "\n",
            "Datos/Conjunto_11:\n",
            "\n",
            "Datos/Conjunto_12:\n",
            "\n",
            "Datos/Conjunto_13:\n",
            "\n",
            "Datos/Conjunto_14:\n",
            "\n",
            "Datos/Conjunto_15:\n",
            "\n",
            "Datos/Conjunto_16:\n",
            "\n",
            "Datos/Conjunto_17:\n",
            "\n",
            "Datos/Conjunto_18:\n",
            "\n",
            "Datos/Conjunto_19:\n"
          ]
        }
      ]
    },
    {
      "cell_type": "code",
      "source": [
        "# queremos escoger un sub-conjunto de los datos (escoger carpetas especificas)\n",
        "indices = [0,3,7,30,9]\n",
        "\n",
        "for i in indices:\n",
        "  folder = os.path.join(carpeta_principal, f'Conjunto_{i}')\n",
        "  print(folder)\n",
        "\n",
        "  if not os.path.exists(folder):\n",
        "    print(f'La carpeta {folder} no existe')\n",
        "    continue\n",
        "\n",
        "  # Preparamos para descargar\n",
        "  zip_base = f'conjunto_{i}'\n",
        "  shutil.make_archive(zip_base, 'zip', folder)\n",
        "  files.download(f'{zip_base}.zip')\n",
        "  print(f'Descargando {zip_base}')"
      ],
      "metadata": {
        "colab": {
          "base_uri": "https://localhost:8080/",
          "height": 195
        },
        "id": "Apzj8yRTkgMG",
        "outputId": "697be421-64db-432d-86bc-86549207ed79"
      },
      "execution_count": 49,
      "outputs": [
        {
          "output_type": "stream",
          "name": "stdout",
          "text": [
            "Datos/Conjunto_0\n",
            "La carpeta Datos/Conjunto_0 no existe\n",
            "Datos/Conjunto_3\n"
          ]
        },
        {
          "output_type": "display_data",
          "data": {
            "text/plain": [
              "<IPython.core.display.Javascript object>"
            ],
            "application/javascript": [
              "\n",
              "    async function download(id, filename, size) {\n",
              "      if (!google.colab.kernel.accessAllowed) {\n",
              "        return;\n",
              "      }\n",
              "      const div = document.createElement('div');\n",
              "      const label = document.createElement('label');\n",
              "      label.textContent = `Downloading \"${filename}\": `;\n",
              "      div.appendChild(label);\n",
              "      const progress = document.createElement('progress');\n",
              "      progress.max = size;\n",
              "      div.appendChild(progress);\n",
              "      document.body.appendChild(div);\n",
              "\n",
              "      const buffers = [];\n",
              "      let downloaded = 0;\n",
              "\n",
              "      const channel = await google.colab.kernel.comms.open(id);\n",
              "      // Send a message to notify the kernel that we're ready.\n",
              "      channel.send({})\n",
              "\n",
              "      for await (const message of channel.messages) {\n",
              "        // Send a message to notify the kernel that we're ready.\n",
              "        channel.send({})\n",
              "        if (message.buffers) {\n",
              "          for (const buffer of message.buffers) {\n",
              "            buffers.push(buffer);\n",
              "            downloaded += buffer.byteLength;\n",
              "            progress.value = downloaded;\n",
              "          }\n",
              "        }\n",
              "      }\n",
              "      const blob = new Blob(buffers, {type: 'application/binary'});\n",
              "      const a = document.createElement('a');\n",
              "      a.href = window.URL.createObjectURL(blob);\n",
              "      a.download = filename;\n",
              "      div.appendChild(a);\n",
              "      a.click();\n",
              "      div.remove();\n",
              "    }\n",
              "  "
            ]
          },
          "metadata": {}
        },
        {
          "output_type": "display_data",
          "data": {
            "text/plain": [
              "<IPython.core.display.Javascript object>"
            ],
            "application/javascript": [
              "download(\"download_9ea0dcf3-0961-4d99-84b1-2f3a1ba619bb\", \"conjunto_3.zip\", 793)"
            ]
          },
          "metadata": {}
        },
        {
          "output_type": "stream",
          "name": "stdout",
          "text": [
            "Descargando conjunto_3\n",
            "Datos/Conjunto_7\n"
          ]
        },
        {
          "output_type": "display_data",
          "data": {
            "text/plain": [
              "<IPython.core.display.Javascript object>"
            ],
            "application/javascript": [
              "\n",
              "    async function download(id, filename, size) {\n",
              "      if (!google.colab.kernel.accessAllowed) {\n",
              "        return;\n",
              "      }\n",
              "      const div = document.createElement('div');\n",
              "      const label = document.createElement('label');\n",
              "      label.textContent = `Downloading \"${filename}\": `;\n",
              "      div.appendChild(label);\n",
              "      const progress = document.createElement('progress');\n",
              "      progress.max = size;\n",
              "      div.appendChild(progress);\n",
              "      document.body.appendChild(div);\n",
              "\n",
              "      const buffers = [];\n",
              "      let downloaded = 0;\n",
              "\n",
              "      const channel = await google.colab.kernel.comms.open(id);\n",
              "      // Send a message to notify the kernel that we're ready.\n",
              "      channel.send({})\n",
              "\n",
              "      for await (const message of channel.messages) {\n",
              "        // Send a message to notify the kernel that we're ready.\n",
              "        channel.send({})\n",
              "        if (message.buffers) {\n",
              "          for (const buffer of message.buffers) {\n",
              "            buffers.push(buffer);\n",
              "            downloaded += buffer.byteLength;\n",
              "            progress.value = downloaded;\n",
              "          }\n",
              "        }\n",
              "      }\n",
              "      const blob = new Blob(buffers, {type: 'application/binary'});\n",
              "      const a = document.createElement('a');\n",
              "      a.href = window.URL.createObjectURL(blob);\n",
              "      a.download = filename;\n",
              "      div.appendChild(a);\n",
              "      a.click();\n",
              "      div.remove();\n",
              "    }\n",
              "  "
            ]
          },
          "metadata": {}
        },
        {
          "output_type": "display_data",
          "data": {
            "text/plain": [
              "<IPython.core.display.Javascript object>"
            ],
            "application/javascript": [
              "download(\"download_402b988d-5505-4c32-80a7-f6e7608c617f\", \"conjunto_7.zip\", 790)"
            ]
          },
          "metadata": {}
        },
        {
          "output_type": "stream",
          "name": "stdout",
          "text": [
            "Descargando conjunto_7\n",
            "Datos/Conjunto_30\n"
          ]
        },
        {
          "output_type": "display_data",
          "data": {
            "text/plain": [
              "<IPython.core.display.Javascript object>"
            ],
            "application/javascript": [
              "\n",
              "    async function download(id, filename, size) {\n",
              "      if (!google.colab.kernel.accessAllowed) {\n",
              "        return;\n",
              "      }\n",
              "      const div = document.createElement('div');\n",
              "      const label = document.createElement('label');\n",
              "      label.textContent = `Downloading \"${filename}\": `;\n",
              "      div.appendChild(label);\n",
              "      const progress = document.createElement('progress');\n",
              "      progress.max = size;\n",
              "      div.appendChild(progress);\n",
              "      document.body.appendChild(div);\n",
              "\n",
              "      const buffers = [];\n",
              "      let downloaded = 0;\n",
              "\n",
              "      const channel = await google.colab.kernel.comms.open(id);\n",
              "      // Send a message to notify the kernel that we're ready.\n",
              "      channel.send({})\n",
              "\n",
              "      for await (const message of channel.messages) {\n",
              "        // Send a message to notify the kernel that we're ready.\n",
              "        channel.send({})\n",
              "        if (message.buffers) {\n",
              "          for (const buffer of message.buffers) {\n",
              "            buffers.push(buffer);\n",
              "            downloaded += buffer.byteLength;\n",
              "            progress.value = downloaded;\n",
              "          }\n",
              "        }\n",
              "      }\n",
              "      const blob = new Blob(buffers, {type: 'application/binary'});\n",
              "      const a = document.createElement('a');\n",
              "      a.href = window.URL.createObjectURL(blob);\n",
              "      a.download = filename;\n",
              "      div.appendChild(a);\n",
              "      a.click();\n",
              "      div.remove();\n",
              "    }\n",
              "  "
            ]
          },
          "metadata": {}
        },
        {
          "output_type": "display_data",
          "data": {
            "text/plain": [
              "<IPython.core.display.Javascript object>"
            ],
            "application/javascript": [
              "download(\"download_6419af35-9b58-4d97-a369-86708ea59022\", \"conjunto_30.zip\", 22)"
            ]
          },
          "metadata": {}
        },
        {
          "output_type": "stream",
          "name": "stdout",
          "text": [
            "Descargando conjunto_30\n",
            "Datos/Conjunto_9\n"
          ]
        },
        {
          "output_type": "display_data",
          "data": {
            "text/plain": [
              "<IPython.core.display.Javascript object>"
            ],
            "application/javascript": [
              "\n",
              "    async function download(id, filename, size) {\n",
              "      if (!google.colab.kernel.accessAllowed) {\n",
              "        return;\n",
              "      }\n",
              "      const div = document.createElement('div');\n",
              "      const label = document.createElement('label');\n",
              "      label.textContent = `Downloading \"${filename}\": `;\n",
              "      div.appendChild(label);\n",
              "      const progress = document.createElement('progress');\n",
              "      progress.max = size;\n",
              "      div.appendChild(progress);\n",
              "      document.body.appendChild(div);\n",
              "\n",
              "      const buffers = [];\n",
              "      let downloaded = 0;\n",
              "\n",
              "      const channel = await google.colab.kernel.comms.open(id);\n",
              "      // Send a message to notify the kernel that we're ready.\n",
              "      channel.send({})\n",
              "\n",
              "      for await (const message of channel.messages) {\n",
              "        // Send a message to notify the kernel that we're ready.\n",
              "        channel.send({})\n",
              "        if (message.buffers) {\n",
              "          for (const buffer of message.buffers) {\n",
              "            buffers.push(buffer);\n",
              "            downloaded += buffer.byteLength;\n",
              "            progress.value = downloaded;\n",
              "          }\n",
              "        }\n",
              "      }\n",
              "      const blob = new Blob(buffers, {type: 'application/binary'});\n",
              "      const a = document.createElement('a');\n",
              "      a.href = window.URL.createObjectURL(blob);\n",
              "      a.download = filename;\n",
              "      div.appendChild(a);\n",
              "      a.click();\n",
              "      div.remove();\n",
              "    }\n",
              "  "
            ]
          },
          "metadata": {}
        },
        {
          "output_type": "display_data",
          "data": {
            "text/plain": [
              "<IPython.core.display.Javascript object>"
            ],
            "application/javascript": [
              "download(\"download_ea982d36-398d-4b9a-9343-86eb4912d66a\", \"conjunto_9.zip\", 793)"
            ]
          },
          "metadata": {}
        },
        {
          "output_type": "stream",
          "name": "stdout",
          "text": [
            "Descargando conjunto_9\n"
          ]
        }
      ]
    },
    {
      "cell_type": "code",
      "source": [
        "# DE los subniveles seleccionados querermos una informacion especifica"
      ],
      "metadata": {
        "id": "BvFTKYztlVqE"
      },
      "execution_count": null,
      "outputs": []
    },
    {
      "cell_type": "code",
      "source": [
        "indices = [3,7,5,9]\n",
        "archivos = ['archivo.txt','Modelo.pdf'] # El archivo que necesito descargar\n",
        "\n",
        "zip_path = \"subconjunto_archivos.zip\"\n",
        "\n",
        "with zipfile.ZipFile(zip_path, 'w', zipfile.ZIP_DEFLATED) as z:\n",
        "  # El archivo zip esta listo\n",
        "  for i in indices:\n",
        "    folder = os.path.join(carpeta_principal, f'Conjunto_{i}')\n",
        "    print(folder)\n",
        "\n",
        "    # Te preguntas si existe\n",
        "    if not os.path.exists(folder):\n",
        "      print(f'La carpeta {folder} no existe')\n",
        "      continue\n",
        "\n",
        "    # Que archivos quieres guardar\n",
        "    for archivo in archivos:\n",
        "      archivo_path = os.path.join(folder, archivo)\n",
        "      print(archivo_path)\n",
        "\n",
        "\n",
        "      # Escribimos en el zip\n",
        "      if os.path.exists(archivo_path):\n",
        "        z.write(archivo_path, os.path.relpath(archivo_path, carpeta_principal))\n",
        "        print(f'Agregando {archivo_path} al zip')\n",
        "\n",
        "files.download(zip_path)\n",
        "print(f'Descargando {zip_path}')"
      ],
      "metadata": {
        "id": "6U5FvjktnbmC",
        "colab": {
          "base_uri": "https://localhost:8080/",
          "height": 390
        },
        "outputId": "3b0bd358-7643-4837-f2f6-3b57f0320f14"
      },
      "execution_count": 98,
      "outputs": [
        {
          "output_type": "stream",
          "name": "stdout",
          "text": [
            "Datos/Conjunto_3\n",
            "Datos/Conjunto_3/archivo.txt\n",
            "Agregando Datos/Conjunto_3/archivo.txt al zip\n",
            "Datos/Conjunto_3/Modelo.pdf\n",
            "Agregando Datos/Conjunto_3/Modelo.pdf al zip\n",
            "Datos/Conjunto_7\n",
            "Datos/Conjunto_7/archivo.txt\n",
            "Agregando Datos/Conjunto_7/archivo.txt al zip\n",
            "Datos/Conjunto_7/Modelo.pdf\n",
            "Agregando Datos/Conjunto_7/Modelo.pdf al zip\n",
            "Datos/Conjunto_5\n",
            "Datos/Conjunto_5/archivo.txt\n",
            "Agregando Datos/Conjunto_5/archivo.txt al zip\n",
            "Datos/Conjunto_5/Modelo.pdf\n",
            "Agregando Datos/Conjunto_5/Modelo.pdf al zip\n",
            "Datos/Conjunto_9\n",
            "Datos/Conjunto_9/archivo.txt\n",
            "Agregando Datos/Conjunto_9/archivo.txt al zip\n",
            "Datos/Conjunto_9/Modelo.pdf\n",
            "Agregando Datos/Conjunto_9/Modelo.pdf al zip\n"
          ]
        },
        {
          "output_type": "display_data",
          "data": {
            "text/plain": [
              "<IPython.core.display.Javascript object>"
            ],
            "application/javascript": [
              "\n",
              "    async function download(id, filename, size) {\n",
              "      if (!google.colab.kernel.accessAllowed) {\n",
              "        return;\n",
              "      }\n",
              "      const div = document.createElement('div');\n",
              "      const label = document.createElement('label');\n",
              "      label.textContent = `Downloading \"${filename}\": `;\n",
              "      div.appendChild(label);\n",
              "      const progress = document.createElement('progress');\n",
              "      progress.max = size;\n",
              "      div.appendChild(progress);\n",
              "      document.body.appendChild(div);\n",
              "\n",
              "      const buffers = [];\n",
              "      let downloaded = 0;\n",
              "\n",
              "      const channel = await google.colab.kernel.comms.open(id);\n",
              "      // Send a message to notify the kernel that we're ready.\n",
              "      channel.send({})\n",
              "\n",
              "      for await (const message of channel.messages) {\n",
              "        // Send a message to notify the kernel that we're ready.\n",
              "        channel.send({})\n",
              "        if (message.buffers) {\n",
              "          for (const buffer of message.buffers) {\n",
              "            buffers.push(buffer);\n",
              "            downloaded += buffer.byteLength;\n",
              "            progress.value = downloaded;\n",
              "          }\n",
              "        }\n",
              "      }\n",
              "      const blob = new Blob(buffers, {type: 'application/binary'});\n",
              "      const a = document.createElement('a');\n",
              "      a.href = window.URL.createObjectURL(blob);\n",
              "      a.download = filename;\n",
              "      div.appendChild(a);\n",
              "      a.click();\n",
              "      div.remove();\n",
              "    }\n",
              "  "
            ]
          },
          "metadata": {}
        },
        {
          "output_type": "display_data",
          "data": {
            "text/plain": [
              "<IPython.core.display.Javascript object>"
            ],
            "application/javascript": [
              "download(\"download_63c07644-c943-46ae-9296-1bf45d181211\", \"subconjunto_archivos.zip\", 32936)"
            ]
          },
          "metadata": {}
        },
        {
          "output_type": "stream",
          "name": "stdout",
          "text": [
            "Descargando subconjunto_archivos.zip\n"
          ]
        }
      ]
    },
    {
      "cell_type": "code",
      "source": [
        "# Vamos a crear una imagen, que es un funcion y puede cambiar de carpeta a carpeta\n",
        "import numpy as np\n",
        "import matplotlib.pyplot as plt"
      ],
      "metadata": {
        "id": "UcHRDL95pFw0"
      },
      "execution_count": 60,
      "outputs": []
    },
    {
      "cell_type": "code",
      "source": [
        "x = np.linspace(0,31,31)\n",
        "\n",
        "coef_base = [-0.1,2,0., 1]\n",
        "p = np.poly1d(coef_base)\n",
        "\n",
        "y = p(x)\n",
        "\n",
        "plt.figure(figsize=(5,5))\n",
        "plt.plot(x,y,label=f'$y={p}$')\n",
        "plt.xlabel('Días')\n",
        "plt.ylabel('Presupuesto')\n",
        "plt.legend(loc=0) # Mejorar las leyendas"
      ],
      "metadata": {
        "colab": {
          "base_uri": "https://localhost:8080/",
          "height": 483
        },
        "id": "2lqbq2OYtwsC",
        "outputId": "785aa09d-b7a6-4c77-dc40-b289ab87ec10"
      },
      "execution_count": 91,
      "outputs": [
        {
          "output_type": "execute_result",
          "data": {
            "text/plain": [
              "<matplotlib.legend.Legend at 0x7de3a4300440>"
            ]
          },
          "metadata": {},
          "execution_count": 91
        },
        {
          "output_type": "display_data",
          "data": {
            "text/plain": [
              "<Figure size 500x500 with 1 Axes>"
            ],
            "image/png": "[encoded data removed]"
          },
          "metadata": {}
        }
      ]
    },
    {
      "cell_type": "code",
      "source": [
        "# Quiero escribir un modelo en cada sub-carpeta (barrio, sub-part de la empresa)"
      ],
      "metadata": {
        "id": "vtihmZAQt6Ys"
      },
      "execution_count": 81,
      "outputs": []
    },
    {
      "cell_type": "code",
      "source": [
        "for i in range(1, 11):\n",
        "  folder = os.path.join(carpeta_principal, f'Conjunto_{i}')\n",
        "\n",
        "  if not os.path.exists(folder):\n",
        "    print(f'La carpeta {folder} no existe')\n",
        "    continue\n",
        "\n",
        "  # Ejemplo de clase, modelo polinomial\n",
        "  coefs = coef_base.copy()\n",
        "  coefs[0] = i/7\n",
        "  p = np.poly1d(coefs)\n",
        "  y = p(x)\n",
        "\n",
        "  # Zona de lectura de datos y pintado\n",
        "\n",
        "  print(folder)\n",
        "  print(p)\n",
        "\n",
        "  # Vamos a crear un modelo y la imagen del modelo\n",
        "  plt.figure(figsize=(5,5))\n",
        "  plt.plot(x,y,label=f'$y={p}$')\n",
        "  plt.xlabel('Días')\n",
        "  plt.ylabel('Presupuesto')\n",
        "  plt.tight_layout()\n",
        "  plt.legend(loc=0) # Mejorar las leyendas\n",
        "\n",
        "  # Guardar la imagen\n",
        "  out_path = os.path.join(folder, 'Modelo.pdf')\n",
        "  plt.savefig(out_path)\n",
        "  plt.close()\n",
        "  print(f'Guardando {out_path}')"
      ],
      "metadata": {
        "colab": {
          "base_uri": "https://localhost:8080/"
        },
        "id": "KaEFQ3KbwHe_",
        "outputId": "f3036f70-7218-4fce-8e4e-a292ad2d7f1e"
      },
      "execution_count": 95,
      "outputs": [
        {
          "output_type": "stream",
          "name": "stdout",
          "text": [
            "Datos/Conjunto_1\n",
            "        3     2\n",
            "0.1429 x + 2 x + 1\n",
            "Guardando Datos/Conjunto_1/Modelo.pdf\n",
            "Datos/Conjunto_2\n",
            "        3     2\n",
            "0.2857 x + 2 x + 1\n",
            "Guardando Datos/Conjunto_2/Modelo.pdf\n",
            "Datos/Conjunto_3\n",
            "        3     2\n",
            "0.4286 x + 2 x + 1\n",
            "Guardando Datos/Conjunto_3/Modelo.pdf\n",
            "Datos/Conjunto_4\n",
            "        3     2\n",
            "0.5714 x + 2 x + 1\n",
            "Guardando Datos/Conjunto_4/Modelo.pdf\n",
            "Datos/Conjunto_5\n",
            "        3     2\n",
            "0.7143 x + 2 x + 1\n",
            "Guardando Datos/Conjunto_5/Modelo.pdf\n",
            "Datos/Conjunto_6\n",
            "        3     2\n",
            "0.8571 x + 2 x + 1\n",
            "Guardando Datos/Conjunto_6/Modelo.pdf\n",
            "Datos/Conjunto_7\n",
            "   3     2\n",
            "1 x + 2 x + 1\n",
            "Guardando Datos/Conjunto_7/Modelo.pdf\n",
            "Datos/Conjunto_8\n",
            "       3     2\n",
            "1.143 x + 2 x + 1\n",
            "Guardando Datos/Conjunto_8/Modelo.pdf\n",
            "Datos/Conjunto_9\n",
            "       3     2\n",
            "1.286 x + 2 x + 1\n",
            "Guardando Datos/Conjunto_9/Modelo.pdf\n",
            "Datos/Conjunto_10\n",
            "       3     2\n",
            "1.429 x + 2 x + 1\n",
            "Guardando Datos/Conjunto_10/Modelo.pdf\n"
          ]
        }
      ]
    },
    {
      "cell_type": "code",
      "source": [
        "for i in range(1, 11):\n",
        "  coefs = coef_base.copy()\n",
        "  coefs[0] = i/7\n",
        "  p = np.poly1d(coefs)\n",
        "  y = p(x)\n",
        "  plt.plot(x,y)"
      ],
      "metadata": {
        "colab": {
          "base_uri": "https://localhost:8080/",
          "height": 430
        },
        "id": "fKV1s67PwbcD",
        "outputId": "b1dff995-c617-495c-b918-3a7b39aa783c"
      },
      "execution_count": 99,
      "outputs": [
        {
          "output_type": "display_data",
          "data": {
            "text/plain": [
              "<Figure size 640x480 with 1 Axes>"
            ],
            "image/png": "[encoded data removed]"
          },
          "metadata": {}
        }
      ]
    },
    {
      "cell_type": "code",
      "source": [
        "#Finalmente queremos generar un mapa entre las carpetas y divisionas en la empresa\n",
        "mapa = {\n",
        "    1: \"ventas\",\n",
        "    2: \"compras\",\n",
        "    3: \"inventario\",\n",
        "    4: \"produccion\",\n",
        "    5: \"marketing\",\n",
        "    6: \"recursos humanos\",\n",
        "    7: \"finanzas\",\n",
        "    8: \"logistica\",\n",
        "    9: \"calidad\",\n",
        "    10: \"compras\"\n",
        "}"
      ],
      "metadata": {
        "id": "IHIYVj7M0b18"
      },
      "execution_count": 100,
      "outputs": []
    },
    {
      "cell_type": "code",
      "source": [
        "mapa[1]"
      ],
      "metadata": {
        "colab": {
          "base_uri": "https://localhost:8080/",
          "height": 35
        },
        "id": "7qbVhyhZ1Je2",
        "outputId": "351c0ad2-dd68-4111-c1ee-7a77c3c67813"
      },
      "execution_count": 101,
      "outputs": [
        {
          "output_type": "execute_result",
          "data": {
            "text/plain": [
              "'ventas'"
            ],
            "application/vnd.google.colaboratory.intrinsic+json": {
              "type": "string"
            }
          },
          "metadata": {},
          "execution_count": 101
        }
      ]
    },
    {
      "cell_type": "code",
      "source": [
        "indices = ['ventas','inventario','produccion']\n",
        "\n",
        "archivos = ['archivo.txt','Modelo.pdf'] # El archivo que necesito descargar\n",
        "\n",
        "zip_path = \"subconjunto_archivos.zip\"\n",
        "\n",
        "with zipfile.ZipFile(zip_path, 'w', zipfile.ZIP_DEFLATED) as z:\n",
        "\n",
        "  # Lo que camia es el for loop\n",
        "  for i, nombre in mapa.items():\n",
        "    #print(i,nombre)\n",
        "\n",
        "    if nombre not in indices:\n",
        "      continue\n",
        "\n",
        "    folder = os.path.join(carpeta_principal, f'Conjunto_{i}')\n",
        "    print(folder)\n",
        "\n",
        "    # Te preguntas si existe\n",
        "    if not os.path.exists(folder):\n",
        "      print(f'La carpeta {folder} no existe')\n",
        "      continue\n",
        "\n",
        "    for fname in archivos:\n",
        "      archivo_path = os.path.join(folder, fname)\n",
        "      print(archivo_path)\n",
        "\n",
        "      if os.path.isfile(archivo_path):\n",
        "        z.write(archivo_path, os.path.relpath(archivo_path, carpeta_principal))\n",
        "        print(f'Agregando {archivo_path} al zip')\n",
        "\n",
        "files.download(zip_path)"
      ],
      "metadata": {
        "colab": {
          "base_uri": "https://localhost:8080/",
          "height": 284
        },
        "id": "cLQbSW0b1PsN",
        "outputId": "1b1b7f8d-4c40-4051-f620-670f15768729"
      },
      "execution_count": 107,
      "outputs": [
        {
          "output_type": "stream",
          "name": "stdout",
          "text": [
            "Datos/Conjunto_1\n",
            "Datos/Conjunto_1/archivo.txt\n",
            "Agregando Datos/Conjunto_1/archivo.txt al zip\n",
            "Datos/Conjunto_1/Modelo.pdf\n",
            "Agregando Datos/Conjunto_1/Modelo.pdf al zip\n",
            "Datos/Conjunto_3\n",
            "Datos/Conjunto_3/archivo.txt\n",
            "Agregando Datos/Conjunto_3/archivo.txt al zip\n",
            "Datos/Conjunto_3/Modelo.pdf\n",
            "Agregando Datos/Conjunto_3/Modelo.pdf al zip\n",
            "Datos/Conjunto_4\n",
            "Datos/Conjunto_4/archivo.txt\n",
            "Agregando Datos/Conjunto_4/archivo.txt al zip\n",
            "Datos/Conjunto_4/Modelo.pdf\n",
            "Agregando Datos/Conjunto_4/Modelo.pdf al zip\n"
          ]
        },
        {
          "output_type": "display_data",
          "data": {
            "text/plain": [
              "<IPython.core.display.Javascript object>"
            ],
            "application/javascript": [
              "\n",
              "    async function download(id, filename, size) {\n",
              "      if (!google.colab.kernel.accessAllowed) {\n",
              "        return;\n",
              "      }\n",
              "      const div = document.createElement('div');\n",
              "      const label = document.createElement('label');\n",
              "      label.textContent = `Downloading \"${filename}\": `;\n",
              "      div.appendChild(label);\n",
              "      const progress = document.createElement('progress');\n",
              "      progress.max = size;\n",
              "      div.appendChild(progress);\n",
              "      document.body.appendChild(div);\n",
              "\n",
              "      const buffers = [];\n",
              "      let downloaded = 0;\n",
              "\n",
              "      const channel = await google.colab.kernel.comms.open(id);\n",
              "      // Send a message to notify the kernel that we're ready.\n",
              "      channel.send({})\n",
              "\n",
              "      for await (const message of channel.messages) {\n",
              "        // Send a message to notify the kernel that we're ready.\n",
              "        channel.send({})\n",
              "        if (message.buffers) {\n",
              "          for (const buffer of message.buffers) {\n",
              "            buffers.push(buffer);\n",
              "            downloaded += buffer.byteLength;\n",
              "            progress.value = downloaded;\n",
              "          }\n",
              "        }\n",
              "      }\n",
              "      const blob = new Blob(buffers, {type: 'application/binary'});\n",
              "      const a = document.createElement('a');\n",
              "      a.href = window.URL.createObjectURL(blob);\n",
              "      a.download = filename;\n",
              "      div.appendChild(a);\n",
              "      a.click();\n",
              "      div.remove();\n",
              "    }\n",
              "  "
            ]
          },
          "metadata": {}
        },
        {
          "output_type": "display_data",
          "data": {
            "text/plain": [
              "<IPython.core.display.Javascript object>"
            ],
            "application/javascript": [
              "download(\"download_cbe54585-d60e-43c4-9a25-211494dc1766\", \"subconjunto_archivos.zip\", 25226)"
            ]
          },
          "metadata": {}
        }
      ]
    },
    {
      "cell_type": "code",
      "source": [],
      "metadata": {
        "id": "y1MofIdU1pJv"
      },
      "execution_count": null,
      "outputs": []
    }
  ]
}