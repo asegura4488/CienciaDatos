{
  "nbformat": 4,
  "nbformat_minor": 0,
  "metadata": {
    "colab": {
      "provenance": [],
      "authorship_tag": "ABX9TyNEL/gLc1ETLEdHATgWkkGJ",
      "include_colab_link": true
    },
    "kernelspec": {
      "name": "python3",
      "display_name": "Python 3"
    },
    "language_info": {
      "name": "python"
    }
  },
  "cells": [
    {
      "cell_type": "markdown",
      "metadata": {
        "id": "view-in-github",
        "colab_type": "text"
      },
      "source": [
        "<a href=\"https://colab.research.google.com/github/asegura4488/CienciaDatos/blob/main/Semana4/QuejasAmbientales.ipynb\" target=\"_parent\"><img src=\"https://colab.research.google.com/assets/colab-badge.svg\" alt=\"Open In Colab\"/></a>"
      ]
    },
    {
      "cell_type": "code",
      "execution_count": 1,
      "metadata": {
        "colab": {
          "base_uri": "https://localhost:8080/"
        },
        "id": "LENhsD9hnYIH",
        "outputId": "7fb29502-03fc-4f42-888c-15d995ba03d6"
      },
      "outputs": [
        {
          "output_type": "stream",
          "name": "stdout",
          "text": [
            "Mounted at /content/drive\n"
          ]
        }
      ],
      "source": [
        "from google.colab import drive\n",
        "from google.colab import files\n",
        "drive.mount('/content/drive', force_remount=True)"
      ]
    },
    {
      "cell_type": "code",
      "source": [
        "import numpy as np\n",
        "import pandas as pd\n",
        "import matplotlib.pyplot as plt\n",
        "import seaborn as sns\n",
        "import os\n",
        "os.chdir('/content/drive/MyDrive/ColabNotebooks/Cursos/CursoCienciaDatos/Semana4')\n",
        "!ls"
      ],
      "metadata": {
        "colab": {
          "base_uri": "https://localhost:8080/"
        },
        "id": "fn-2kiqK21d5",
        "outputId": "6358a1ad-75c7-4c7f-9419-b1b6e56cf5a3"
      },
      "execution_count": 2,
      "outputs": [
        {
          "output_type": "stream",
          "name": "stdout",
          "text": [
            "Datos  EstimadoresEstadísticos.ipynb  QuejasAmbientales.ipynb\n"
          ]
        }
      ]
    },
    {
      "cell_type": "code",
      "source": [
        "data = pd.read_csv('Datos/QuejasAmbientales.csv')\n",
        "data"
      ],
      "metadata": {
        "colab": {
          "base_uri": "https://localhost:8080/",
          "height": 424
        },
        "id": "-ASDw7Zf2_Vf",
        "outputId": "c5d2402e-5306-4887-cf9b-2184a204f65b"
      },
      "execution_count": 3,
      "outputs": [
        {
          "output_type": "execute_result",
          "data": {
            "text/plain": [
              "     REGIONAL MEDIO DE  RECEPCION              TIPO DE AFECTACION  \\\n",
              "0     Bosques          Telefónico      TALA BOSQUE NATURAL NATIVO   \n",
              "1       Aguas          Pagina Web     CONFLICTOS POR USO DEL AGUA   \n",
              "2     Bosques          Pagina Web      TALA BOSQUE NATURAL NATIVO   \n",
              "3     Bosques          Telefónico          CONTAMINACION DEL AGUA   \n",
              "4      Paramo          Pagina Web  CONTAMINACIÓN POR VERTIMIENTOS   \n",
              "...       ...                 ...                             ...   \n",
              "1800   Valles  Correo electrónico  CONTAMINACIÓN POR VERTIMIENTOS   \n",
              "1801   Valles  Correo electrónico      TALA BOSQUE NATURAL NATIVO   \n",
              "1802   Valles  Correo electrónico           MOVIMIENTO DE TIERRAS   \n",
              "1803    Aguas  Correo electrónico           MOVIMIENTO DE TIERRAS   \n",
              "1804  Bosques  Correo electrónico  CONTAMINACIÓN POR VERTIMIENTOS   \n",
              "\n",
              "     RECURSO AFECTADO       MUNICIPIO  Periodo  \n",
              "0               FLORA        SAN LUIS     2021  \n",
              "1                AGUA      SAN RAFAEL     2021  \n",
              "2               FLORA        SAN LUIS     2021  \n",
              "3                AGUA  PUERTO TRIUNFO     2021  \n",
              "4               SUELO          SONSÓN     2021  \n",
              "...               ...             ...      ...  \n",
              "1800             AGUA          GUARNE     2021  \n",
              "1801            FLORA          GUARNE     2021  \n",
              "1802             AGUA         LA CEJA     2021  \n",
              "1803             AGUA         GUATAPÉ     2021  \n",
              "1804             AGUA        SAN LUIS     2021  \n",
              "\n",
              "[1805 rows x 6 columns]"
            ],
            "text/html": [
              "\n",
              "  <div id=\"df-aba7442f-7726-4aa2-b01e-e83ac2bddbb6\" class=\"colab-df-container\">\n",
              "    <div>\n",
              "<style scoped>\n",
              "    .dataframe tbody tr th:only-of-type {\n",
              "        vertical-align: middle;\n",
              "    }\n",
              "\n",
              "    .dataframe tbody tr th {\n",
              "        vertical-align: top;\n",
              "    }\n",
              "\n",
              "    .dataframe thead th {\n",
              "        text-align: right;\n",
              "    }\n",
              "</style>\n",
              "<table border=\"1\" class=\"dataframe\">\n",
              "  <thead>\n",
              "    <tr style=\"text-align: right;\">\n",
              "      <th></th>\n",
              "      <th>REGIONAL</th>\n",
              "      <th>MEDIO DE  RECEPCION</th>\n",
              "      <th>TIPO DE AFECTACION</th>\n",
              "      <th>RECURSO AFECTADO</th>\n",
              "      <th>MUNICIPIO</th>\n",
              "      <th>Periodo</th>\n",
              "    </tr>\n",
              "  </thead>\n",
              "  <tbody>\n",
              "    <tr>\n",
              "      <th>0</th>\n",
              "      <td>Bosques</td>\n",
              "      <td>Telefónico</td>\n",
              "      <td>TALA BOSQUE NATURAL NATIVO</td>\n",
              "      <td>FLORA</td>\n",
              "      <td>SAN LUIS</td>\n",
              "      <td>2021</td>\n",
              "    </tr>\n",
              "    <tr>\n",
              "      <th>1</th>\n",
              "      <td>Aguas</td>\n",
              "      <td>Pagina Web</td>\n",
              "      <td>CONFLICTOS POR USO DEL AGUA</td>\n",
              "      <td>AGUA</td>\n",
              "      <td>SAN RAFAEL</td>\n",
              "      <td>2021</td>\n",
              "    </tr>\n",
              "    <tr>\n",
              "      <th>2</th>\n",
              "      <td>Bosques</td>\n",
              "      <td>Pagina Web</td>\n",
              "      <td>TALA BOSQUE NATURAL NATIVO</td>\n",
              "      <td>FLORA</td>\n",
              "      <td>SAN LUIS</td>\n",
              "      <td>2021</td>\n",
              "    </tr>\n",
              "    <tr>\n",
              "      <th>3</th>\n",
              "      <td>Bosques</td>\n",
              "      <td>Telefónico</td>\n",
              "      <td>CONTAMINACION DEL AGUA</td>\n",
              "      <td>AGUA</td>\n",
              "      <td>PUERTO TRIUNFO</td>\n",
              "      <td>2021</td>\n",
              "    </tr>\n",
              "    <tr>\n",
              "      <th>4</th>\n",
              "      <td>Paramo</td>\n",
              "      <td>Pagina Web</td>\n",
              "      <td>CONTAMINACIÓN POR VERTIMIENTOS</td>\n",
              "      <td>SUELO</td>\n",
              "      <td>SONSÓN</td>\n",
              "      <td>2021</td>\n",
              "    </tr>\n",
              "    <tr>\n",
              "      <th>...</th>\n",
              "      <td>...</td>\n",
              "      <td>...</td>\n",
              "      <td>...</td>\n",
              "      <td>...</td>\n",
              "      <td>...</td>\n",
              "      <td>...</td>\n",
              "    </tr>\n",
              "    <tr>\n",
              "      <th>1800</th>\n",
              "      <td>Valles</td>\n",
              "      <td>Correo electrónico</td>\n",
              "      <td>CONTAMINACIÓN POR VERTIMIENTOS</td>\n",
              "      <td>AGUA</td>\n",
              "      <td>GUARNE</td>\n",
              "      <td>2021</td>\n",
              "    </tr>\n",
              "    <tr>\n",
              "      <th>1801</th>\n",
              "      <td>Valles</td>\n",
              "      <td>Correo electrónico</td>\n",
              "      <td>TALA BOSQUE NATURAL NATIVO</td>\n",
              "      <td>FLORA</td>\n",
              "      <td>GUARNE</td>\n",
              "      <td>2021</td>\n",
              "    </tr>\n",
              "    <tr>\n",
              "      <th>1802</th>\n",
              "      <td>Valles</td>\n",
              "      <td>Correo electrónico</td>\n",
              "      <td>MOVIMIENTO DE TIERRAS</td>\n",
              "      <td>AGUA</td>\n",
              "      <td>LA CEJA</td>\n",
              "      <td>2021</td>\n",
              "    </tr>\n",
              "    <tr>\n",
              "      <th>1803</th>\n",
              "      <td>Aguas</td>\n",
              "      <td>Correo electrónico</td>\n",
              "      <td>MOVIMIENTO DE TIERRAS</td>\n",
              "      <td>AGUA</td>\n",
              "      <td>GUATAPÉ</td>\n",
              "      <td>2021</td>\n",
              "    </tr>\n",
              "    <tr>\n",
              "      <th>1804</th>\n",
              "      <td>Bosques</td>\n",
              "      <td>Correo electrónico</td>\n",
              "      <td>CONTAMINACIÓN POR VERTIMIENTOS</td>\n",
              "      <td>AGUA</td>\n",
              "      <td>SAN LUIS</td>\n",
              "      <td>2021</td>\n",
              "    </tr>\n",
              "  </tbody>\n",
              "</table>\n",
              "<p>1805 rows × 6 columns</p>\n",
              "</div>\n",
              "    <div class=\"colab-df-buttons\">\n",
              "\n",
              "  <div class=\"colab-df-container\">\n",
              "    <button class=\"colab-df-convert\" onclick=\"convertToInteractive('df-aba7442f-7726-4aa2-b01e-e83ac2bddbb6')\"\n",
              "            title=\"Convert this dataframe to an interactive table.\"\n",
              "            style=\"display:none;\">\n",
              "\n",
              "  <svg xmlns=\"http://www.w3.org/2000/svg\" height=\"24px\" viewBox=\"0 -960 960 960\">\n",
              "    <path d=\"M120-120v-720h720v720H120Zm60-500h600v-160H180v160Zm220 220h160v-160H400v160Zm0 220h160v-160H400v160ZM180-400h160v-160H180v160Zm440 0h160v-160H620v160ZM180-180h160v-160H180v160Zm440 0h160v-160H620v160Z\"/>\n",
              "  </svg>\n",
              "    </button>\n",
              "\n",
              "  <style>\n",
              "    .colab-df-container {\n",
              "      display:flex;\n",
              "      gap: 12px;\n",
              "    }\n",
              "\n",
              "    .colab-df-convert {\n",
              "      background-color: #E8F0FE;\n",
              "      border: none;\n",
              "      border-radius: 50%;\n",
              "      cursor: pointer;\n",
              "      display: none;\n",
              "      fill: #1967D2;\n",
              "      height: 32px;\n",
              "      padding: 0 0 0 0;\n",
              "      width: 32px;\n",
              "    }\n",
              "\n",
              "    .colab-df-convert:hover {\n",
              "      background-color: #E2EBFA;\n",
              "      box-shadow: 0px 1px 2px rgba(60, 64, 67, 0.3), 0px 1px 3px 1px rgba(60, 64, 67, 0.15);\n",
              "      fill: #174EA6;\n",
              "    }\n",
              "\n",
              "    .colab-df-buttons div {\n",
              "      margin-bottom: 4px;\n",
              "    }\n",
              "\n",
              "    [theme=dark] .colab-df-convert {\n",
              "      background-color: #3B4455;\n",
              "      fill: #D2E3FC;\n",
              "    }\n",
              "\n",
              "    [theme=dark] .colab-df-convert:hover {\n",
              "      background-color: #434B5C;\n",
              "      box-shadow: 0px 1px 3px 1px rgba(0, 0, 0, 0.15);\n",
              "      filter: drop-shadow(0px 1px 2px rgba(0, 0, 0, 0.3));\n",
              "      fill: #FFFFFF;\n",
              "    }\n",
              "  </style>\n",
              "\n",
              "    <script>\n",
              "      const buttonEl =\n",
              "        document.querySelector('#df-aba7442f-7726-4aa2-b01e-e83ac2bddbb6 button.colab-df-convert');\n",
              "      buttonEl.style.display =\n",
              "        google.colab.kernel.accessAllowed ? 'block' : 'none';\n",
              "\n",
              "      async function convertToInteractive(key) {\n",
              "        const element = document.querySelector('#df-aba7442f-7726-4aa2-b01e-e83ac2bddbb6');\n",
              "        const dataTable =\n",
              "          await google.colab.kernel.invokeFunction('convertToInteractive',\n",
              "                                                    [key], {});\n",
              "        if (!dataTable) return;\n",
              "\n",
              "        const docLinkHtml = 'Like what you see? Visit the ' +\n",
              "          '<a target=\"_blank\" href=https://colab.research.google.com/notebooks/data_table.ipynb>data table notebook</a>'\n",
              "          + ' to learn more about interactive tables.';\n",
              "        element.innerHTML = '';\n",
              "        dataTable['output_type'] = 'display_data';\n",
              "        await google.colab.output.renderOutput(dataTable, element);\n",
              "        const docLink = document.createElement('div');\n",
              "        docLink.innerHTML = docLinkHtml;\n",
              "        element.appendChild(docLink);\n",
              "      }\n",
              "    </script>\n",
              "  </div>\n",
              "\n",
              "\n",
              "    <div id=\"df-7795b95a-f8f3-4d0d-acb6-a42c972a2117\">\n",
              "      <button class=\"colab-df-quickchart\" onclick=\"quickchart('df-7795b95a-f8f3-4d0d-acb6-a42c972a2117')\"\n",
              "                title=\"Suggest charts\"\n",
              "                style=\"display:none;\">\n",
              "\n",
              "<svg xmlns=\"http://www.w3.org/2000/svg\" height=\"24px\"viewBox=\"0 0 24 24\"\n",
              "     width=\"24px\">\n",
              "    <g>\n",
              "        <path d=\"M19 3H5c-1.1 0-2 .9-2 2v14c0 1.1.9 2 2 2h14c1.1 0 2-.9 2-2V5c0-1.1-.9-2-2-2zM9 17H7v-7h2v7zm4 0h-2V7h2v10zm4 0h-2v-4h2v4z\"/>\n",
              "    </g>\n",
              "</svg>\n",
              "      </button>\n",
              "\n",
              "<style>\n",
              "  .colab-df-quickchart {\n",
              "      --bg-color: #E8F0FE;\n",
              "      --fill-color: #1967D2;\n",
              "      --hover-bg-color: #E2EBFA;\n",
              "      --hover-fill-color: #174EA6;\n",
              "      --disabled-fill-color: #AAA;\n",
              "      --disabled-bg-color: #DDD;\n",
              "  }\n",
              "\n",
              "  [theme=dark] .colab-df-quickchart {\n",
              "      --bg-color: #3B4455;\n",
              "      --fill-color: #D2E3FC;\n",
              "      --hover-bg-color: #434B5C;\n",
              "      --hover-fill-color: #FFFFFF;\n",
              "      --disabled-bg-color: #3B4455;\n",
              "      --disabled-fill-color: #666;\n",
              "  }\n",
              "\n",
              "  .colab-df-quickchart {\n",
              "    background-color: var(--bg-color);\n",
              "    border: none;\n",
              "    border-radius: 50%;\n",
              "    cursor: pointer;\n",
              "    display: none;\n",
              "    fill: var(--fill-color);\n",
              "    height: 32px;\n",
              "    padding: 0;\n",
              "    width: 32px;\n",
              "  }\n",
              "\n",
              "  .colab-df-quickchart:hover {\n",
              "    background-color: var(--hover-bg-color);\n",
              "    box-shadow: 0 1px 2px rgba(60, 64, 67, 0.3), 0 1px 3px 1px rgba(60, 64, 67, 0.15);\n",
              "    fill: var(--button-hover-fill-color);\n",
              "  }\n",
              "\n",
              "  .colab-df-quickchart-complete:disabled,\n",
              "  .colab-df-quickchart-complete:disabled:hover {\n",
              "    background-color: var(--disabled-bg-color);\n",
              "    fill: var(--disabled-fill-color);\n",
              "    box-shadow: none;\n",
              "  }\n",
              "\n",
              "  .colab-df-spinner {\n",
              "    border: 2px solid var(--fill-color);\n",
              "    border-color: transparent;\n",
              "    border-bottom-color: var(--fill-color);\n",
              "    animation:\n",
              "      spin 1s steps(1) infinite;\n",
              "  }\n",
              "\n",
              "  @keyframes spin {\n",
              "    0% {\n",
              "      border-color: transparent;\n",
              "      border-bottom-color: var(--fill-color);\n",
              "      border-left-color: var(--fill-color);\n",
              "    }\n",
              "    20% {\n",
              "      border-color: transparent;\n",
              "      border-left-color: var(--fill-color);\n",
              "      border-top-color: var(--fill-color);\n",
              "    }\n",
              "    30% {\n",
              "      border-color: transparent;\n",
              "      border-left-color: var(--fill-color);\n",
              "      border-top-color: var(--fill-color);\n",
              "      border-right-color: var(--fill-color);\n",
              "    }\n",
              "    40% {\n",
              "      border-color: transparent;\n",
              "      border-right-color: var(--fill-color);\n",
              "      border-top-color: var(--fill-color);\n",
              "    }\n",
              "    60% {\n",
              "      border-color: transparent;\n",
              "      border-right-color: var(--fill-color);\n",
              "    }\n",
              "    80% {\n",
              "      border-color: transparent;\n",
              "      border-right-color: var(--fill-color);\n",
              "      border-bottom-color: var(--fill-color);\n",
              "    }\n",
              "    90% {\n",
              "      border-color: transparent;\n",
              "      border-bottom-color: var(--fill-color);\n",
              "    }\n",
              "  }\n",
              "</style>\n",
              "\n",
              "      <script>\n",
              "        async function quickchart(key) {\n",
              "          const quickchartButtonEl =\n",
              "            document.querySelector('#' + key + ' button');\n",
              "          quickchartButtonEl.disabled = true;  // To prevent multiple clicks.\n",
              "          quickchartButtonEl.classList.add('colab-df-spinner');\n",
              "          try {\n",
              "            const charts = await google.colab.kernel.invokeFunction(\n",
              "                'suggestCharts', [key], {});\n",
              "          } catch (error) {\n",
              "            console.error('Error during call to suggestCharts:', error);\n",
              "          }\n",
              "          quickchartButtonEl.classList.remove('colab-df-spinner');\n",
              "          quickchartButtonEl.classList.add('colab-df-quickchart-complete');\n",
              "        }\n",
              "        (() => {\n",
              "          let quickchartButtonEl =\n",
              "            document.querySelector('#df-7795b95a-f8f3-4d0d-acb6-a42c972a2117 button');\n",
              "          quickchartButtonEl.style.display =\n",
              "            google.colab.kernel.accessAllowed ? 'block' : 'none';\n",
              "        })();\n",
              "      </script>\n",
              "    </div>\n",
              "\n",
              "  <div id=\"id_62bd6a1b-9106-4711-b4e0-45ac2902f6db\">\n",
              "    <style>\n",
              "      .colab-df-generate {\n",
              "        background-color: #E8F0FE;\n",
              "        border: none;\n",
              "        border-radius: 50%;\n",
              "        cursor: pointer;\n",
              "        display: none;\n",
              "        fill: #1967D2;\n",
              "        height: 32px;\n",
              "        padding: 0 0 0 0;\n",
              "        width: 32px;\n",
              "      }\n",
              "\n",
              "      .colab-df-generate:hover {\n",
              "        background-color: #E2EBFA;\n",
              "        box-shadow: 0px 1px 2px rgba(60, 64, 67, 0.3), 0px 1px 3px 1px rgba(60, 64, 67, 0.15);\n",
              "        fill: #174EA6;\n",
              "      }\n",
              "\n",
              "      [theme=dark] .colab-df-generate {\n",
              "        background-color: #3B4455;\n",
              "        fill: #D2E3FC;\n",
              "      }\n",
              "\n",
              "      [theme=dark] .colab-df-generate:hover {\n",
              "        background-color: #434B5C;\n",
              "        box-shadow: 0px 1px 3px 1px rgba(0, 0, 0, 0.15);\n",
              "        filter: drop-shadow(0px 1px 2px rgba(0, 0, 0, 0.3));\n",
              "        fill: #FFFFFF;\n",
              "      }\n",
              "    </style>\n",
              "    <button class=\"colab-df-generate\" onclick=\"generateWithVariable('data')\"\n",
              "            title=\"Generate code using this dataframe.\"\n",
              "            style=\"display:none;\">\n",
              "\n",
              "  <svg xmlns=\"http://www.w3.org/2000/svg\" height=\"24px\"viewBox=\"0 0 24 24\"\n",
              "       width=\"24px\">\n",
              "    <path d=\"M7,19H8.4L18.45,9,17,7.55,7,17.6ZM5,21V16.75L18.45,3.32a2,2,0,0,1,2.83,0l1.4,1.43a1.91,1.91,0,0,1,.58,1.4,1.91,1.91,0,0,1-.58,1.4L9.25,21ZM18.45,9,17,7.55Zm-12,3A5.31,5.31,0,0,0,4.9,8.1,5.31,5.31,0,0,0,1,6.5,5.31,5.31,0,0,0,4.9,4.9,5.31,5.31,0,0,0,6.5,1,5.31,5.31,0,0,0,8.1,4.9,5.31,5.31,0,0,0,12,6.5,5.46,5.46,0,0,0,6.5,12Z\"/>\n",
              "  </svg>\n",
              "    </button>\n",
              "    <script>\n",
              "      (() => {\n",
              "      const buttonEl =\n",
              "        document.querySelector('#id_62bd6a1b-9106-4711-b4e0-45ac2902f6db button.colab-df-generate');\n",
              "      buttonEl.style.display =\n",
              "        google.colab.kernel.accessAllowed ? 'block' : 'none';\n",
              "\n",
              "      buttonEl.onclick = () => {\n",
              "        google.colab.notebook.generateWithVariable('data');\n",
              "      }\n",
              "      })();\n",
              "    </script>\n",
              "  </div>\n",
              "\n",
              "    </div>\n",
              "  </div>\n"
            ],
            "application/vnd.google.colaboratory.intrinsic+json": {
              "type": "dataframe",
              "variable_name": "data",
              "summary": "{\n  \"name\": \"data\",\n  \"rows\": 1805,\n  \"fields\": [\n    {\n      \"column\": \"REGIONAL\",\n      \"properties\": {\n        \"dtype\": \"category\",\n        \"num_unique_values\": 8,\n        \"samples\": [\n          \"Aguas\",\n          \"AGUAS\",\n          \"Bosques\"\n        ],\n        \"semantic_type\": \"\",\n        \"description\": \"\"\n      }\n    },\n    {\n      \"column\": \"MEDIO DE  RECEPCION\",\n      \"properties\": {\n        \"dtype\": \"category\",\n        \"num_unique_values\": 6,\n        \"samples\": [\n          \"Telef\\u00f3nico\",\n          \"Pagina Web\",\n          \"De oficio\"\n        ],\n        \"semantic_type\": \"\",\n        \"description\": \"\"\n      }\n    },\n    {\n      \"column\": \"TIPO DE AFECTACION\",\n      \"properties\": {\n        \"dtype\": \"category\",\n        \"num_unique_values\": 17,\n        \"samples\": [\n          \"TALA BOSQUE NATURAL NATIVO\",\n          \"CONFLICTOS POR USO DEL AGUA\",\n          \"OLORES\"\n        ],\n        \"semantic_type\": \"\",\n        \"description\": \"\"\n      }\n    },\n    {\n      \"column\": \"RECURSO AFECTADO\",\n      \"properties\": {\n        \"dtype\": \"category\",\n        \"num_unique_values\": 4,\n        \"samples\": [\n          \"AGUA\",\n          \"AIRE\",\n          \"FLORA\"\n        ],\n        \"semantic_type\": \"\",\n        \"description\": \"\"\n      }\n    },\n    {\n      \"column\": \"MUNICIPIO\",\n      \"properties\": {\n        \"dtype\": \"category\",\n        \"num_unique_values\": 26,\n        \"samples\": [\n          \"LA CEJA\",\n          \"ABEJORRAL\",\n          \"SAN LUIS\"\n        ],\n        \"semantic_type\": \"\",\n        \"description\": \"\"\n      }\n    },\n    {\n      \"column\": \"Periodo\",\n      \"properties\": {\n        \"dtype\": \"number\",\n        \"std\": 0,\n        \"min\": 2021,\n        \"max\": 2021,\n        \"num_unique_values\": 1,\n        \"samples\": [\n          2021\n        ],\n        \"semantic_type\": \"\",\n        \"description\": \"\"\n      }\n    }\n  ]\n}"
            }
          },
          "metadata": {},
          "execution_count": 3
        }
      ]
    },
    {
      "cell_type": "code",
      "source": [
        "data.info()"
      ],
      "metadata": {
        "colab": {
          "base_uri": "https://localhost:8080/"
        },
        "id": "B-v8HeyE4RsL",
        "outputId": "d1ebed81-39fb-490f-dcb6-02a60ddf3bb5"
      },
      "execution_count": 4,
      "outputs": [
        {
          "output_type": "stream",
          "name": "stdout",
          "text": [
            "<class 'pandas.core.frame.DataFrame'>\n",
            "RangeIndex: 1805 entries, 0 to 1804\n",
            "Data columns (total 6 columns):\n",
            " #   Column               Non-Null Count  Dtype \n",
            "---  ------               --------------  ----- \n",
            " 0   REGIONAL             1805 non-null   object\n",
            " 1   MEDIO DE  RECEPCION  1805 non-null   object\n",
            " 2   TIPO DE AFECTACION   1805 non-null   object\n",
            " 3   RECURSO AFECTADO     1805 non-null   object\n",
            " 4   MUNICIPIO            1805 non-null   object\n",
            " 5   Periodo              1805 non-null   int64 \n",
            "dtypes: int64(1), object(5)\n",
            "memory usage: 84.7+ KB\n"
          ]
        }
      ]
    },
    {
      "cell_type": "code",
      "source": [
        "data.isna().sum().sum()"
      ],
      "metadata": {
        "colab": {
          "base_uri": "https://localhost:8080/"
        },
        "id": "v6-HcN-65FMk",
        "outputId": "f0498d82-ec3e-4aa4-99b0-fa1fe9baed1b"
      },
      "execution_count": 8,
      "outputs": [
        {
          "output_type": "execute_result",
          "data": {
            "text/plain": [
              "np.int64(0)"
            ]
          },
          "metadata": {},
          "execution_count": 8
        }
      ]
    },
    {
      "cell_type": "code",
      "source": [
        "Features = data.keys()\n",
        "Features"
      ],
      "metadata": {
        "colab": {
          "base_uri": "https://localhost:8080/"
        },
        "id": "dATBbk4i4xKs",
        "outputId": "cc814980-f0c2-431f-e926-cde57ad9dbb2"
      },
      "execution_count": 9,
      "outputs": [
        {
          "output_type": "execute_result",
          "data": {
            "text/plain": [
              "Index(['REGIONAL', 'MEDIO DE  RECEPCION', 'TIPO DE AFECTACION',\n",
              "       'RECURSO AFECTADO', 'MUNICIPIO', 'Periodo'],\n",
              "      dtype='object')"
            ]
          },
          "metadata": {},
          "execution_count": 9
        }
      ]
    },
    {
      "cell_type": "code",
      "source": [
        "for col in Features:\n",
        "  print(col, data[col].unique())"
      ],
      "metadata": {
        "colab": {
          "base_uri": "https://localhost:8080/"
        },
        "id": "GnSZNbzz48vk",
        "outputId": "9d7c1f51-6c95-4d81-8d82-b962deb6ebf7"
      },
      "execution_count": 10,
      "outputs": [
        {
          "output_type": "stream",
          "name": "stdout",
          "text": [
            "REGIONAL ['Bosques' 'Aguas' 'Paramo' 'Porce' 'Valles' 'AGUAS' 'PORCE' 'VALLES']\n",
            "MEDIO DE  RECEPCION ['Telefónico' 'Pagina Web' 'Correo electrónico' 'Personal' 'Escrita'\n",
            " 'De oficio']\n",
            "TIPO DE AFECTACION ['TALA BOSQUE NATURAL NATIVO' 'CONFLICTOS POR USO DEL AGUA'\n",
            " 'CONTAMINACION DEL AGUA' 'CONTAMINACIÓN POR VERTIMIENTOS'\n",
            " 'MOVIMIENTO DE TIERRAS' 'OLORES' 'MINERIA' 'INTERVENCIÓN  DE CAUCE'\n",
            " 'RETIRO A FUENTES HÍDRICAS' 'USO ILEGAL DEL AGUA' 'TALA O PODA ARBOLES'\n",
            " 'QUEMAS' 'DESCORTEZADO DE ÁRBOLES' 'MANEJO RESIDUOS SÓLIDOS ORDINARIOS'\n",
            " 'EMISIÓN DE PARTICULAS' 'EMISION ATMOSFÉRICA' 'RUIDO']\n",
            "RECURSO AFECTADO ['FLORA' 'AGUA' 'SUELO' 'AIRE']\n",
            "MUNICIPIO ['SAN LUIS' 'SAN RAFAEL' 'PUERTO TRIUNFO' 'SONSÓN' 'ALEJANDRÍA'\n",
            " 'SANTO DOMINGO' 'SAN ROQUE' 'GUARNE' 'LA CEJA' 'LA UNIÓN' 'CONCEPCIÓN'\n",
            " 'RIONEGRO' 'SAN VICENTE' 'EL PEÑOL' 'EL CARMEN' 'EL RETIRO' 'ABEJORRAL'\n",
            " 'COCORNÁ' 'GUATAPÉ' 'SAN FRANCISCO' 'SAN CARLOS' 'MARINILLA'\n",
            " 'EL SANTUARIO' 'NARIÑO' 'GRANADA' 'ARGELIA']\n",
            "Periodo [2021]\n"
          ]
        }
      ]
    },
    {
      "cell_type": "code",
      "source": [
        "data.describe()"
      ],
      "metadata": {
        "colab": {
          "base_uri": "https://localhost:8080/",
          "height": 300
        },
        "id": "4j8tXOla5Szh",
        "outputId": "f72d2567-9acd-46a4-e246-e774d07c30d4"
      },
      "execution_count": 11,
      "outputs": [
        {
          "output_type": "execute_result",
          "data": {
            "text/plain": [
              "       Periodo\n",
              "count   1805.0\n",
              "mean    2021.0\n",
              "std        0.0\n",
              "min     2021.0\n",
              "25%     2021.0\n",
              "50%     2021.0\n",
              "75%     2021.0\n",
              "max     2021.0"
            ],
            "text/html": [
              "\n",
              "  <div id=\"df-396d13e5-45d0-4ca4-9c1e-3fd3e348a741\" class=\"colab-df-container\">\n",
              "    <div>\n",
              "<style scoped>\n",
              "    .dataframe tbody tr th:only-of-type {\n",
              "        vertical-align: middle;\n",
              "    }\n",
              "\n",
              "    .dataframe tbody tr th {\n",
              "        vertical-align: top;\n",
              "    }\n",
              "\n",
              "    .dataframe thead th {\n",
              "        text-align: right;\n",
              "    }\n",
              "</style>\n",
              "<table border=\"1\" class=\"dataframe\">\n",
              "  <thead>\n",
              "    <tr style=\"text-align: right;\">\n",
              "      <th></th>\n",
              "      <th>Periodo</th>\n",
              "    </tr>\n",
              "  </thead>\n",
              "  <tbody>\n",
              "    <tr>\n",
              "      <th>count</th>\n",
              "      <td>1805.0</td>\n",
              "    </tr>\n",
              "    <tr>\n",
              "      <th>mean</th>\n",
              "      <td>2021.0</td>\n",
              "    </tr>\n",
              "    <tr>\n",
              "      <th>std</th>\n",
              "      <td>0.0</td>\n",
              "    </tr>\n",
              "    <tr>\n",
              "      <th>min</th>\n",
              "      <td>2021.0</td>\n",
              "    </tr>\n",
              "    <tr>\n",
              "      <th>25%</th>\n",
              "      <td>2021.0</td>\n",
              "    </tr>\n",
              "    <tr>\n",
              "      <th>50%</th>\n",
              "      <td>2021.0</td>\n",
              "    </tr>\n",
              "    <tr>\n",
              "      <th>75%</th>\n",
              "      <td>2021.0</td>\n",
              "    </tr>\n",
              "    <tr>\n",
              "      <th>max</th>\n",
              "      <td>2021.0</td>\n",
              "    </tr>\n",
              "  </tbody>\n",
              "</table>\n",
              "</div>\n",
              "    <div class=\"colab-df-buttons\">\n",
              "\n",
              "  <div class=\"colab-df-container\">\n",
              "    <button class=\"colab-df-convert\" onclick=\"convertToInteractive('df-396d13e5-45d0-4ca4-9c1e-3fd3e348a741')\"\n",
              "            title=\"Convert this dataframe to an interactive table.\"\n",
              "            style=\"display:none;\">\n",
              "\n",
              "  <svg xmlns=\"http://www.w3.org/2000/svg\" height=\"24px\" viewBox=\"0 -960 960 960\">\n",
              "    <path d=\"M120-120v-720h720v720H120Zm60-500h600v-160H180v160Zm220 220h160v-160H400v160Zm0 220h160v-160H400v160ZM180-400h160v-160H180v160Zm440 0h160v-160H620v160ZM180-180h160v-160H180v160Zm440 0h160v-160H620v160Z\"/>\n",
              "  </svg>\n",
              "    </button>\n",
              "\n",
              "  <style>\n",
              "    .colab-df-container {\n",
              "      display:flex;\n",
              "      gap: 12px;\n",
              "    }\n",
              "\n",
              "    .colab-df-convert {\n",
              "      background-color: #E8F0FE;\n",
              "      border: none;\n",
              "      border-radius: 50%;\n",
              "      cursor: pointer;\n",
              "      display: none;\n",
              "      fill: #1967D2;\n",
              "      height: 32px;\n",
              "      padding: 0 0 0 0;\n",
              "      width: 32px;\n",
              "    }\n",
              "\n",
              "    .colab-df-convert:hover {\n",
              "      background-color: #E2EBFA;\n",
              "      box-shadow: 0px 1px 2px rgba(60, 64, 67, 0.3), 0px 1px 3px 1px rgba(60, 64, 67, 0.15);\n",
              "      fill: #174EA6;\n",
              "    }\n",
              "\n",
              "    .colab-df-buttons div {\n",
              "      margin-bottom: 4px;\n",
              "    }\n",
              "\n",
              "    [theme=dark] .colab-df-convert {\n",
              "      background-color: #3B4455;\n",
              "      fill: #D2E3FC;\n",
              "    }\n",
              "\n",
              "    [theme=dark] .colab-df-convert:hover {\n",
              "      background-color: #434B5C;\n",
              "      box-shadow: 0px 1px 3px 1px rgba(0, 0, 0, 0.15);\n",
              "      filter: drop-shadow(0px 1px 2px rgba(0, 0, 0, 0.3));\n",
              "      fill: #FFFFFF;\n",
              "    }\n",
              "  </style>\n",
              "\n",
              "    <script>\n",
              "      const buttonEl =\n",
              "        document.querySelector('#df-396d13e5-45d0-4ca4-9c1e-3fd3e348a741 button.colab-df-convert');\n",
              "      buttonEl.style.display =\n",
              "        google.colab.kernel.accessAllowed ? 'block' : 'none';\n",
              "\n",
              "      async function convertToInteractive(key) {\n",
              "        const element = document.querySelector('#df-396d13e5-45d0-4ca4-9c1e-3fd3e348a741');\n",
              "        const dataTable =\n",
              "          await google.colab.kernel.invokeFunction('convertToInteractive',\n",
              "                                                    [key], {});\n",
              "        if (!dataTable) return;\n",
              "\n",
              "        const docLinkHtml = 'Like what you see? Visit the ' +\n",
              "          '<a target=\"_blank\" href=https://colab.research.google.com/notebooks/data_table.ipynb>data table notebook</a>'\n",
              "          + ' to learn more about interactive tables.';\n",
              "        element.innerHTML = '';\n",
              "        dataTable['output_type'] = 'display_data';\n",
              "        await google.colab.output.renderOutput(dataTable, element);\n",
              "        const docLink = document.createElement('div');\n",
              "        docLink.innerHTML = docLinkHtml;\n",
              "        element.appendChild(docLink);\n",
              "      }\n",
              "    </script>\n",
              "  </div>\n",
              "\n",
              "\n",
              "    <div id=\"df-68c17e4e-555f-48ba-ba4a-5fef69731260\">\n",
              "      <button class=\"colab-df-quickchart\" onclick=\"quickchart('df-68c17e4e-555f-48ba-ba4a-5fef69731260')\"\n",
              "                title=\"Suggest charts\"\n",
              "                style=\"display:none;\">\n",
              "\n",
              "<svg xmlns=\"http://www.w3.org/2000/svg\" height=\"24px\"viewBox=\"0 0 24 24\"\n",
              "     width=\"24px\">\n",
              "    <g>\n",
              "        <path d=\"M19 3H5c-1.1 0-2 .9-2 2v14c0 1.1.9 2 2 2h14c1.1 0 2-.9 2-2V5c0-1.1-.9-2-2-2zM9 17H7v-7h2v7zm4 0h-2V7h2v10zm4 0h-2v-4h2v4z\"/>\n",
              "    </g>\n",
              "</svg>\n",
              "      </button>\n",
              "\n",
              "<style>\n",
              "  .colab-df-quickchart {\n",
              "      --bg-color: #E8F0FE;\n",
              "      --fill-color: #1967D2;\n",
              "      --hover-bg-color: #E2EBFA;\n",
              "      --hover-fill-color: #174EA6;\n",
              "      --disabled-fill-color: #AAA;\n",
              "      --disabled-bg-color: #DDD;\n",
              "  }\n",
              "\n",
              "  [theme=dark] .colab-df-quickchart {\n",
              "      --bg-color: #3B4455;\n",
              "      --fill-color: #D2E3FC;\n",
              "      --hover-bg-color: #434B5C;\n",
              "      --hover-fill-color: #FFFFFF;\n",
              "      --disabled-bg-color: #3B4455;\n",
              "      --disabled-fill-color: #666;\n",
              "  }\n",
              "\n",
              "  .colab-df-quickchart {\n",
              "    background-color: var(--bg-color);\n",
              "    border: none;\n",
              "    border-radius: 50%;\n",
              "    cursor: pointer;\n",
              "    display: none;\n",
              "    fill: var(--fill-color);\n",
              "    height: 32px;\n",
              "    padding: 0;\n",
              "    width: 32px;\n",
              "  }\n",
              "\n",
              "  .colab-df-quickchart:hover {\n",
              "    background-color: var(--hover-bg-color);\n",
              "    box-shadow: 0 1px 2px rgba(60, 64, 67, 0.3), 0 1px 3px 1px rgba(60, 64, 67, 0.15);\n",
              "    fill: var(--button-hover-fill-color);\n",
              "  }\n",
              "\n",
              "  .colab-df-quickchart-complete:disabled,\n",
              "  .colab-df-quickchart-complete:disabled:hover {\n",
              "    background-color: var(--disabled-bg-color);\n",
              "    fill: var(--disabled-fill-color);\n",
              "    box-shadow: none;\n",
              "  }\n",
              "\n",
              "  .colab-df-spinner {\n",
              "    border: 2px solid var(--fill-color);\n",
              "    border-color: transparent;\n",
              "    border-bottom-color: var(--fill-color);\n",
              "    animation:\n",
              "      spin 1s steps(1) infinite;\n",
              "  }\n",
              "\n",
              "  @keyframes spin {\n",
              "    0% {\n",
              "      border-color: transparent;\n",
              "      border-bottom-color: var(--fill-color);\n",
              "      border-left-color: var(--fill-color);\n",
              "    }\n",
              "    20% {\n",
              "      border-color: transparent;\n",
              "      border-left-color: var(--fill-color);\n",
              "      border-top-color: var(--fill-color);\n",
              "    }\n",
              "    30% {\n",
              "      border-color: transparent;\n",
              "      border-left-color: var(--fill-color);\n",
              "      border-top-color: var(--fill-color);\n",
              "      border-right-color: var(--fill-color);\n",
              "    }\n",
              "    40% {\n",
              "      border-color: transparent;\n",
              "      border-right-color: var(--fill-color);\n",
              "      border-top-color: var(--fill-color);\n",
              "    }\n",
              "    60% {\n",
              "      border-color: transparent;\n",
              "      border-right-color: var(--fill-color);\n",
              "    }\n",
              "    80% {\n",
              "      border-color: transparent;\n",
              "      border-right-color: var(--fill-color);\n",
              "      border-bottom-color: var(--fill-color);\n",
              "    }\n",
              "    90% {\n",
              "      border-color: transparent;\n",
              "      border-bottom-color: var(--fill-color);\n",
              "    }\n",
              "  }\n",
              "</style>\n",
              "\n",
              "      <script>\n",
              "        async function quickchart(key) {\n",
              "          const quickchartButtonEl =\n",
              "            document.querySelector('#' + key + ' button');\n",
              "          quickchartButtonEl.disabled = true;  // To prevent multiple clicks.\n",
              "          quickchartButtonEl.classList.add('colab-df-spinner');\n",
              "          try {\n",
              "            const charts = await google.colab.kernel.invokeFunction(\n",
              "                'suggestCharts', [key], {});\n",
              "          } catch (error) {\n",
              "            console.error('Error during call to suggestCharts:', error);\n",
              "          }\n",
              "          quickchartButtonEl.classList.remove('colab-df-spinner');\n",
              "          quickchartButtonEl.classList.add('colab-df-quickchart-complete');\n",
              "        }\n",
              "        (() => {\n",
              "          let quickchartButtonEl =\n",
              "            document.querySelector('#df-68c17e4e-555f-48ba-ba4a-5fef69731260 button');\n",
              "          quickchartButtonEl.style.display =\n",
              "            google.colab.kernel.accessAllowed ? 'block' : 'none';\n",
              "        })();\n",
              "      </script>\n",
              "    </div>\n",
              "\n",
              "    </div>\n",
              "  </div>\n"
            ],
            "application/vnd.google.colaboratory.intrinsic+json": {
              "type": "dataframe",
              "summary": "{\n  \"name\": \"data\",\n  \"rows\": 8,\n  \"fields\": [\n    {\n      \"column\": \"Periodo\",\n      \"properties\": {\n        \"dtype\": \"number\",\n        \"std\": 707.6698054682201,\n        \"min\": 0.0,\n        \"max\": 2021.0,\n        \"num_unique_values\": 3,\n        \"samples\": [\n          1805.0,\n          2021.0,\n          0.0\n        ],\n        \"semantic_type\": \"\",\n        \"description\": \"\"\n      }\n    }\n  ]\n}"
            }
          },
          "metadata": {},
          "execution_count": 11
        }
      ]
    },
    {
      "cell_type": "code",
      "source": [
        "# Vamos a ubicarnos en cierto tipos de afectación\n",
        "mask1 = data['TIPO DE AFECTACION'] == 'TALA BOSQUE NATURAL NATIVO'\n",
        "mask2 = data['TIPO DE AFECTACION'] == 'MOVIMIENTO DE TIERRAS'\n",
        "mask3 = data['TIPO DE AFECTACION'] == 'CONTAMINACIÓN POR VERTIMIENTOS'"
      ],
      "metadata": {
        "id": "dG2SedGk5zeO"
      },
      "execution_count": 13,
      "outputs": []
    },
    {
      "cell_type": "code",
      "source": [
        "# Aplicamos mascara\n",
        "data = data[mask1 | mask2 | mask3]"
      ],
      "metadata": {
        "id": "0iYfJ3hR8j4f"
      },
      "execution_count": 21,
      "outputs": []
    },
    {
      "cell_type": "code",
      "source": [],
      "metadata": {
        "id": "J7OODN6h8jZs"
      },
      "execution_count": 21,
      "outputs": []
    },
    {
      "cell_type": "code",
      "source": [
        "N = data.shape[0]\n",
        "N"
      ],
      "metadata": {
        "colab": {
          "base_uri": "https://localhost:8080/"
        },
        "id": "bbEGgCE76eWt",
        "outputId": "52723c52-2887-4225-f63e-e09f3ffd89df"
      },
      "execution_count": 22,
      "outputs": [
        {
          "output_type": "execute_result",
          "data": {
            "text/plain": [
              "1154"
            ]
          },
          "metadata": {},
          "execution_count": 22
        }
      ]
    },
    {
      "cell_type": "code",
      "source": [
        "# Las variables son categoricas, cómo hacemos el conteo\n",
        "Conteos_Municipio = pd.value_counts(data['MUNICIPIO'])\n",
        "#Conteos_Municipio"
      ],
      "metadata": {
        "colab": {
          "base_uri": "https://localhost:8080/"
        },
        "id": "1xgCyAaE7XJx",
        "outputId": "51b590f1-4271-4cda-ec02-c1075d4a4e32"
      },
      "execution_count": 23,
      "outputs": [
        {
          "output_type": "stream",
          "name": "stderr",
          "text": [
            "/tmp/ipython-input-4084313953.py:2: FutureWarning: pandas.value_counts is deprecated and will be removed in a future version. Use pd.Series(obj).value_counts() instead.\n",
            "  Conteos_Municipio = pd.value_counts(data['MUNICIPIO'])\n"
          ]
        }
      ]
    },
    {
      "cell_type": "code",
      "source": [
        "Probabilidad = Conteos_Municipio/N\n",
        "Probabilidad"
      ],
      "metadata": {
        "colab": {
          "base_uri": "https://localhost:8080/",
          "height": 931
        },
        "id": "qu4RUPys7wkE",
        "outputId": "6df708a1-73e2-47ee-ba04-17cf48cde63a"
      },
      "execution_count": 24,
      "outputs": [
        {
          "output_type": "execute_result",
          "data": {
            "text/plain": [
              "MUNICIPIO\n",
              "RIONEGRO          0.157712\n",
              "GUARNE            0.151646\n",
              "SAN CARLOS        0.060659\n",
              "SAN LUIS          0.052860\n",
              "SAN VICENTE       0.050260\n",
              "MARINILLA         0.042461\n",
              "ABEJORRAL         0.040728\n",
              "EL RETIRO         0.037262\n",
              "SONSÓN            0.037262\n",
              "LA CEJA           0.037262\n",
              "EL CARMEN         0.037262\n",
              "SANTO DOMINGO     0.036395\n",
              "SAN RAFAEL        0.034662\n",
              "EL SANTUARIO      0.027730\n",
              "GUATAPÉ           0.026863\n",
              "SAN ROQUE         0.026863\n",
              "LA UNIÓN          0.021664\n",
              "COCORNÁ           0.019931\n",
              "CONCEPCIÓN        0.018198\n",
              "EL PEÑOL          0.016464\n",
              "GRANADA           0.013865\n",
              "SAN FRANCISCO     0.012998\n",
              "ALEJANDRÍA        0.012132\n",
              "ARGELIA           0.010399\n",
              "NARIÑO            0.009532\n",
              "PUERTO TRIUNFO    0.006932\n",
              "Name: count, dtype: float64"
            ],
            "text/html": [
              "<div>\n",
              "<style scoped>\n",
              "    .dataframe tbody tr th:only-of-type {\n",
              "        vertical-align: middle;\n",
              "    }\n",
              "\n",
              "    .dataframe tbody tr th {\n",
              "        vertical-align: top;\n",
              "    }\n",
              "\n",
              "    .dataframe thead th {\n",
              "        text-align: right;\n",
              "    }\n",
              "</style>\n",
              "<table border=\"1\" class=\"dataframe\">\n",
              "  <thead>\n",
              "    <tr style=\"text-align: right;\">\n",
              "      <th></th>\n",
              "      <th>count</th>\n",
              "    </tr>\n",
              "    <tr>\n",
              "      <th>MUNICIPIO</th>\n",
              "      <th></th>\n",
              "    </tr>\n",
              "  </thead>\n",
              "  <tbody>\n",
              "    <tr>\n",
              "      <th>RIONEGRO</th>\n",
              "      <td>0.157712</td>\n",
              "    </tr>\n",
              "    <tr>\n",
              "      <th>GUARNE</th>\n",
              "      <td>0.151646</td>\n",
              "    </tr>\n",
              "    <tr>\n",
              "      <th>SAN CARLOS</th>\n",
              "      <td>0.060659</td>\n",
              "    </tr>\n",
              "    <tr>\n",
              "      <th>SAN LUIS</th>\n",
              "      <td>0.052860</td>\n",
              "    </tr>\n",
              "    <tr>\n",
              "      <th>SAN VICENTE</th>\n",
              "      <td>0.050260</td>\n",
              "    </tr>\n",
              "    <tr>\n",
              "      <th>MARINILLA</th>\n",
              "      <td>0.042461</td>\n",
              "    </tr>\n",
              "    <tr>\n",
              "      <th>ABEJORRAL</th>\n",
              "      <td>0.040728</td>\n",
              "    </tr>\n",
              "    <tr>\n",
              "      <th>EL RETIRO</th>\n",
              "      <td>0.037262</td>\n",
              "    </tr>\n",
              "    <tr>\n",
              "      <th>SONSÓN</th>\n",
              "      <td>0.037262</td>\n",
              "    </tr>\n",
              "    <tr>\n",
              "      <th>LA CEJA</th>\n",
              "      <td>0.037262</td>\n",
              "    </tr>\n",
              "    <tr>\n",
              "      <th>EL CARMEN</th>\n",
              "      <td>0.037262</td>\n",
              "    </tr>\n",
              "    <tr>\n",
              "      <th>SANTO DOMINGO</th>\n",
              "      <td>0.036395</td>\n",
              "    </tr>\n",
              "    <tr>\n",
              "      <th>SAN RAFAEL</th>\n",
              "      <td>0.034662</td>\n",
              "    </tr>\n",
              "    <tr>\n",
              "      <th>EL SANTUARIO</th>\n",
              "      <td>0.027730</td>\n",
              "    </tr>\n",
              "    <tr>\n",
              "      <th>GUATAPÉ</th>\n",
              "      <td>0.026863</td>\n",
              "    </tr>\n",
              "    <tr>\n",
              "      <th>SAN ROQUE</th>\n",
              "      <td>0.026863</td>\n",
              "    </tr>\n",
              "    <tr>\n",
              "      <th>LA UNIÓN</th>\n",
              "      <td>0.021664</td>\n",
              "    </tr>\n",
              "    <tr>\n",
              "      <th>COCORNÁ</th>\n",
              "      <td>0.019931</td>\n",
              "    </tr>\n",
              "    <tr>\n",
              "      <th>CONCEPCIÓN</th>\n",
              "      <td>0.018198</td>\n",
              "    </tr>\n",
              "    <tr>\n",
              "      <th>EL PEÑOL</th>\n",
              "      <td>0.016464</td>\n",
              "    </tr>\n",
              "    <tr>\n",
              "      <th>GRANADA</th>\n",
              "      <td>0.013865</td>\n",
              "    </tr>\n",
              "    <tr>\n",
              "      <th>SAN FRANCISCO</th>\n",
              "      <td>0.012998</td>\n",
              "    </tr>\n",
              "    <tr>\n",
              "      <th>ALEJANDRÍA</th>\n",
              "      <td>0.012132</td>\n",
              "    </tr>\n",
              "    <tr>\n",
              "      <th>ARGELIA</th>\n",
              "      <td>0.010399</td>\n",
              "    </tr>\n",
              "    <tr>\n",
              "      <th>NARIÑO</th>\n",
              "      <td>0.009532</td>\n",
              "    </tr>\n",
              "    <tr>\n",
              "      <th>PUERTO TRIUNFO</th>\n",
              "      <td>0.006932</td>\n",
              "    </tr>\n",
              "  </tbody>\n",
              "</table>\n",
              "</div><br><label><b>dtype:</b> float64</label>"
            ]
          },
          "metadata": {},
          "execution_count": 24
        }
      ]
    },
    {
      "cell_type": "code",
      "source": [
        "Counts_Tipo = pd.value_counts( data['TIPO DE AFECTACION'] ).sort_values( ascending=False )\n",
        "Counts_Tipo"
      ],
      "metadata": {
        "colab": {
          "base_uri": "https://localhost:8080/",
          "height": 265
        },
        "id": "z8pxDTWv8FT5",
        "outputId": "17159798-d9c1-455c-bc85-c455052e0414"
      },
      "execution_count": 27,
      "outputs": [
        {
          "output_type": "stream",
          "name": "stderr",
          "text": [
            "/tmp/ipython-input-411963830.py:1: FutureWarning: pandas.value_counts is deprecated and will be removed in a future version. Use pd.Series(obj).value_counts() instead.\n",
            "  Counts_Tipo = pd.value_counts( data['TIPO DE AFECTACION'] ).sort_values( ascending=False )\n"
          ]
        },
        {
          "output_type": "execute_result",
          "data": {
            "text/plain": [
              "TIPO DE AFECTACION\n",
              "TALA BOSQUE NATURAL NATIVO        644\n",
              "MOVIMIENTO DE TIERRAS             273\n",
              "CONTAMINACIÓN POR VERTIMIENTOS    237\n",
              "Name: count, dtype: int64"
            ],
            "text/html": [
              "<div>\n",
              "<style scoped>\n",
              "    .dataframe tbody tr th:only-of-type {\n",
              "        vertical-align: middle;\n",
              "    }\n",
              "\n",
              "    .dataframe tbody tr th {\n",
              "        vertical-align: top;\n",
              "    }\n",
              "\n",
              "    .dataframe thead th {\n",
              "        text-align: right;\n",
              "    }\n",
              "</style>\n",
              "<table border=\"1\" class=\"dataframe\">\n",
              "  <thead>\n",
              "    <tr style=\"text-align: right;\">\n",
              "      <th></th>\n",
              "      <th>count</th>\n",
              "    </tr>\n",
              "    <tr>\n",
              "      <th>TIPO DE AFECTACION</th>\n",
              "      <th></th>\n",
              "    </tr>\n",
              "  </thead>\n",
              "  <tbody>\n",
              "    <tr>\n",
              "      <th>TALA BOSQUE NATURAL NATIVO</th>\n",
              "      <td>644</td>\n",
              "    </tr>\n",
              "    <tr>\n",
              "      <th>MOVIMIENTO DE TIERRAS</th>\n",
              "      <td>273</td>\n",
              "    </tr>\n",
              "    <tr>\n",
              "      <th>CONTAMINACIÓN POR VERTIMIENTOS</th>\n",
              "      <td>237</td>\n",
              "    </tr>\n",
              "  </tbody>\n",
              "</table>\n",
              "</div><br><label><b>dtype:</b> int64</label>"
            ]
          },
          "metadata": {},
          "execution_count": 27
        }
      ]
    },
    {
      "cell_type": "code",
      "source": [
        "# Tablas de contingencia (La relación entre al menos dos variables)\n",
        "CrossAfectacion = pd.crosstab( data['MUNICIPIO'], data['TIPO DE AFECTACION']  ).sort_values( by='MOVIMIENTO DE TIERRAS', ascending=False )\n",
        "CrossAfectacion"
      ],
      "metadata": {
        "colab": {
          "base_uri": "https://localhost:8080/",
          "height": 896
        },
        "id": "Xmo5gWen8W8S",
        "outputId": "cab601f9-31ad-4915-d0d4-6c7c7447994f"
      },
      "execution_count": 32,
      "outputs": [
        {
          "output_type": "execute_result",
          "data": {
            "text/plain": [
              "TIPO DE AFECTACION  CONTAMINACIÓN POR VERTIMIENTOS  MOVIMIENTO DE TIERRAS  \\\n",
              "MUNICIPIO                                                                   \n",
              "GUARNE                                          41                     43   \n",
              "RIONEGRO                                        68                     35   \n",
              "SAN VICENTE                                      3                     25   \n",
              "EL CARMEN                                        8                     16   \n",
              "LA CEJA                                          9                     14   \n",
              "SANTO DOMINGO                                    7                     14   \n",
              "EL RETIRO                                        7                     13   \n",
              "ABEJORRAL                                        7                     13   \n",
              "EL SANTUARIO                                     5                     12   \n",
              "GUATAPÉ                                          7                     11   \n",
              "SONSÓN                                           5                      7   \n",
              "SAN ROQUE                                        6                      7   \n",
              "LA UNIÓN                                         5                      7   \n",
              "SAN RAFAEL                                       7                      7   \n",
              "ALEJANDRÍA                                       3                      7   \n",
              "COCORNÁ                                          3                      6   \n",
              "MARINILLA                                       16                      6   \n",
              "EL PEÑOL                                         6                      6   \n",
              "CONCEPCIÓN                                       2                      5   \n",
              "ARGELIA                                          1                      4   \n",
              "GRANADA                                          4                      4   \n",
              "SAN CARLOS                                       2                      4   \n",
              "SAN LUIS                                         8                      4   \n",
              "NARIÑO                                           0                      1   \n",
              "PUERTO TRIUNFO                                   4                      1   \n",
              "SAN FRANCISCO                                    3                      1   \n",
              "\n",
              "TIPO DE AFECTACION  TALA BOSQUE NATURAL NATIVO  \n",
              "MUNICIPIO                                       \n",
              "GUARNE                                      91  \n",
              "RIONEGRO                                    79  \n",
              "SAN VICENTE                                 30  \n",
              "EL CARMEN                                   19  \n",
              "LA CEJA                                     20  \n",
              "SANTO DOMINGO                               21  \n",
              "EL RETIRO                                   23  \n",
              "ABEJORRAL                                   27  \n",
              "EL SANTUARIO                                15  \n",
              "GUATAPÉ                                     13  \n",
              "SONSÓN                                      31  \n",
              "SAN ROQUE                                   18  \n",
              "LA UNIÓN                                    13  \n",
              "SAN RAFAEL                                  26  \n",
              "ALEJANDRÍA                                   4  \n",
              "COCORNÁ                                     14  \n",
              "MARINILLA                                   27  \n",
              "EL PEÑOL                                     7  \n",
              "CONCEPCIÓN                                  14  \n",
              "ARGELIA                                      7  \n",
              "GRANADA                                      8  \n",
              "SAN CARLOS                                  64  \n",
              "SAN LUIS                                    49  \n",
              "NARIÑO                                      10  \n",
              "PUERTO TRIUNFO                               3  \n",
              "SAN FRANCISCO                               11  "
            ],
            "text/html": [
              "\n",
              "  <div id=\"df-6c68eae3-08bc-4b2e-8ed1-5efa0b96e222\" class=\"colab-df-container\">\n",
              "    <div>\n",
              "<style scoped>\n",
              "    .dataframe tbody tr th:only-of-type {\n",
              "        vertical-align: middle;\n",
              "    }\n",
              "\n",
              "    .dataframe tbody tr th {\n",
              "        vertical-align: top;\n",
              "    }\n",
              "\n",
              "    .dataframe thead th {\n",
              "        text-align: right;\n",
              "    }\n",
              "</style>\n",
              "<table border=\"1\" class=\"dataframe\">\n",
              "  <thead>\n",
              "    <tr style=\"text-align: right;\">\n",
              "      <th>TIPO DE AFECTACION</th>\n",
              "      <th>CONTAMINACIÓN POR VERTIMIENTOS</th>\n",
              "      <th>MOVIMIENTO DE TIERRAS</th>\n",
              "      <th>TALA BOSQUE NATURAL NATIVO</th>\n",
              "    </tr>\n",
              "    <tr>\n",
              "      <th>MUNICIPIO</th>\n",
              "      <th></th>\n",
              "      <th></th>\n",
              "      <th></th>\n",
              "    </tr>\n",
              "  </thead>\n",
              "  <tbody>\n",
              "    <tr>\n",
              "      <th>GUARNE</th>\n",
              "      <td>41</td>\n",
              "      <td>43</td>\n",
              "      <td>91</td>\n",
              "    </tr>\n",
              "    <tr>\n",
              "      <th>RIONEGRO</th>\n",
              "      <td>68</td>\n",
              "      <td>35</td>\n",
              "      <td>79</td>\n",
              "    </tr>\n",
              "    <tr>\n",
              "      <th>SAN VICENTE</th>\n",
              "      <td>3</td>\n",
              "      <td>25</td>\n",
              "      <td>30</td>\n",
              "    </tr>\n",
              "    <tr>\n",
              "      <th>EL CARMEN</th>\n",
              "      <td>8</td>\n",
              "      <td>16</td>\n",
              "      <td>19</td>\n",
              "    </tr>\n",
              "    <tr>\n",
              "      <th>LA CEJA</th>\n",
              "      <td>9</td>\n",
              "      <td>14</td>\n",
              "      <td>20</td>\n",
              "    </tr>\n",
              "    <tr>\n",
              "      <th>SANTO DOMINGO</th>\n",
              "      <td>7</td>\n",
              "      <td>14</td>\n",
              "      <td>21</td>\n",
              "    </tr>\n",
              "    <tr>\n",
              "      <th>EL RETIRO</th>\n",
              "      <td>7</td>\n",
              "      <td>13</td>\n",
              "      <td>23</td>\n",
              "    </tr>\n",
              "    <tr>\n",
              "      <th>ABEJORRAL</th>\n",
              "      <td>7</td>\n",
              "      <td>13</td>\n",
              "      <td>27</td>\n",
              "    </tr>\n",
              "    <tr>\n",
              "      <th>EL SANTUARIO</th>\n",
              "      <td>5</td>\n",
              "      <td>12</td>\n",
              "      <td>15</td>\n",
              "    </tr>\n",
              "    <tr>\n",
              "      <th>GUATAPÉ</th>\n",
              "      <td>7</td>\n",
              "      <td>11</td>\n",
              "      <td>13</td>\n",
              "    </tr>\n",
              "    <tr>\n",
              "      <th>SONSÓN</th>\n",
              "      <td>5</td>\n",
              "      <td>7</td>\n",
              "      <td>31</td>\n",
              "    </tr>\n",
              "    <tr>\n",
              "      <th>SAN ROQUE</th>\n",
              "      <td>6</td>\n",
              "      <td>7</td>\n",
              "      <td>18</td>\n",
              "    </tr>\n",
              "    <tr>\n",
              "      <th>LA UNIÓN</th>\n",
              "      <td>5</td>\n",
              "      <td>7</td>\n",
              "      <td>13</td>\n",
              "    </tr>\n",
              "    <tr>\n",
              "      <th>SAN RAFAEL</th>\n",
              "      <td>7</td>\n",
              "      <td>7</td>\n",
              "      <td>26</td>\n",
              "    </tr>\n",
              "    <tr>\n",
              "      <th>ALEJANDRÍA</th>\n",
              "      <td>3</td>\n",
              "      <td>7</td>\n",
              "      <td>4</td>\n",
              "    </tr>\n",
              "    <tr>\n",
              "      <th>COCORNÁ</th>\n",
              "      <td>3</td>\n",
              "      <td>6</td>\n",
              "      <td>14</td>\n",
              "    </tr>\n",
              "    <tr>\n",
              "      <th>MARINILLA</th>\n",
              "      <td>16</td>\n",
              "      <td>6</td>\n",
              "      <td>27</td>\n",
              "    </tr>\n",
              "    <tr>\n",
              "      <th>EL PEÑOL</th>\n",
              "      <td>6</td>\n",
              "      <td>6</td>\n",
              "      <td>7</td>\n",
              "    </tr>\n",
              "    <tr>\n",
              "      <th>CONCEPCIÓN</th>\n",
              "      <td>2</td>\n",
              "      <td>5</td>\n",
              "      <td>14</td>\n",
              "    </tr>\n",
              "    <tr>\n",
              "      <th>ARGELIA</th>\n",
              "      <td>1</td>\n",
              "      <td>4</td>\n",
              "      <td>7</td>\n",
              "    </tr>\n",
              "    <tr>\n",
              "      <th>GRANADA</th>\n",
              "      <td>4</td>\n",
              "      <td>4</td>\n",
              "      <td>8</td>\n",
              "    </tr>\n",
              "    <tr>\n",
              "      <th>SAN CARLOS</th>\n",
              "      <td>2</td>\n",
              "      <td>4</td>\n",
              "      <td>64</td>\n",
              "    </tr>\n",
              "    <tr>\n",
              "      <th>SAN LUIS</th>\n",
              "      <td>8</td>\n",
              "      <td>4</td>\n",
              "      <td>49</td>\n",
              "    </tr>\n",
              "    <tr>\n",
              "      <th>NARIÑO</th>\n",
              "      <td>0</td>\n",
              "      <td>1</td>\n",
              "      <td>10</td>\n",
              "    </tr>\n",
              "    <tr>\n",
              "      <th>PUERTO TRIUNFO</th>\n",
              "      <td>4</td>\n",
              "      <td>1</td>\n",
              "      <td>3</td>\n",
              "    </tr>\n",
              "    <tr>\n",
              "      <th>SAN FRANCISCO</th>\n",
              "      <td>3</td>\n",
              "      <td>1</td>\n",
              "      <td>11</td>\n",
              "    </tr>\n",
              "  </tbody>\n",
              "</table>\n",
              "</div>\n",
              "    <div class=\"colab-df-buttons\">\n",
              "\n",
              "  <div class=\"colab-df-container\">\n",
              "    <button class=\"colab-df-convert\" onclick=\"convertToInteractive('df-6c68eae3-08bc-4b2e-8ed1-5efa0b96e222')\"\n",
              "            title=\"Convert this dataframe to an interactive table.\"\n",
              "            style=\"display:none;\">\n",
              "\n",
              "  <svg xmlns=\"http://www.w3.org/2000/svg\" height=\"24px\" viewBox=\"0 -960 960 960\">\n",
              "    <path d=\"M120-120v-720h720v720H120Zm60-500h600v-160H180v160Zm220 220h160v-160H400v160Zm0 220h160v-160H400v160ZM180-400h160v-160H180v160Zm440 0h160v-160H620v160ZM180-180h160v-160H180v160Zm440 0h160v-160H620v160Z\"/>\n",
              "  </svg>\n",
              "    </button>\n",
              "\n",
              "  <style>\n",
              "    .colab-df-container {\n",
              "      display:flex;\n",
              "      gap: 12px;\n",
              "    }\n",
              "\n",
              "    .colab-df-convert {\n",
              "      background-color: #E8F0FE;\n",
              "      border: none;\n",
              "      border-radius: 50%;\n",
              "      cursor: pointer;\n",
              "      display: none;\n",
              "      fill: #1967D2;\n",
              "      height: 32px;\n",
              "      padding: 0 0 0 0;\n",
              "      width: 32px;\n",
              "    }\n",
              "\n",
              "    .colab-df-convert:hover {\n",
              "      background-color: #E2EBFA;\n",
              "      box-shadow: 0px 1px 2px rgba(60, 64, 67, 0.3), 0px 1px 3px 1px rgba(60, 64, 67, 0.15);\n",
              "      fill: #174EA6;\n",
              "    }\n",
              "\n",
              "    .colab-df-buttons div {\n",
              "      margin-bottom: 4px;\n",
              "    }\n",
              "\n",
              "    [theme=dark] .colab-df-convert {\n",
              "      background-color: #3B4455;\n",
              "      fill: #D2E3FC;\n",
              "    }\n",
              "\n",
              "    [theme=dark] .colab-df-convert:hover {\n",
              "      background-color: #434B5C;\n",
              "      box-shadow: 0px 1px 3px 1px rgba(0, 0, 0, 0.15);\n",
              "      filter: drop-shadow(0px 1px 2px rgba(0, 0, 0, 0.3));\n",
              "      fill: #FFFFFF;\n",
              "    }\n",
              "  </style>\n",
              "\n",
              "    <script>\n",
              "      const buttonEl =\n",
              "        document.querySelector('#df-6c68eae3-08bc-4b2e-8ed1-5efa0b96e222 button.colab-df-convert');\n",
              "      buttonEl.style.display =\n",
              "        google.colab.kernel.accessAllowed ? 'block' : 'none';\n",
              "\n",
              "      async function convertToInteractive(key) {\n",
              "        const element = document.querySelector('#df-6c68eae3-08bc-4b2e-8ed1-5efa0b96e222');\n",
              "        const dataTable =\n",
              "          await google.colab.kernel.invokeFunction('convertToInteractive',\n",
              "                                                    [key], {});\n",
              "        if (!dataTable) return;\n",
              "\n",
              "        const docLinkHtml = 'Like what you see? Visit the ' +\n",
              "          '<a target=\"_blank\" href=https://colab.research.google.com/notebooks/data_table.ipynb>data table notebook</a>'\n",
              "          + ' to learn more about interactive tables.';\n",
              "        element.innerHTML = '';\n",
              "        dataTable['output_type'] = 'display_data';\n",
              "        await google.colab.output.renderOutput(dataTable, element);\n",
              "        const docLink = document.createElement('div');\n",
              "        docLink.innerHTML = docLinkHtml;\n",
              "        element.appendChild(docLink);\n",
              "      }\n",
              "    </script>\n",
              "  </div>\n",
              "\n",
              "\n",
              "    <div id=\"df-828b34e4-2c17-4562-9a1e-8ac7eb634363\">\n",
              "      <button class=\"colab-df-quickchart\" onclick=\"quickchart('df-828b34e4-2c17-4562-9a1e-8ac7eb634363')\"\n",
              "                title=\"Suggest charts\"\n",
              "                style=\"display:none;\">\n",
              "\n",
              "<svg xmlns=\"http://www.w3.org/2000/svg\" height=\"24px\"viewBox=\"0 0 24 24\"\n",
              "     width=\"24px\">\n",
              "    <g>\n",
              "        <path d=\"M19 3H5c-1.1 0-2 .9-2 2v14c0 1.1.9 2 2 2h14c1.1 0 2-.9 2-2V5c0-1.1-.9-2-2-2zM9 17H7v-7h2v7zm4 0h-2V7h2v10zm4 0h-2v-4h2v4z\"/>\n",
              "    </g>\n",
              "</svg>\n",
              "      </button>\n",
              "\n",
              "<style>\n",
              "  .colab-df-quickchart {\n",
              "      --bg-color: #E8F0FE;\n",
              "      --fill-color: #1967D2;\n",
              "      --hover-bg-color: #E2EBFA;\n",
              "      --hover-fill-color: #174EA6;\n",
              "      --disabled-fill-color: #AAA;\n",
              "      --disabled-bg-color: #DDD;\n",
              "  }\n",
              "\n",
              "  [theme=dark] .colab-df-quickchart {\n",
              "      --bg-color: #3B4455;\n",
              "      --fill-color: #D2E3FC;\n",
              "      --hover-bg-color: #434B5C;\n",
              "      --hover-fill-color: #FFFFFF;\n",
              "      --disabled-bg-color: #3B4455;\n",
              "      --disabled-fill-color: #666;\n",
              "  }\n",
              "\n",
              "  .colab-df-quickchart {\n",
              "    background-color: var(--bg-color);\n",
              "    border: none;\n",
              "    border-radius: 50%;\n",
              "    cursor: pointer;\n",
              "    display: none;\n",
              "    fill: var(--fill-color);\n",
              "    height: 32px;\n",
              "    padding: 0;\n",
              "    width: 32px;\n",
              "  }\n",
              "\n",
              "  .colab-df-quickchart:hover {\n",
              "    background-color: var(--hover-bg-color);\n",
              "    box-shadow: 0 1px 2px rgba(60, 64, 67, 0.3), 0 1px 3px 1px rgba(60, 64, 67, 0.15);\n",
              "    fill: var(--button-hover-fill-color);\n",
              "  }\n",
              "\n",
              "  .colab-df-quickchart-complete:disabled,\n",
              "  .colab-df-quickchart-complete:disabled:hover {\n",
              "    background-color: var(--disabled-bg-color);\n",
              "    fill: var(--disabled-fill-color);\n",
              "    box-shadow: none;\n",
              "  }\n",
              "\n",
              "  .colab-df-spinner {\n",
              "    border: 2px solid var(--fill-color);\n",
              "    border-color: transparent;\n",
              "    border-bottom-color: var(--fill-color);\n",
              "    animation:\n",
              "      spin 1s steps(1) infinite;\n",
              "  }\n",
              "\n",
              "  @keyframes spin {\n",
              "    0% {\n",
              "      border-color: transparent;\n",
              "      border-bottom-color: var(--fill-color);\n",
              "      border-left-color: var(--fill-color);\n",
              "    }\n",
              "    20% {\n",
              "      border-color: transparent;\n",
              "      border-left-color: var(--fill-color);\n",
              "      border-top-color: var(--fill-color);\n",
              "    }\n",
              "    30% {\n",
              "      border-color: transparent;\n",
              "      border-left-color: var(--fill-color);\n",
              "      border-top-color: var(--fill-color);\n",
              "      border-right-color: var(--fill-color);\n",
              "    }\n",
              "    40% {\n",
              "      border-color: transparent;\n",
              "      border-right-color: var(--fill-color);\n",
              "      border-top-color: var(--fill-color);\n",
              "    }\n",
              "    60% {\n",
              "      border-color: transparent;\n",
              "      border-right-color: var(--fill-color);\n",
              "    }\n",
              "    80% {\n",
              "      border-color: transparent;\n",
              "      border-right-color: var(--fill-color);\n",
              "      border-bottom-color: var(--fill-color);\n",
              "    }\n",
              "    90% {\n",
              "      border-color: transparent;\n",
              "      border-bottom-color: var(--fill-color);\n",
              "    }\n",
              "  }\n",
              "</style>\n",
              "\n",
              "      <script>\n",
              "        async function quickchart(key) {\n",
              "          const quickchartButtonEl =\n",
              "            document.querySelector('#' + key + ' button');\n",
              "          quickchartButtonEl.disabled = true;  // To prevent multiple clicks.\n",
              "          quickchartButtonEl.classList.add('colab-df-spinner');\n",
              "          try {\n",
              "            const charts = await google.colab.kernel.invokeFunction(\n",
              "                'suggestCharts', [key], {});\n",
              "          } catch (error) {\n",
              "            console.error('Error during call to suggestCharts:', error);\n",
              "          }\n",
              "          quickchartButtonEl.classList.remove('colab-df-spinner');\n",
              "          quickchartButtonEl.classList.add('colab-df-quickchart-complete');\n",
              "        }\n",
              "        (() => {\n",
              "          let quickchartButtonEl =\n",
              "            document.querySelector('#df-828b34e4-2c17-4562-9a1e-8ac7eb634363 button');\n",
              "          quickchartButtonEl.style.display =\n",
              "            google.colab.kernel.accessAllowed ? 'block' : 'none';\n",
              "        })();\n",
              "      </script>\n",
              "    </div>\n",
              "\n",
              "  <div id=\"id_fd32e8e6-45b3-486c-a230-90bdaaab2e41\">\n",
              "    <style>\n",
              "      .colab-df-generate {\n",
              "        background-color: #E8F0FE;\n",
              "        border: none;\n",
              "        border-radius: 50%;\n",
              "        cursor: pointer;\n",
              "        display: none;\n",
              "        fill: #1967D2;\n",
              "        height: 32px;\n",
              "        padding: 0 0 0 0;\n",
              "        width: 32px;\n",
              "      }\n",
              "\n",
              "      .colab-df-generate:hover {\n",
              "        background-color: #E2EBFA;\n",
              "        box-shadow: 0px 1px 2px rgba(60, 64, 67, 0.3), 0px 1px 3px 1px rgba(60, 64, 67, 0.15);\n",
              "        fill: #174EA6;\n",
              "      }\n",
              "\n",
              "      [theme=dark] .colab-df-generate {\n",
              "        background-color: #3B4455;\n",
              "        fill: #D2E3FC;\n",
              "      }\n",
              "\n",
              "      [theme=dark] .colab-df-generate:hover {\n",
              "        background-color: #434B5C;\n",
              "        box-shadow: 0px 1px 3px 1px rgba(0, 0, 0, 0.15);\n",
              "        filter: drop-shadow(0px 1px 2px rgba(0, 0, 0, 0.3));\n",
              "        fill: #FFFFFF;\n",
              "      }\n",
              "    </style>\n",
              "    <button class=\"colab-df-generate\" onclick=\"generateWithVariable('CrossAfectacion')\"\n",
              "            title=\"Generate code using this dataframe.\"\n",
              "            style=\"display:none;\">\n",
              "\n",
              "  <svg xmlns=\"http://www.w3.org/2000/svg\" height=\"24px\"viewBox=\"0 0 24 24\"\n",
              "       width=\"24px\">\n",
              "    <path d=\"M7,19H8.4L18.45,9,17,7.55,7,17.6ZM5,21V16.75L18.45,3.32a2,2,0,0,1,2.83,0l1.4,1.43a1.91,1.91,0,0,1,.58,1.4,1.91,1.91,0,0,1-.58,1.4L9.25,21ZM18.45,9,17,7.55Zm-12,3A5.31,5.31,0,0,0,4.9,8.1,5.31,5.31,0,0,0,1,6.5,5.31,5.31,0,0,0,4.9,4.9,5.31,5.31,0,0,0,6.5,1,5.31,5.31,0,0,0,8.1,4.9,5.31,5.31,0,0,0,12,6.5,5.46,5.46,0,0,0,6.5,12Z\"/>\n",
              "  </svg>\n",
              "    </button>\n",
              "    <script>\n",
              "      (() => {\n",
              "      const buttonEl =\n",
              "        document.querySelector('#id_fd32e8e6-45b3-486c-a230-90bdaaab2e41 button.colab-df-generate');\n",
              "      buttonEl.style.display =\n",
              "        google.colab.kernel.accessAllowed ? 'block' : 'none';\n",
              "\n",
              "      buttonEl.onclick = () => {\n",
              "        google.colab.notebook.generateWithVariable('CrossAfectacion');\n",
              "      }\n",
              "      })();\n",
              "    </script>\n",
              "  </div>\n",
              "\n",
              "    </div>\n",
              "  </div>\n"
            ],
            "application/vnd.google.colaboratory.intrinsic+json": {
              "type": "dataframe",
              "variable_name": "CrossAfectacion",
              "summary": "{\n  \"name\": \"CrossAfectacion\",\n  \"rows\": 26,\n  \"fields\": [\n    {\n      \"column\": \"MUNICIPIO\",\n      \"properties\": {\n        \"dtype\": \"string\",\n        \"num_unique_values\": 26,\n        \"samples\": [\n          \"EL SANTUARIO\",\n          \"MARINILLA\",\n          \"GUARNE\"\n        ],\n        \"semantic_type\": \"\",\n        \"description\": \"\"\n      }\n    },\n    {\n      \"column\": \"CONTAMINACI\\u00d3N POR VERTIMIENTOS\",\n      \"properties\": {\n        \"dtype\": \"number\",\n        \"std\": 14,\n        \"min\": 0,\n        \"max\": 68,\n        \"num_unique_values\": 13,\n        \"samples\": [\n          4,\n          2,\n          41\n        ],\n        \"semantic_type\": \"\",\n        \"description\": \"\"\n      }\n    },\n    {\n      \"column\": \"MOVIMIENTO DE TIERRAS\",\n      \"properties\": {\n        \"dtype\": \"number\",\n        \"std\": 10,\n        \"min\": 1,\n        \"max\": 43,\n        \"num_unique_values\": 13,\n        \"samples\": [\n          4,\n          6,\n          43\n        ],\n        \"semantic_type\": \"\",\n        \"description\": \"\"\n      }\n    },\n    {\n      \"column\": \"TALA BOSQUE NATURAL NATIVO\",\n      \"properties\": {\n        \"dtype\": \"number\",\n        \"std\": 22,\n        \"min\": 3,\n        \"max\": 91,\n        \"num_unique_values\": 22,\n        \"samples\": [\n          91,\n          4,\n          15\n        ],\n        \"semantic_type\": \"\",\n        \"description\": \"\"\n      }\n    }\n  ]\n}"
            }
          },
          "metadata": {},
          "execution_count": 32
        }
      ]
    },
    {
      "cell_type": "code",
      "source": [
        "sns.heatmap( CrossAfectacion, annot=True )"
      ],
      "metadata": {
        "colab": {
          "base_uri": "https://localhost:8080/",
          "height": 712
        },
        "id": "SoIvNm6s9Urx",
        "outputId": "db0f2219-c221-4503-dd44-bf4ef01f44ba"
      },
      "execution_count": 36,
      "outputs": [
        {
          "output_type": "execute_result",
          "data": {
            "text/plain": [
              "<Axes: xlabel='TIPO DE AFECTACION', ylabel='MUNICIPIO'>"
            ]
          },
          "metadata": {},
          "execution_count": 36
        },
        {
          "output_type": "display_data",
          "data": {
            "text/plain": [
              "<Figure size 640x480 with 2 Axes>"
            ],
            "image/png": "[encoded data removed]"
          },
          "metadata": {}
        }
      ]
    },
    {
      "cell_type": "code",
      "source": [
        "ax = CrossAfectacion.plot( kind= 'barh', stacked=True )"
      ],
      "metadata": {
        "colab": {
          "base_uri": "https://localhost:8080/",
          "height": 430
        },
        "id": "igJPmIuF-JTa",
        "outputId": "8dcecdf3-cd87-4dd9-b57a-ecb365c6e2ef"
      },
      "execution_count": 41,
      "outputs": [
        {
          "output_type": "display_data",
          "data": {
            "text/plain": [
              "<Figure size 640x480 with 1 Axes>"
            ],
            "image/png": "[encoded data removed]"
          },
          "metadata": {}
        }
      ]
    },
    {
      "cell_type": "code",
      "source": [
        "#Pregunta: Promedio de reporte de tala de bosque natural nativo?"
      ],
      "metadata": {
        "id": "VWZj6pV4-nWN"
      },
      "execution_count": 43,
      "outputs": []
    },
    {
      "cell_type": "code",
      "source": [
        "TalaBosques = CrossAfectacion['TALA BOSQUE NATURAL NATIVO']\n",
        "TalaBosques"
      ],
      "metadata": {
        "colab": {
          "base_uri": "https://localhost:8080/",
          "height": 931
        },
        "id": "lvcCGA9G_OIO",
        "outputId": "0ad5266f-f92e-43f2-a703-095ca8409471"
      },
      "execution_count": 44,
      "outputs": [
        {
          "output_type": "execute_result",
          "data": {
            "text/plain": [
              "MUNICIPIO\n",
              "GUARNE            91\n",
              "RIONEGRO          79\n",
              "SAN VICENTE       30\n",
              "EL CARMEN         19\n",
              "LA CEJA           20\n",
              "SANTO DOMINGO     21\n",
              "EL RETIRO         23\n",
              "ABEJORRAL         27\n",
              "EL SANTUARIO      15\n",
              "GUATAPÉ           13\n",
              "SONSÓN            31\n",
              "SAN ROQUE         18\n",
              "LA UNIÓN          13\n",
              "SAN RAFAEL        26\n",
              "ALEJANDRÍA         4\n",
              "COCORNÁ           14\n",
              "MARINILLA         27\n",
              "EL PEÑOL           7\n",
              "CONCEPCIÓN        14\n",
              "ARGELIA            7\n",
              "GRANADA            8\n",
              "SAN CARLOS        64\n",
              "SAN LUIS          49\n",
              "NARIÑO            10\n",
              "PUERTO TRIUNFO     3\n",
              "SAN FRANCISCO     11\n",
              "Name: TALA BOSQUE NATURAL NATIVO, dtype: int64"
            ],
            "text/html": [
              "<div>\n",
              "<style scoped>\n",
              "    .dataframe tbody tr th:only-of-type {\n",
              "        vertical-align: middle;\n",
              "    }\n",
              "\n",
              "    .dataframe tbody tr th {\n",
              "        vertical-align: top;\n",
              "    }\n",
              "\n",
              "    .dataframe thead th {\n",
              "        text-align: right;\n",
              "    }\n",
              "</style>\n",
              "<table border=\"1\" class=\"dataframe\">\n",
              "  <thead>\n",
              "    <tr style=\"text-align: right;\">\n",
              "      <th></th>\n",
              "      <th>TALA BOSQUE NATURAL NATIVO</th>\n",
              "    </tr>\n",
              "    <tr>\n",
              "      <th>MUNICIPIO</th>\n",
              "      <th></th>\n",
              "    </tr>\n",
              "  </thead>\n",
              "  <tbody>\n",
              "    <tr>\n",
              "      <th>GUARNE</th>\n",
              "      <td>91</td>\n",
              "    </tr>\n",
              "    <tr>\n",
              "      <th>RIONEGRO</th>\n",
              "      <td>79</td>\n",
              "    </tr>\n",
              "    <tr>\n",
              "      <th>SAN VICENTE</th>\n",
              "      <td>30</td>\n",
              "    </tr>\n",
              "    <tr>\n",
              "      <th>EL CARMEN</th>\n",
              "      <td>19</td>\n",
              "    </tr>\n",
              "    <tr>\n",
              "      <th>LA CEJA</th>\n",
              "      <td>20</td>\n",
              "    </tr>\n",
              "    <tr>\n",
              "      <th>SANTO DOMINGO</th>\n",
              "      <td>21</td>\n",
              "    </tr>\n",
              "    <tr>\n",
              "      <th>EL RETIRO</th>\n",
              "      <td>23</td>\n",
              "    </tr>\n",
              "    <tr>\n",
              "      <th>ABEJORRAL</th>\n",
              "      <td>27</td>\n",
              "    </tr>\n",
              "    <tr>\n",
              "      <th>EL SANTUARIO</th>\n",
              "      <td>15</td>\n",
              "    </tr>\n",
              "    <tr>\n",
              "      <th>GUATAPÉ</th>\n",
              "      <td>13</td>\n",
              "    </tr>\n",
              "    <tr>\n",
              "      <th>SONSÓN</th>\n",
              "      <td>31</td>\n",
              "    </tr>\n",
              "    <tr>\n",
              "      <th>SAN ROQUE</th>\n",
              "      <td>18</td>\n",
              "    </tr>\n",
              "    <tr>\n",
              "      <th>LA UNIÓN</th>\n",
              "      <td>13</td>\n",
              "    </tr>\n",
              "    <tr>\n",
              "      <th>SAN RAFAEL</th>\n",
              "      <td>26</td>\n",
              "    </tr>\n",
              "    <tr>\n",
              "      <th>ALEJANDRÍA</th>\n",
              "      <td>4</td>\n",
              "    </tr>\n",
              "    <tr>\n",
              "      <th>COCORNÁ</th>\n",
              "      <td>14</td>\n",
              "    </tr>\n",
              "    <tr>\n",
              "      <th>MARINILLA</th>\n",
              "      <td>27</td>\n",
              "    </tr>\n",
              "    <tr>\n",
              "      <th>EL PEÑOL</th>\n",
              "      <td>7</td>\n",
              "    </tr>\n",
              "    <tr>\n",
              "      <th>CONCEPCIÓN</th>\n",
              "      <td>14</td>\n",
              "    </tr>\n",
              "    <tr>\n",
              "      <th>ARGELIA</th>\n",
              "      <td>7</td>\n",
              "    </tr>\n",
              "    <tr>\n",
              "      <th>GRANADA</th>\n",
              "      <td>8</td>\n",
              "    </tr>\n",
              "    <tr>\n",
              "      <th>SAN CARLOS</th>\n",
              "      <td>64</td>\n",
              "    </tr>\n",
              "    <tr>\n",
              "      <th>SAN LUIS</th>\n",
              "      <td>49</td>\n",
              "    </tr>\n",
              "    <tr>\n",
              "      <th>NARIÑO</th>\n",
              "      <td>10</td>\n",
              "    </tr>\n",
              "    <tr>\n",
              "      <th>PUERTO TRIUNFO</th>\n",
              "      <td>3</td>\n",
              "    </tr>\n",
              "    <tr>\n",
              "      <th>SAN FRANCISCO</th>\n",
              "      <td>11</td>\n",
              "    </tr>\n",
              "  </tbody>\n",
              "</table>\n",
              "</div><br><label><b>dtype:</b> int64</label>"
            ]
          },
          "metadata": {},
          "execution_count": 44
        }
      ]
    },
    {
      "cell_type": "code",
      "source": [
        "ValorMedio = 0.\n",
        "for municipio in TalaBosques.keys():\n",
        "  print(municipio,Probabilidad[municipio],TalaBosques[municipio])\n",
        "  ValorMedio += Probabilidad[municipio]*TalaBosques[municipio]\n",
        "ValorMedio"
      ],
      "metadata": {
        "colab": {
          "base_uri": "https://localhost:8080/"
        },
        "id": "HztuB2e8_mCq",
        "outputId": "d372a4f7-7d11-40aa-ef82-793726c87756"
      },
      "execution_count": 49,
      "outputs": [
        {
          "output_type": "stream",
          "name": "stdout",
          "text": [
            "GUARNE 0.15164644714038128 91\n",
            "RIONEGRO 0.15771230502599654 79\n",
            "SAN VICENTE 0.05025996533795494 30\n",
            "EL CARMEN 0.03726169844020797 19\n",
            "LA CEJA 0.03726169844020797 20\n",
            "SANTO DOMINGO 0.036395147313691506 21\n",
            "EL RETIRO 0.03726169844020797 23\n",
            "ABEJORRAL 0.04072790294627383 27\n",
            "EL SANTUARIO 0.02772963604852686 15\n",
            "GUATAPÉ 0.026863084922010397 13\n",
            "SONSÓN 0.03726169844020797 31\n",
            "SAN ROQUE 0.026863084922010397 18\n",
            "LA UNIÓN 0.021663778162911613 13\n",
            "SAN RAFAEL 0.03466204506065858 26\n",
            "ALEJANDRÍA 0.012131715771230503 4\n",
            "COCORNÁ 0.01993067590987868 14\n",
            "MARINILLA 0.04246100519930676 27\n",
            "EL PEÑOL 0.016464471403812825 7\n",
            "CONCEPCIÓN 0.018197573656845753 14\n",
            "ARGELIA 0.010398613518197574 7\n",
            "GRANADA 0.01386481802426343 8\n",
            "SAN CARLOS 0.060658578856152515 64\n",
            "SAN LUIS 0.05285961871750433 49\n",
            "NARIÑO 0.009532062391681109 10\n",
            "PUERTO TRIUNFO 0.006932409012131715 3\n",
            "SAN FRANCISCO 0.012998266897746967 11\n"
          ]
        },
        {
          "output_type": "execute_result",
          "data": {
            "text/plain": [
              "np.float64(44.286828422876944)"
            ]
          },
          "metadata": {},
          "execution_count": 49
        }
      ]
    },
    {
      "cell_type": "code",
      "source": [
        "Varianza = 0.\n",
        "for municipio in TalaBosques.keys():\n",
        "  print(municipio,Probabilidad[municipio],TalaBosques[municipio])\n",
        "  Varianza += Probabilidad[municipio]*(TalaBosques[municipio]-ValorMedio)**2\n",
        "Varianza"
      ],
      "metadata": {
        "colab": {
          "base_uri": "https://localhost:8080/"
        },
        "id": "_upQTdAzGVqj",
        "outputId": "1d197a91-a0a9-454e-9fad-147bf85ec350"
      },
      "execution_count": 77,
      "outputs": [
        {
          "output_type": "stream",
          "name": "stdout",
          "text": [
            "GUARNE 0.15164644714038128 91\n",
            "RIONEGRO 0.15771230502599654 79\n",
            "SAN VICENTE 0.05025996533795494 30\n",
            "EL CARMEN 0.03726169844020797 19\n",
            "LA CEJA 0.03726169844020797 20\n",
            "SANTO DOMINGO 0.036395147313691506 21\n",
            "EL RETIRO 0.03726169844020797 23\n",
            "ABEJORRAL 0.04072790294627383 27\n",
            "EL SANTUARIO 0.02772963604852686 15\n",
            "GUATAPÉ 0.026863084922010397 13\n",
            "SONSÓN 0.03726169844020797 31\n",
            "SAN ROQUE 0.026863084922010397 18\n",
            "LA UNIÓN 0.021663778162911613 13\n",
            "SAN RAFAEL 0.03466204506065858 26\n",
            "ALEJANDRÍA 0.012131715771230503 4\n",
            "COCORNÁ 0.01993067590987868 14\n",
            "MARINILLA 0.04246100519930676 27\n",
            "EL PEÑOL 0.016464471403812825 7\n",
            "CONCEPCIÓN 0.018197573656845753 14\n",
            "ARGELIA 0.010398613518197574 7\n",
            "GRANADA 0.01386481802426343 8\n",
            "SAN CARLOS 0.060658578856152515 64\n",
            "SAN LUIS 0.05285961871750433 49\n",
            "NARIÑO 0.009532062391681109 10\n",
            "PUERTO TRIUNFO 0.006932409012131715 3\n",
            "SAN FRANCISCO 0.012998266897746967 11\n"
          ]
        },
        {
          "output_type": "execute_result",
          "data": {
            "text/plain": [
              "np.float64(918.9567242565231)"
            ]
          },
          "metadata": {},
          "execution_count": 77
        }
      ]
    },
    {
      "cell_type": "code",
      "source": [
        "std = np.sqrt(Varianza)\n",
        "std"
      ],
      "metadata": {
        "colab": {
          "base_uri": "https://localhost:8080/"
        },
        "id": "ufBBHBkoGv_1",
        "outputId": "944efaf1-23d8-4858-c8b3-e39761b5f0cd"
      },
      "execution_count": 78,
      "outputs": [
        {
          "output_type": "execute_result",
          "data": {
            "text/plain": [
              "np.float64(30.314299006517093)"
            ]
          },
          "metadata": {},
          "execution_count": 78
        }
      ]
    },
    {
      "cell_type": "code",
      "source": [
        "from scipy.stats import norm\n",
        "x = np.linspace(-20,110,100)\n",
        "y = norm.pdf(x,ValorMedio,std)\n",
        "\n",
        "plt.plot(x,y)\n",
        "plt.axvline( ValorMedio, color='g', label='ValorMedio Tala' )\n",
        "plt.axvline( ValorMedio+std, color='r', label='ValorMedio+std Tala' )\n",
        "plt.axvline( ValorMedio-std, color='r', label='ValorMedio-std Tala' )\n",
        "plt.legend()"
      ],
      "metadata": {
        "colab": {
          "base_uri": "https://localhost:8080/",
          "height": 448
        },
        "id": "ikUks1NRG5Nc",
        "outputId": "12facb26-ecb3-44ef-9397-5997d3302b41"
      },
      "execution_count": 84,
      "outputs": [
        {
          "output_type": "execute_result",
          "data": {
            "text/plain": [
              "<matplotlib.legend.Legend at 0x7bb0eb9ffd10>"
            ]
          },
          "metadata": {},
          "execution_count": 84
        },
        {
          "output_type": "display_data",
          "data": {
            "text/plain": [
              "<Figure size 640x480 with 1 Axes>"
            ],
            "image/png": "[encoded data removed]"
          },
          "metadata": {}
        }
      ]
    },
    {
      "cell_type": "code",
      "source": [
        "#En que punto el numero de registros es atipico\n",
        "outlier = norm.ppf(0.95,ValorMedio,std)\n",
        "outlier"
      ],
      "metadata": {
        "colab": {
          "base_uri": "https://localhost:8080/"
        },
        "id": "5WBZhJ4AIDF3",
        "outputId": "85221eb7-6d25-4130-e417-edf903f6eb46"
      },
      "execution_count": 86,
      "outputs": [
        {
          "output_type": "execute_result",
          "data": {
            "text/plain": [
              "np.float64(94.14941309223799)"
            ]
          },
          "metadata": {},
          "execution_count": 86
        }
      ]
    },
    {
      "cell_type": "code",
      "source": [
        "plt.plot(x,y)\n",
        "plt.axvline( ValorMedio, color='g', label='ValorMedio Tala' )\n",
        "plt.axvline( ValorMedio+std, color='r', label='ValorMedio+std Tala' )\n",
        "plt.axvline( ValorMedio-std, color='r', label='ValorMedio-std Tala' )\n",
        "plt.axvline( outlier, color='y', label='outlier Tala de Bosque' )\n",
        "plt.legend()"
      ],
      "metadata": {
        "colab": {
          "base_uri": "https://localhost:8080/",
          "height": 448
        },
        "id": "20M9l3qOIcfy",
        "outputId": "424baca5-8778-4269-b1a7-1a4ead7fd419"
      },
      "execution_count": 87,
      "outputs": [
        {
          "output_type": "execute_result",
          "data": {
            "text/plain": [
              "<matplotlib.legend.Legend at 0x7bb0f00db7d0>"
            ]
          },
          "metadata": {},
          "execution_count": 87
        },
        {
          "output_type": "display_data",
          "data": {
            "text/plain": [
              "<Figure size 640x480 with 1 Axes>"
            ],
            "image/png": "[encoded data removed]"
          },
          "metadata": {}
        }
      ]
    },
    {
      "cell_type": "code",
      "source": [
        "ax = CrossAfectacion.plot( kind= 'barh', stacked=True )\n",
        "ax.axvline( ValorMedio, color='g', label='ValorMedio Tala' )\n",
        "ax.legend()"
      ],
      "metadata": {
        "colab": {
          "base_uri": "https://localhost:8080/",
          "height": 448
        },
        "id": "pIakWO6N_zsc",
        "outputId": "eb63c09e-4a57-4344-a95b-2e7dc2f93773"
      },
      "execution_count": 51,
      "outputs": [
        {
          "output_type": "execute_result",
          "data": {
            "text/plain": [
              "<matplotlib.legend.Legend at 0x7bb0ebb6c200>"
            ]
          },
          "metadata": {},
          "execution_count": 51
        },
        {
          "output_type": "display_data",
          "data": {
            "text/plain": [
              "<Figure size 640x480 with 1 Axes>"
            ],
            "image/png": "[encoded data removed]"
          },
          "metadata": {}
        }
      ]
    },
    {
      "cell_type": "code",
      "source": [
        "Movimientos = CrossAfectacion['MOVIMIENTO DE TIERRAS']\n",
        "#Movimientos"
      ],
      "metadata": {
        "id": "lu-yu1hi__yY"
      },
      "execution_count": 55,
      "outputs": []
    },
    {
      "cell_type": "code",
      "source": [
        "ValorMedio1 = 0.\n",
        "for municipio in Movimientos.keys():\n",
        "  print(municipio,Probabilidad[municipio],Movimientos[municipio])\n",
        "  ValorMedio1 += Probabilidad[municipio]*Movimientos[municipio]\n",
        "ValorMedio1"
      ],
      "metadata": {
        "colab": {
          "base_uri": "https://localhost:8080/"
        },
        "id": "lRKwlW-tCDL4",
        "outputId": "b3973ab8-ba5a-4ec5-a38f-5e0e65eb288d"
      },
      "execution_count": 56,
      "outputs": [
        {
          "output_type": "stream",
          "name": "stdout",
          "text": [
            "GUARNE 0.15164644714038128 43\n",
            "RIONEGRO 0.15771230502599654 35\n",
            "SAN VICENTE 0.05025996533795494 25\n",
            "EL CARMEN 0.03726169844020797 16\n",
            "LA CEJA 0.03726169844020797 14\n",
            "SANTO DOMINGO 0.036395147313691506 14\n",
            "EL RETIRO 0.03726169844020797 13\n",
            "ABEJORRAL 0.04072790294627383 13\n",
            "EL SANTUARIO 0.02772963604852686 12\n",
            "GUATAPÉ 0.026863084922010397 11\n",
            "SONSÓN 0.03726169844020797 7\n",
            "SAN ROQUE 0.026863084922010397 7\n",
            "LA UNIÓN 0.021663778162911613 7\n",
            "SAN RAFAEL 0.03466204506065858 7\n",
            "ALEJANDRÍA 0.012131715771230503 7\n",
            "COCORNÁ 0.01993067590987868 6\n",
            "MARINILLA 0.04246100519930676 6\n",
            "EL PEÑOL 0.016464471403812825 6\n",
            "CONCEPCIÓN 0.018197573656845753 5\n",
            "ARGELIA 0.010398613518197574 4\n",
            "GRANADA 0.01386481802426343 4\n",
            "SAN CARLOS 0.060658578856152515 4\n",
            "SAN LUIS 0.05285961871750433 4\n",
            "NARIÑO 0.009532062391681109 1\n",
            "PUERTO TRIUNFO 0.006932409012131715 1\n",
            "SAN FRANCISCO 0.012998266897746967 1\n"
          ]
        },
        {
          "output_type": "execute_result",
          "data": {
            "text/plain": [
              "np.float64(18.639514731369154)"
            ]
          },
          "metadata": {},
          "execution_count": 56
        }
      ]
    },
    {
      "cell_type": "code",
      "source": [
        "ax = CrossAfectacion.plot( kind= 'barh', stacked=True )\n",
        "ax.axvline( ValorMedio, color='g', label='ValorMedio Tala' )\n",
        "ax.axvline( ValorMedio1, color='y', label='ValorMedio Movimientos tierras' )\n",
        "ax.legend()"
      ],
      "metadata": {
        "colab": {
          "base_uri": "https://localhost:8080/",
          "height": 448
        },
        "id": "bhM81StoCe4O",
        "outputId": "f608cdc9-d867-4c13-e282-d63e2f904c6a"
      },
      "execution_count": 58,
      "outputs": [
        {
          "output_type": "execute_result",
          "data": {
            "text/plain": [
              "<matplotlib.legend.Legend at 0x7bb0eb503470>"
            ]
          },
          "metadata": {},
          "execution_count": 58
        },
        {
          "output_type": "display_data",
          "data": {
            "text/plain": [
              "<Figure size 640x480 with 1 Axes>"
            ],
            "image/png": "[encoded data removed]"
          },
          "metadata": {}
        }
      ]
    },
    {
      "cell_type": "code",
      "source": [
        "Counts_reception = pd.value_counts( data['MEDIO DE  RECEPCION'] )\n",
        "Counts_reception"
      ],
      "metadata": {
        "colab": {
          "base_uri": "https://localhost:8080/",
          "height": 359
        },
        "id": "061g4ANeCr-x",
        "outputId": "a9681ec5-10a8-427c-ef5f-ddfa67fabe83"
      },
      "execution_count": 71,
      "outputs": [
        {
          "output_type": "stream",
          "name": "stderr",
          "text": [
            "/tmp/ipython-input-1981732866.py:1: FutureWarning: pandas.value_counts is deprecated and will be removed in a future version. Use pd.Series(obj).value_counts() instead.\n",
            "  Counts_reception = pd.value_counts( data['MEDIO DE  RECEPCION'] )\n"
          ]
        },
        {
          "output_type": "execute_result",
          "data": {
            "text/plain": [
              "MEDIO DE  RECEPCION\n",
              "Telefónico            645\n",
              "Pagina Web            284\n",
              "Correo electrónico    217\n",
              "Escrita                 4\n",
              "Personal                3\n",
              "De oficio               1\n",
              "Name: count, dtype: int64"
            ],
            "text/html": [
              "<div>\n",
              "<style scoped>\n",
              "    .dataframe tbody tr th:only-of-type {\n",
              "        vertical-align: middle;\n",
              "    }\n",
              "\n",
              "    .dataframe tbody tr th {\n",
              "        vertical-align: top;\n",
              "    }\n",
              "\n",
              "    .dataframe thead th {\n",
              "        text-align: right;\n",
              "    }\n",
              "</style>\n",
              "<table border=\"1\" class=\"dataframe\">\n",
              "  <thead>\n",
              "    <tr style=\"text-align: right;\">\n",
              "      <th></th>\n",
              "      <th>count</th>\n",
              "    </tr>\n",
              "    <tr>\n",
              "      <th>MEDIO DE  RECEPCION</th>\n",
              "      <th></th>\n",
              "    </tr>\n",
              "  </thead>\n",
              "  <tbody>\n",
              "    <tr>\n",
              "      <th>Telefónico</th>\n",
              "      <td>645</td>\n",
              "    </tr>\n",
              "    <tr>\n",
              "      <th>Pagina Web</th>\n",
              "      <td>284</td>\n",
              "    </tr>\n",
              "    <tr>\n",
              "      <th>Correo electrónico</th>\n",
              "      <td>217</td>\n",
              "    </tr>\n",
              "    <tr>\n",
              "      <th>Escrita</th>\n",
              "      <td>4</td>\n",
              "    </tr>\n",
              "    <tr>\n",
              "      <th>Personal</th>\n",
              "      <td>3</td>\n",
              "    </tr>\n",
              "    <tr>\n",
              "      <th>De oficio</th>\n",
              "      <td>1</td>\n",
              "    </tr>\n",
              "  </tbody>\n",
              "</table>\n",
              "</div><br><label><b>dtype:</b> int64</label>"
            ]
          },
          "metadata": {},
          "execution_count": 71
        }
      ]
    },
    {
      "cell_type": "code",
      "source": [
        "mask = Counts_reception.index == 'Telefónico'\n",
        "mask1 = Counts_reception.index == 'Pagina Web'\n",
        "mask2 = Counts_reception.index == 'Correo electrónico'\n",
        "NewCounts = Counts_reception[mask | mask1 | mask2]"
      ],
      "metadata": {
        "id": "cv56Lu28FChu"
      },
      "execution_count": 74,
      "outputs": []
    },
    {
      "cell_type": "code",
      "source": [
        "ax = NewCounts.plot( kind='pie', autopct='%1.2f%%' )"
      ],
      "metadata": {
        "colab": {
          "base_uri": "https://localhost:8080/",
          "height": 406
        },
        "id": "D7itZImVDCNq",
        "outputId": "ffc205fe-8abe-4cfd-825a-305541a6c474"
      },
      "execution_count": 75,
      "outputs": [
        {
          "output_type": "display_data",
          "data": {
            "text/plain": [
              "<Figure size 640x480 with 1 Axes>"
            ],
            "image/png": "[encoded data removed]"
          },
          "metadata": {}
        }
      ]
    },
    {
      "cell_type": "code",
      "source": [],
      "metadata": {
        "id": "0M9RJec6DDfo"
      },
      "execution_count": null,
      "outputs": []
    }
  ]
}