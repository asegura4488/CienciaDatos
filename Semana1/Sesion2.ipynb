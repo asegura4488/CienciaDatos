{
  "nbformat": 4,
  "nbformat_minor": 0,
  "metadata": {
    "colab": {
      "provenance": [],
      "authorship_tag": "ABX9TyOEI5+viWAnMlIhAth0u2Lu",
      "include_colab_link": true
    },
    "kernelspec": {
      "name": "python3",
      "display_name": "Python 3"
    },
    "language_info": {
      "name": "python"
    }
  },
  "cells": [
    {
      "cell_type": "markdown",
      "metadata": {
        "id": "view-in-github",
        "colab_type": "text"
      },
      "source": [
        "<a href=\"https://colab.research.google.com/github/asegura4488/CienciaDatos/blob/main/Semana1/Sesion2.ipynb\" target=\"_parent\"><img src=\"https://colab.research.google.com/assets/colab-badge.svg\" alt=\"Open In Colab\"/></a>"
      ]
    },
    {
      "cell_type": "code",
      "execution_count": 71,
      "metadata": {
        "id": "V7UU75gXvvyO"
      },
      "outputs": [],
      "source": [
        "# Cómo generalizamos el concepto de variable?\n",
        "\n",
        "# Quizá necesitamos un conjunto de variables (sin desconexion)\n",
        "import numpy as np\n",
        "Nombre1 = ''\n",
        "Nombre2 = ''"
      ]
    },
    {
      "cell_type": "code",
      "source": [
        "Lista1 = []\n",
        "type(Lista1)"
      ],
      "metadata": {
        "colab": {
          "base_uri": "https://localhost:8080/"
        },
        "id": "t56Rd5U8v0fr",
        "outputId": "29c5cf43-56d6-40a2-a57c-896d119f97ba"
      },
      "execution_count": 72,
      "outputs": [
        {
          "output_type": "execute_result",
          "data": {
            "text/plain": [
              "list"
            ]
          },
          "metadata": {},
          "execution_count": 72
        }
      ]
    },
    {
      "cell_type": "code",
      "source": [
        "# Método que mida su longitud\n",
        "len(Lista1)"
      ],
      "metadata": {
        "colab": {
          "base_uri": "https://localhost:8080/"
        },
        "id": "nmsEVLYmwUPe",
        "outputId": "3aaab25c-6677-4750-ba2e-7c1680737d96"
      },
      "execution_count": 73,
      "outputs": [
        {
          "output_type": "execute_result",
          "data": {
            "text/plain": [
              "0"
            ]
          },
          "metadata": {},
          "execution_count": 73
        }
      ]
    },
    {
      "cell_type": "code",
      "source": [
        "# Método que incluya nuevos elementos\n",
        "Lista1 = []\n",
        "Lista1.append(1)\n",
        "Lista1.append(3)\n",
        "Lista1.append(6.5)\n",
        "Lista1.append(4)\n",
        "Lista1.append(9.81)"
      ],
      "metadata": {
        "id": "dHamNZxgxOJW"
      },
      "execution_count": 74,
      "outputs": []
    },
    {
      "cell_type": "code",
      "source": [
        "Lista1"
      ],
      "metadata": {
        "colab": {
          "base_uri": "https://localhost:8080/"
        },
        "id": "4cjuT-A9xfKE",
        "outputId": "b39259c4-856c-4c85-e0b3-80f33bcc79dc"
      },
      "execution_count": 75,
      "outputs": [
        {
          "output_type": "execute_result",
          "data": {
            "text/plain": [
              "[1, 3, 6.5, 4, 9.81]"
            ]
          },
          "metadata": {},
          "execution_count": 75
        }
      ]
    },
    {
      "cell_type": "code",
      "source": [
        "# Acceder a los datos?\n",
        "dim = 1*len(Lista1)\n",
        "dim"
      ],
      "metadata": {
        "colab": {
          "base_uri": "https://localhost:8080/"
        },
        "id": "bOO5U_IkxgKf",
        "outputId": "85c4ff22-1af2-4e5c-b844-8cde9b911da3"
      },
      "execution_count": 76,
      "outputs": [
        {
          "output_type": "execute_result",
          "data": {
            "text/plain": [
              "5"
            ]
          },
          "metadata": {},
          "execution_count": 76
        }
      ]
    },
    {
      "cell_type": "code",
      "source": [
        "# En orden canonica de izquierda a derecha\n",
        "Lista1[1]"
      ],
      "metadata": {
        "colab": {
          "base_uri": "https://localhost:8080/"
        },
        "id": "7kBZWAHAyXrh",
        "outputId": "ede6ee70-6e47-4c1d-8c36-b64e00248627"
      },
      "execution_count": 77,
      "outputs": [
        {
          "output_type": "execute_result",
          "data": {
            "text/plain": [
              "3"
            ]
          },
          "metadata": {},
          "execution_count": 77
        }
      ]
    },
    {
      "cell_type": "code",
      "source": [
        "Lista1[-1]"
      ],
      "metadata": {
        "colab": {
          "base_uri": "https://localhost:8080/"
        },
        "id": "Y0n-NUCHy23Q",
        "outputId": "29ce90d6-7de8-48f3-8caa-c5b25d42e3bb"
      },
      "execution_count": 78,
      "outputs": [
        {
          "output_type": "execute_result",
          "data": {
            "text/plain": [
              "9.81"
            ]
          },
          "metadata": {},
          "execution_count": 78
        }
      ]
    },
    {
      "cell_type": "code",
      "source": [
        "Lista1[-2]"
      ],
      "metadata": {
        "colab": {
          "base_uri": "https://localhost:8080/"
        },
        "id": "2iLDCHwlzaKp",
        "outputId": "11353a6f-8ea1-4c9a-d7d3-b1246881c666"
      },
      "execution_count": 79,
      "outputs": [
        {
          "output_type": "execute_result",
          "data": {
            "text/plain": [
              "4"
            ]
          },
          "metadata": {},
          "execution_count": 79
        }
      ]
    },
    {
      "cell_type": "code",
      "source": [
        "# Necesitamos estableces una mascara (filtro)!\n",
        "Lista1[1:4] # los : dentro de una lista es slicing\n",
        "# Estamos tomando las posiciones 1,2,3"
      ],
      "metadata": {
        "colab": {
          "base_uri": "https://localhost:8080/"
        },
        "id": "AC3P3LJzzdOC",
        "outputId": "c69a7751-10d3-43d4-87e6-c84ca8ba64de"
      },
      "execution_count": 80,
      "outputs": [
        {
          "output_type": "execute_result",
          "data": {
            "text/plain": [
              "[3, 6.5, 4]"
            ]
          },
          "metadata": {},
          "execution_count": 80
        }
      ]
    },
    {
      "cell_type": "code",
      "source": [
        "# Queremos tomar los ultimos dos datos\n",
        "Lista1[-2:]\n",
        "#Es equivalente a :\n",
        "#Lista1[3:5]"
      ],
      "metadata": {
        "colab": {
          "base_uri": "https://localhost:8080/"
        },
        "id": "vWqzIoPx0GD_",
        "outputId": "81da6868-64c8-4517-971b-51a9c39609ad"
      },
      "execution_count": 81,
      "outputs": [
        {
          "output_type": "execute_result",
          "data": {
            "text/plain": [
              "[4, 9.81]"
            ]
          },
          "metadata": {},
          "execution_count": 81
        }
      ]
    },
    {
      "cell_type": "code",
      "source": [],
      "metadata": {
        "id": "qeilYfO719cj"
      },
      "execution_count": 81,
      "outputs": []
    },
    {
      "cell_type": "code",
      "source": [
        "# Si queremos seleccionar indices especificos\n",
        "indices = [0,2,4]\n",
        "\n",
        "# loop comprension\n",
        "listafiltrada = [ Lista1[i] for i in indices ]\n",
        "listafiltrada"
      ],
      "metadata": {
        "colab": {
          "base_uri": "https://localhost:8080/"
        },
        "id": "Eftv3XfR03JK",
        "outputId": "6065503f-5e7c-456f-f0c0-ba0fd12214b4"
      },
      "execution_count": 82,
      "outputs": [
        {
          "output_type": "execute_result",
          "data": {
            "text/plain": [
              "[1, 6.5, 9.81]"
            ]
          },
          "metadata": {},
          "execution_count": 82
        }
      ]
    },
    {
      "cell_type": "code",
      "source": [
        "Lista1"
      ],
      "metadata": {
        "colab": {
          "base_uri": "https://localhost:8080/"
        },
        "id": "G9E72OEt1VG7",
        "outputId": "3265ae04-758f-4f63-9190-504f1d0cc88d"
      },
      "execution_count": 83,
      "outputs": [
        {
          "output_type": "execute_result",
          "data": {
            "text/plain": [
              "[1, 3, 6.5, 4, 9.81]"
            ]
          },
          "metadata": {},
          "execution_count": 83
        }
      ]
    },
    {
      "cell_type": "code",
      "source": [
        "# Cómo obtengo un \"muestra\" según algun valor??\n",
        "#Valores mayores a 2?"
      ],
      "metadata": {
        "id": "vypmYspb1XDu"
      },
      "execution_count": 84,
      "outputs": []
    },
    {
      "cell_type": "code",
      "source": [
        "Mayores2 = [ x for x in Lista1 if x > 2] # Filtrado numerico\n",
        "Mayores2"
      ],
      "metadata": {
        "colab": {
          "base_uri": "https://localhost:8080/"
        },
        "id": "GTCA6-0F25qi",
        "outputId": "9f2a6609-da76-4f30-ea9b-ceae3d8d751f"
      },
      "execution_count": 85,
      "outputs": [
        {
          "output_type": "execute_result",
          "data": {
            "text/plain": [
              "[3, 6.5, 4, 9.81]"
            ]
          },
          "metadata": {},
          "execution_count": 85
        }
      ]
    },
    {
      "cell_type": "code",
      "source": [
        "Lista1 = np.array(Lista1)\n",
        "Lista1 > 2"
      ],
      "metadata": {
        "colab": {
          "base_uri": "https://localhost:8080/"
        },
        "id": "MtKmfDTO3q_F",
        "outputId": "9e71a79e-bba7-4ec7-e15b-de77e7980581"
      },
      "execution_count": 86,
      "outputs": [
        {
          "output_type": "execute_result",
          "data": {
            "text/plain": [
              "array([False,  True,  True,  True,  True])"
            ]
          },
          "metadata": {},
          "execution_count": 86
        }
      ]
    },
    {
      "cell_type": "code",
      "source": [
        "Mayores2_2 = Lista1[ Lista1 > 2 ]\n",
        "Mayores2_2"
      ],
      "metadata": {
        "colab": {
          "base_uri": "https://localhost:8080/"
        },
        "id": "2blx53YI3Nqe",
        "outputId": "5ea63c43-91f4-4db3-f2b2-3f15f5620494"
      },
      "execution_count": 87,
      "outputs": [
        {
          "output_type": "execute_result",
          "data": {
            "text/plain": [
              "array([3.  , 6.5 , 4.  , 9.81])"
            ]
          },
          "metadata": {},
          "execution_count": 87
        }
      ]
    },
    {
      "cell_type": "code",
      "source": [
        "# Quiero filtrar la informacion para valores mayores a 2 y menores que 7\n",
        "mayores2_7 = [ x for x in Lista1 if 7 > x > 2 ]\n",
        "mayores2_7"
      ],
      "metadata": {
        "colab": {
          "base_uri": "https://localhost:8080/"
        },
        "id": "3bMPIQKR3hB3",
        "outputId": "0ddb0519-59dc-4f0a-a342-43236f6bd286"
      },
      "execution_count": 89,
      "outputs": [
        {
          "output_type": "execute_result",
          "data": {
            "text/plain": [
              "[np.float64(3.0), np.float64(6.5), np.float64(4.0)]"
            ]
          },
          "metadata": {},
          "execution_count": 89
        }
      ]
    },
    {
      "cell_type": "code",
      "source": [
        "Lista1 > 2"
      ],
      "metadata": {
        "colab": {
          "base_uri": "https://localhost:8080/"
        },
        "id": "FgdS7TEh5qdF",
        "outputId": "2e83357f-e7a4-4d7e-8254-c8858502c666"
      },
      "execution_count": 90,
      "outputs": [
        {
          "output_type": "execute_result",
          "data": {
            "text/plain": [
              "array([False,  True,  True,  True,  True])"
            ]
          },
          "metadata": {},
          "execution_count": 90
        }
      ]
    },
    {
      "cell_type": "code",
      "source": [
        "Lista1 < 7"
      ],
      "metadata": {
        "colab": {
          "base_uri": "https://localhost:8080/"
        },
        "id": "j1LI6s9A5-3q",
        "outputId": "f1d21af4-f272-41fe-e852-8ac8e05741c1"
      },
      "execution_count": 91,
      "outputs": [
        {
          "output_type": "execute_result",
          "data": {
            "text/plain": [
              "array([ True,  True,  True,  True, False])"
            ]
          },
          "metadata": {},
          "execution_count": 91
        }
      ]
    },
    {
      "cell_type": "code",
      "source": [
        "(Lista1 > 2) & (Lista1 < 7)"
      ],
      "metadata": {
        "colab": {
          "base_uri": "https://localhost:8080/"
        },
        "id": "OQCXBVWi6mxH",
        "outputId": "475a9abd-a413-4f7c-c57b-b1b995ba78f5"
      },
      "execution_count": 98,
      "outputs": [
        {
          "output_type": "execute_result",
          "data": {
            "text/plain": [
              "array([False,  True,  True,  True, False])"
            ]
          },
          "metadata": {},
          "execution_count": 98
        }
      ]
    },
    {
      "cell_type": "code",
      "source": [
        "Lista1[ (Lista1 > 2) & (Lista1 < 7) ]"
      ],
      "metadata": {
        "colab": {
          "base_uri": "https://localhost:8080/"
        },
        "id": "WFDD4t_-6A8H",
        "outputId": "71a24a6b-a80b-440d-aba6-0663908ce90b"
      },
      "execution_count": 97,
      "outputs": [
        {
          "output_type": "execute_result",
          "data": {
            "text/plain": [
              "array([3. , 6.5, 4. ])"
            ]
          },
          "metadata": {},
          "execution_count": 97
        }
      ]
    },
    {
      "cell_type": "code",
      "source": [
        "# Queremos valores mayores que 9 y menores que 7"
      ],
      "metadata": {
        "id": "_mGnJM-R6VAs"
      },
      "execution_count": 99,
      "outputs": []
    },
    {
      "cell_type": "code",
      "source": [
        "Lista1"
      ],
      "metadata": {
        "colab": {
          "base_uri": "https://localhost:8080/"
        },
        "id": "X6kfWVNt7Em5",
        "outputId": "3d05bba6-2ce6-4bbd-e5a4-b0e9ebdde254"
      },
      "execution_count": 100,
      "outputs": [
        {
          "output_type": "execute_result",
          "data": {
            "text/plain": [
              "array([1.  , 3.  , 6.5 , 4.  , 9.81])"
            ]
          },
          "metadata": {},
          "execution_count": 100
        }
      ]
    },
    {
      "cell_type": "code",
      "source": [
        "(Lista1 > 9) & (Lista1 < 7)"
      ],
      "metadata": {
        "colab": {
          "base_uri": "https://localhost:8080/"
        },
        "id": "W9X6CnX17GsD",
        "outputId": "9955fae5-e1cc-4c62-a4f9-55f43fcaf312"
      },
      "execution_count": 101,
      "outputs": [
        {
          "output_type": "execute_result",
          "data": {
            "text/plain": [
              "array([False, False, False, False, False])"
            ]
          },
          "metadata": {},
          "execution_count": 101
        }
      ]
    },
    {
      "cell_type": "code",
      "source": [
        "# Y si queremos O\n",
        "(Lista1 > 9) | (Lista1 < 7)"
      ],
      "metadata": {
        "colab": {
          "base_uri": "https://localhost:8080/"
        },
        "id": "09hFPR108BHz",
        "outputId": "b1c32afb-9cb7-434e-a721-8da16ab568fa"
      },
      "execution_count": 102,
      "outputs": [
        {
          "output_type": "execute_result",
          "data": {
            "text/plain": [
              "array([ True,  True,  True,  True,  True])"
            ]
          },
          "metadata": {},
          "execution_count": 102
        }
      ]
    },
    {
      "cell_type": "code",
      "source": [
        "Lista1[ (Lista1 > 9) | (Lista1 < 7) ]"
      ],
      "metadata": {
        "colab": {
          "base_uri": "https://localhost:8080/"
        },
        "id": "b_m7WFwO7eC1",
        "outputId": "7e5151f0-9765-45df-8470-78dba4e7f809"
      },
      "execution_count": 103,
      "outputs": [
        {
          "output_type": "execute_result",
          "data": {
            "text/plain": [
              "array([1.  , 3.  , 6.5 , 4.  , 9.81])"
            ]
          },
          "metadata": {},
          "execution_count": 103
        }
      ]
    },
    {
      "cell_type": "code",
      "source": [
        "# Una ultima forma de filtrar\n",
        "np.where(Lista1 > 6)"
      ],
      "metadata": {
        "colab": {
          "base_uri": "https://localhost:8080/"
        },
        "id": "6tk6od-k8Gdc",
        "outputId": "78aa7c46-d97d-4602-f8df-ede8543c787f"
      },
      "execution_count": 106,
      "outputs": [
        {
          "output_type": "execute_result",
          "data": {
            "text/plain": [
              "(array([2, 4]),)"
            ]
          },
          "metadata": {},
          "execution_count": 106
        }
      ]
    },
    {
      "cell_type": "code",
      "source": [
        "# Una ultima forma de filtrar\n",
        "def EscogerEdad(x):\n",
        "  return x > 7"
      ],
      "metadata": {
        "id": "U3lve8F_945t"
      },
      "execution_count": 107,
      "outputs": []
    },
    {
      "cell_type": "code",
      "source": [
        "ListaMenores = list( filter(EscogerEdad,Lista1) )\n",
        "ListaMenores"
      ],
      "metadata": {
        "colab": {
          "base_uri": "https://localhost:8080/"
        },
        "id": "zwPQhxse-k3x",
        "outputId": "0e91df5f-e9b7-4acf-94fb-52940be28b28"
      },
      "execution_count": 108,
      "outputs": [
        {
          "output_type": "execute_result",
          "data": {
            "text/plain": [
              "[np.float64(9.81)]"
            ]
          },
          "metadata": {},
          "execution_count": 108
        }
      ]
    },
    {
      "cell_type": "markdown",
      "source": [
        "# Calles y Carreras -> Matrices -> Hoja de calculo\n",
        "## Matriz sea una lista de listas"
      ],
      "metadata": {
        "id": "DoyKwpFC-3H2"
      }
    },
    {
      "cell_type": "code",
      "source": [
        "Matriz = [[4,5],[3,2],[5,9]]\n",
        "type(Matriz)"
      ],
      "metadata": {
        "colab": {
          "base_uri": "https://localhost:8080/"
        },
        "id": "1C1ZBaAs-uZT",
        "outputId": "7cfbbc6c-af34-463c-ff62-f034c24d63e1"
      },
      "execution_count": 130,
      "outputs": [
        {
          "output_type": "execute_result",
          "data": {
            "text/plain": [
              "list"
            ]
          },
          "metadata": {},
          "execution_count": 130
        }
      ]
    },
    {
      "cell_type": "code",
      "source": [
        "Matriz"
      ],
      "metadata": {
        "colab": {
          "base_uri": "https://localhost:8080/"
        },
        "id": "Vq41EaoCDFMu",
        "outputId": "79999f4f-c6bc-4b39-9276-249fb05dad94"
      },
      "execution_count": 131,
      "outputs": [
        {
          "output_type": "execute_result",
          "data": {
            "text/plain": [
              "[[4, 5], [3, 2], [5, 9]]"
            ]
          },
          "metadata": {},
          "execution_count": 131
        }
      ]
    },
    {
      "cell_type": "code",
      "source": [
        "Matriz[0]"
      ],
      "metadata": {
        "colab": {
          "base_uri": "https://localhost:8080/"
        },
        "id": "AZxQLbwc_PsP",
        "outputId": "a8130709-dc59-40bf-a5c8-7a850c60c25a"
      },
      "execution_count": 132,
      "outputs": [
        {
          "output_type": "execute_result",
          "data": {
            "text/plain": [
              "[4, 5]"
            ]
          },
          "metadata": {},
          "execution_count": 132
        }
      ]
    },
    {
      "cell_type": "code",
      "source": [
        "Matriz[1]"
      ],
      "metadata": {
        "colab": {
          "base_uri": "https://localhost:8080/"
        },
        "id": "X3kgGqGm_ZTj",
        "outputId": "9c08be1a-d875-4448-e935-d7a10983cfa6"
      },
      "execution_count": 133,
      "outputs": [
        {
          "output_type": "execute_result",
          "data": {
            "text/plain": [
              "[3, 2]"
            ]
          },
          "metadata": {},
          "execution_count": 133
        }
      ]
    },
    {
      "cell_type": "code",
      "source": [],
      "metadata": {
        "id": "at2sJqEnAL5K"
      },
      "execution_count": 133,
      "outputs": []
    },
    {
      "cell_type": "code",
      "source": [
        "Matriz"
      ],
      "metadata": {
        "colab": {
          "base_uri": "https://localhost:8080/"
        },
        "id": "oFo_tpfj_nbu",
        "outputId": "2d010604-ef16-4819-dc0d-ad401950e35d"
      },
      "execution_count": 134,
      "outputs": [
        {
          "output_type": "execute_result",
          "data": {
            "text/plain": [
              "[[4, 5], [3, 2], [5, 9]]"
            ]
          },
          "metadata": {},
          "execution_count": 134
        }
      ]
    },
    {
      "cell_type": "code",
      "source": [
        "# Como iteramos este nuevo objeto (\"Accesibilidad\")\n",
        "for i in range(3):\n",
        "\n",
        "  if i == 0:\n",
        "    print('Calle ',Matriz[i])\n",
        "    for j in range(2):\n",
        "      print(Matriz[i][j])\n",
        "  elif i == 1:\n",
        "    print('Calle ',Matriz[i])\n",
        "    for j in range(2):\n",
        "      print(Matriz[i][j])\n",
        "  elif i == 2:\n",
        "    print('Calle ',Matriz[i])\n",
        "    for j in range(2):\n",
        "      print(Matriz[i][j])"
      ],
      "metadata": {
        "colab": {
          "base_uri": "https://localhost:8080/"
        },
        "id": "IY504_XI_vpm",
        "outputId": "e72c94b2-f095-4284-d025-39309dedc888"
      },
      "execution_count": 137,
      "outputs": [
        {
          "output_type": "stream",
          "name": "stdout",
          "text": [
            "Calle  [4, 5]\n",
            "4\n",
            "5\n",
            "Calle  [3, 2]\n",
            "3\n",
            "2\n",
            "Calle  [5, 9]\n",
            "5\n",
            "9\n"
          ]
        }
      ]
    },
    {
      "cell_type": "code",
      "source": [
        "Matriz = np.array(Matriz)\n",
        "Matriz"
      ],
      "metadata": {
        "colab": {
          "base_uri": "https://localhost:8080/"
        },
        "id": "DrKCvILjDn9r",
        "outputId": "72af1401-d95c-44f4-f11c-67e1e62a6840"
      },
      "execution_count": 138,
      "outputs": [
        {
          "output_type": "execute_result",
          "data": {
            "text/plain": [
              "array([[4, 5],\n",
              "       [3, 2],\n",
              "       [5, 9]])"
            ]
          },
          "metadata": {},
          "execution_count": 138
        }
      ]
    },
    {
      "cell_type": "code",
      "source": [
        "# Guardamos la informacion\n",
        "np.savetxt('Datos.csv',Matriz,delimiter=',',newline='\\n')"
      ],
      "metadata": {
        "id": "bKQ9Rk4RA2iC"
      },
      "execution_count": 142,
      "outputs": []
    },
    {
      "cell_type": "code",
      "source": [
        "# Necesitamos habilitar colab\n",
        "from google.colab import drive\n",
        "drive.mount('/content/drive', force_remount=True)"
      ],
      "metadata": {
        "colab": {
          "base_uri": "https://localhost:8080/"
        },
        "id": "h5eyrxEJDu6J",
        "outputId": "4c619ee3-f336-472d-fef9-e4e380e8a464"
      },
      "execution_count": 143,
      "outputs": [
        {
          "output_type": "stream",
          "name": "stdout",
          "text": [
            "Mounted at /content/drive\n"
          ]
        }
      ]
    },
    {
      "cell_type": "code",
      "source": [
        "import os\n",
        "!ls"
      ],
      "metadata": {
        "colab": {
          "base_uri": "https://localhost:8080/"
        },
        "id": "SugjfqVOEbT6",
        "outputId": "c51a91b1-ec8f-40ca-a5fe-35dca71fa1b9"
      },
      "execution_count": 157,
      "outputs": [
        {
          "output_type": "stream",
          "name": "stdout",
          "text": [
            "Datos  Datos.csv  new.csv  Semana1\n"
          ]
        }
      ]
    },
    {
      "cell_type": "code",
      "source": [
        "os.chdir('/content/drive/MyDrive/ColabNotebooks/Cursos/CursoCienciaDatos')"
      ],
      "metadata": {
        "id": "OWdGw0gqElWa"
      },
      "execution_count": 152,
      "outputs": []
    },
    {
      "cell_type": "code",
      "source": [
        "!ls"
      ],
      "metadata": {
        "colab": {
          "base_uri": "https://localhost:8080/"
        },
        "id": "KdB0a4Z_EziX",
        "outputId": "3492addc-3d40-4e0a-ba18-080150ac33e3"
      },
      "execution_count": 153,
      "outputs": [
        {
          "output_type": "stream",
          "name": "stdout",
          "text": [
            "Datos  new.csv\tSemana1\n"
          ]
        }
      ]
    },
    {
      "cell_type": "code",
      "source": [
        "# Guardamos la informacion\n",
        "np.savetxt('Datos.csv',Matriz,delimiter=',',newline='\\n')"
      ],
      "metadata": {
        "id": "hyAnadbNE0Wz"
      },
      "execution_count": 154,
      "outputs": []
    },
    {
      "cell_type": "code",
      "source": [
        "from google.colab import files\n",
        "files.download('Datos.csv')"
      ],
      "metadata": {
        "colab": {
          "base_uri": "https://localhost:8080/",
          "height": 17
        },
        "id": "Fcxek5tIFP39",
        "outputId": "b0f7b9d0-7635-481a-db82-38d9c7792979"
      },
      "execution_count": 155,
      "outputs": [
        {
          "output_type": "display_data",
          "data": {
            "text/plain": [
              "<IPython.core.display.Javascript object>"
            ],
            "application/javascript": [
              "\n",
              "    async function download(id, filename, size) {\n",
              "      if (!google.colab.kernel.accessAllowed) {\n",
              "        return;\n",
              "      }\n",
              "      const div = document.createElement('div');\n",
              "      const label = document.createElement('label');\n",
              "      label.textContent = `Downloading \"${filename}\": `;\n",
              "      div.appendChild(label);\n",
              "      const progress = document.createElement('progress');\n",
              "      progress.max = size;\n",
              "      div.appendChild(progress);\n",
              "      document.body.appendChild(div);\n",
              "\n",
              "      const buffers = [];\n",
              "      let downloaded = 0;\n",
              "\n",
              "      const channel = await google.colab.kernel.comms.open(id);\n",
              "      // Send a message to notify the kernel that we're ready.\n",
              "      channel.send({})\n",
              "\n",
              "      for await (const message of channel.messages) {\n",
              "        // Send a message to notify the kernel that we're ready.\n",
              "        channel.send({})\n",
              "        if (message.buffers) {\n",
              "          for (const buffer of message.buffers) {\n",
              "            buffers.push(buffer);\n",
              "            downloaded += buffer.byteLength;\n",
              "            progress.value = downloaded;\n",
              "          }\n",
              "        }\n",
              "      }\n",
              "      const blob = new Blob(buffers, {type: 'application/binary'});\n",
              "      const a = document.createElement('a');\n",
              "      a.href = window.URL.createObjectURL(blob);\n",
              "      a.download = filename;\n",
              "      div.appendChild(a);\n",
              "      a.click();\n",
              "      div.remove();\n",
              "    }\n",
              "  "
            ]
          },
          "metadata": {}
        },
        {
          "output_type": "display_data",
          "data": {
            "text/plain": [
              "<IPython.core.display.Javascript object>"
            ],
            "application/javascript": [
              "download(\"download_a2b5d898-d849-4508-8086-b012544d7f1e\", \"Datos.csv\", 150)"
            ]
          },
          "metadata": {}
        }
      ]
    },
    {
      "cell_type": "code",
      "source": [],
      "metadata": {
        "id": "7RrQbkf8F4tN"
      },
      "execution_count": null,
      "outputs": []
    }
  ]
}