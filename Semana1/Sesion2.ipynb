{
  "nbformat": 4,
  "nbformat_minor": 0,
  "metadata": {
    "colab": {
      "provenance": [],
      "authorship_tag": "ABX9TyNapGfKFZI4XeH+4zmtpCvM",
      "include_colab_link": true
    },
    "kernelspec": {
      "name": "python3",
      "display_name": "Python 3"
    },
    "language_info": {
      "name": "python"
    }
  },
  "cells": [
    {
      "cell_type": "markdown",
      "metadata": {
        "id": "view-in-github",
        "colab_type": "text"
      },
      "source": [
        "<a href=\"https://colab.research.google.com/github/asegura4488/CienciaDatos/blob/main/Semana1/Sesion2.ipynb\" target=\"_parent\"><img src=\"https://colab.research.google.com/assets/colab-badge.svg\" alt=\"Open In Colab\"/></a>"
      ]
    },
    {
      "cell_type": "code",
      "execution_count": 71,
      "metadata": {
        "id": "V7UU75gXvvyO"
      },
      "outputs": [],
      "source": [
        "# Cómo generalizamos el concepto de variable?\n",
        "\n",
        "# Quizá necesitamos un conjunto de variables (sin desconexion)\n",
        "import numpy as np\n",
        "Nombre1 = ''\n",
        "Nombre2 = ''"
      ]
    },
    {
      "cell_type": "code",
      "source": [
        "Lista1 = []\n",
        "type(Lista1)"
      ],
      "metadata": {
        "colab": {
          "base_uri": "https://localhost:8080/"
        },
        "id": "t56Rd5U8v0fr",
        "outputId": "29c5cf43-56d6-40a2-a57c-896d119f97ba"
      },
      "execution_count": 72,
      "outputs": [
        {
          "output_type": "execute_result",
          "data": {
            "text/plain": [
              "list"
            ]
          },
          "metadata": {},
          "execution_count": 72
        }
      ]
    },
    {
      "cell_type": "code",
      "source": [
        "# Método que mida su longitud\n",
        "len(Lista1)"
      ],
      "metadata": {
        "colab": {
          "base_uri": "https://localhost:8080/"
        },
        "id": "nmsEVLYmwUPe",
        "outputId": "3aaab25c-6677-4750-ba2e-7c1680737d96"
      },
      "execution_count": 73,
      "outputs": [
        {
          "output_type": "execute_result",
          "data": {
            "text/plain": [
              "0"
            ]
          },
          "metadata": {},
          "execution_count": 73
        }
      ]
    },
    {
      "cell_type": "code",
      "source": [
        "# Método que incluya nuevos elementos\n",
        "Lista1 = []\n",
        "Lista1.append(1)\n",
        "Lista1.append(3)\n",
        "Lista1.append(6.5)\n",
        "Lista1.append(4)\n",
        "Lista1.append(9.81)"
      ],
      "metadata": {
        "id": "dHamNZxgxOJW"
      },
      "execution_count": 74,
      "outputs": []
    },
    {
      "cell_type": "code",
      "source": [
        "Lista1"
      ],
      "metadata": {
        "colab": {
          "base_uri": "https://localhost:8080/"
        },
        "id": "4cjuT-A9xfKE",
        "outputId": "b39259c4-856c-4c85-e0b3-80f33bcc79dc"
      },
      "execution_count": 75,
      "outputs": [
        {
          "output_type": "execute_result",
          "data": {
            "text/plain": [
              "[1, 3, 6.5, 4, 9.81]"
            ]
          },
          "metadata": {},
          "execution_count": 75
        }
      ]
    },
    {
      "cell_type": "code",
      "source": [
        "# Acceder a los datos?\n",
        "dim = 1*len(Lista1)\n",
        "dim"
      ],
      "metadata": {
        "colab": {
          "base_uri": "https://localhost:8080/"
        },
        "id": "bOO5U_IkxgKf",
        "outputId": "85c4ff22-1af2-4e5c-b844-8cde9b911da3"
      },
      "execution_count": 76,
      "outputs": [
        {
          "output_type": "execute_result",
          "data": {
            "text/plain": [
              "5"
            ]
          },
          "metadata": {},
          "execution_count": 76
        }
      ]
    },
    {
      "cell_type": "code",
      "source": [
        "# En orden canonica de izquierda a derecha\n",
        "Lista1[1]"
      ],
      "metadata": {
        "colab": {
          "base_uri": "https://localhost:8080/"
        },
        "id": "7kBZWAHAyXrh",
        "outputId": "ede6ee70-6e47-4c1d-8c36-b64e00248627"
      },
      "execution_count": 77,
      "outputs": [
        {
          "output_type": "execute_result",
          "data": {
            "text/plain": [
              "3"
            ]
          },
          "metadata": {},
          "execution_count": 77
        }
      ]
    },
    {
      "cell_type": "code",
      "source": [
        "Lista1[-1]"
      ],
      "metadata": {
        "colab": {
          "base_uri": "https://localhost:8080/"
        },
        "id": "Y0n-NUCHy23Q",
        "outputId": "29ce90d6-7de8-48f3-8caa-c5b25d42e3bb"
      },
      "execution_count": 78,
      "outputs": [
        {
          "output_type": "execute_result",
          "data": {
            "text/plain": [
              "9.81"
            ]
          },
          "metadata": {},
          "execution_count": 78
        }
      ]
    },
    {
      "cell_type": "code",
      "source": [
        "Lista1[-2]"
      ],
      "metadata": {
        "colab": {
          "base_uri": "https://localhost:8080/"
        },
        "id": "2iLDCHwlzaKp",
        "outputId": "11353a6f-8ea1-4c9a-d7d3-b1246881c666"
      },
      "execution_count": 79,
      "outputs": [
        {
          "output_type": "execute_result",
          "data": {
            "text/plain": [
              "4"
            ]
          },
          "metadata": {},
          "execution_count": 79
        }
      ]
    },
    {
      "cell_type": "code",
      "source": [
        "# Necesitamos estableces una mascara (filtro)!\n",
        "Lista1[1:4] # los : dentro de una lista es slicing\n",
        "# Estamos tomando las posiciones 1,2,3"
      ],
      "metadata": {
        "colab": {
          "base_uri": "https://localhost:8080/"
        },
        "id": "AC3P3LJzzdOC",
        "outputId": "c69a7751-10d3-43d4-87e6-c84ca8ba64de"
      },
      "execution_count": 80,
      "outputs": [
        {
          "output_type": "execute_result",
          "data": {
            "text/plain": [
              "[3, 6.5, 4]"
            ]
          },
          "metadata": {},
          "execution_count": 80
        }
      ]
    },
    {
      "cell_type": "code",
      "source": [
        "# Queremos tomar los ultimos dos datos\n",
        "Lista1[-2:]\n",
        "#Es equivalente a :\n",
        "#Lista1[3:5]"
      ],
      "metadata": {
        "colab": {
          "base_uri": "https://localhost:8080/"
        },
        "id": "vWqzIoPx0GD_",
        "outputId": "81da6868-64c8-4517-971b-51a9c39609ad"
      },
      "execution_count": 81,
      "outputs": [
        {
          "output_type": "execute_result",
          "data": {
            "text/plain": [
              "[4, 9.81]"
            ]
          },
          "metadata": {},
          "execution_count": 81
        }
      ]
    },
    {
      "cell_type": "code",
      "source": [],
      "metadata": {
        "id": "qeilYfO719cj"
      },
      "execution_count": 81,
      "outputs": []
    },
    {
      "cell_type": "code",
      "source": [
        "# Si queremos seleccionar indices especificos\n",
        "indices = [0,2,4]\n",
        "\n",
        "# loop comprension\n",
        "listafiltrada = [ Lista1[i] for i in indices ]\n",
        "listafiltrada"
      ],
      "metadata": {
        "colab": {
          "base_uri": "https://localhost:8080/"
        },
        "id": "Eftv3XfR03JK",
        "outputId": "6065503f-5e7c-456f-f0c0-ba0fd12214b4"
      },
      "execution_count": 82,
      "outputs": [
        {
          "output_type": "execute_result",
          "data": {
            "text/plain": [
              "[1, 6.5, 9.81]"
            ]
          },
          "metadata": {},
          "execution_count": 82
        }
      ]
    },
    {
      "cell_type": "code",
      "source": [
        "Lista1"
      ],
      "metadata": {
        "colab": {
          "base_uri": "https://localhost:8080/"
        },
        "id": "G9E72OEt1VG7",
        "outputId": "3265ae04-758f-4f63-9190-504f1d0cc88d"
      },
      "execution_count": 83,
      "outputs": [
        {
          "output_type": "execute_result",
          "data": {
            "text/plain": [
              "[1, 3, 6.5, 4, 9.81]"
            ]
          },
          "metadata": {},
          "execution_count": 83
        }
      ]
    },
    {
      "cell_type": "code",
      "source": [
        "# Cómo obtengo un \"muestra\" según algun valor??\n",
        "#Valores mayores a 2?"
      ],
      "metadata": {
        "id": "vypmYspb1XDu"
      },
      "execution_count": 84,
      "outputs": []
    },
    {
      "cell_type": "code",
      "source": [
        "Mayores2 = [ x for x in Lista1 if x > 2] # Filtrado numerico\n",
        "Mayores2"
      ],
      "metadata": {
        "colab": {
          "base_uri": "https://localhost:8080/"
        },
        "id": "GTCA6-0F25qi",
        "outputId": "9f2a6609-da76-4f30-ea9b-ceae3d8d751f"
      },
      "execution_count": 85,
      "outputs": [
        {
          "output_type": "execute_result",
          "data": {
            "text/plain": [
              "[3, 6.5, 4, 9.81]"
            ]
          },
          "metadata": {},
          "execution_count": 85
        }
      ]
    },
    {
      "cell_type": "code",
      "source": [
        "Lista1 = np.array(Lista1)\n",
        "Lista1 > 2"
      ],
      "metadata": {
        "colab": {
          "base_uri": "https://localhost:8080/"
        },
        "id": "MtKmfDTO3q_F",
        "outputId": "9e71a79e-bba7-4ec7-e15b-de77e7980581"
      },
      "execution_count": 86,
      "outputs": [
        {
          "output_type": "execute_result",
          "data": {
            "text/plain": [
              "array([False,  True,  True,  True,  True])"
            ]
          },
          "metadata": {},
          "execution_count": 86
        }
      ]
    },
    {
      "cell_type": "code",
      "source": [
        "Mayores2_2 = Lista1[ Lista1 > 2 ]\n",
        "Mayores2_2"
      ],
      "metadata": {
        "colab": {
          "base_uri": "https://localhost:8080/"
        },
        "id": "2blx53YI3Nqe",
        "outputId": "5ea63c43-91f4-4db3-f2b2-3f15f5620494"
      },
      "execution_count": 87,
      "outputs": [
        {
          "output_type": "execute_result",
          "data": {
            "text/plain": [
              "array([3.  , 6.5 , 4.  , 9.81])"
            ]
          },
          "metadata": {},
          "execution_count": 87
        }
      ]
    },
    {
      "cell_type": "code",
      "source": [],
      "metadata": {
        "id": "3bMPIQKR3hB3"
      },
      "execution_count": null,
      "outputs": []
    }
  ]
}