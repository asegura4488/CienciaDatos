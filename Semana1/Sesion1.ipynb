{
  "nbformat": 4,
  "nbformat_minor": 0,
  "metadata": {
    "colab": {
      "provenance": [],
      "authorship_tag": "ABX9TyPNze3RnGNcavSlFJpAGXqk",
      "include_colab_link": true
    },
    "kernelspec": {
      "name": "python3",
      "display_name": "Python 3"
    },
    "language_info": {
      "name": "python"
    }
  },
  "cells": [
    {
      "cell_type": "markdown",
      "metadata": {
        "id": "view-in-github",
        "colab_type": "text"
      },
      "source": [
        "<a href=\"https://colab.research.google.com/github/asegura4488/CienciaDatos/blob/main/Semana1/Sesion1.ipynb\" target=\"_parent\"><img src=\"https://colab.research.google.com/assets/colab-badge.svg\" alt=\"Open In Colab\"/></a>"
      ]
    },
    {
      "cell_type": "code",
      "source": [
        "# Lenguaje de alto nivel (sencillo)\n",
        "# Es de tipado dinamico\n",
        "## El contenido define al contenedor"
      ],
      "metadata": {
        "id": "PXwWg2uL4U8K"
      },
      "execution_count": 8,
      "outputs": []
    },
    {
      "cell_type": "code",
      "execution_count": 21,
      "metadata": {
        "id": "Yl7RHu6GviF9"
      },
      "outputs": [],
      "source": [
        "# Comentarios:e\n",
        "# Definicion de una variable\n",
        "# Almacenar \"informacion\" (valores)\n",
        "# Como almacenamos ? # Usando un operador (operador de asignacion = )\n",
        "Nombre = \"Alejandro\" # La informacion fluye de derecha a izquierda\n",
        "Edad = 35"
      ]
    },
    {
      "cell_type": "code",
      "source": [
        "type(Nombre) # String: cadena de texto"
      ],
      "metadata": {
        "colab": {
          "base_uri": "https://localhost:8080/"
        },
        "id": "SAsivk-JvoO-",
        "outputId": "d3b169e5-bc54-4aeb-c7d6-9ab489eac999"
      },
      "execution_count": 22,
      "outputs": [
        {
          "output_type": "execute_result",
          "data": {
            "text/plain": [
              "str"
            ]
          },
          "metadata": {},
          "execution_count": 22
        }
      ]
    },
    {
      "cell_type": "code",
      "source": [
        "Edad = Edad*1.5"
      ],
      "metadata": {
        "id": "R-2swmIv7QOK"
      },
      "execution_count": 24,
      "outputs": []
    },
    {
      "cell_type": "code",
      "source": [
        "type(Edad)"
      ],
      "metadata": {
        "colab": {
          "base_uri": "https://localhost:8080/"
        },
        "id": "35Vp6jTV6jyb",
        "outputId": "0acbb3db-1fc1-4f22-8940-5f93cd6447ee"
      },
      "execution_count": 25,
      "outputs": [
        {
          "output_type": "execute_result",
          "data": {
            "text/plain": [
              "float"
            ]
          },
          "metadata": {},
          "execution_count": 25
        }
      ]
    },
    {
      "cell_type": "code",
      "source": [
        "# Jerarquia de las operaciones : El lenguaje hace primero */ y luego +-\n",
        "3*3 + 1"
      ],
      "metadata": {
        "colab": {
          "base_uri": "https://localhost:8080/"
        },
        "id": "eH9v2RNz61Ai",
        "outputId": "42725e84-83bd-4f6f-b5fa-8861cf17a025"
      },
      "execution_count": 30,
      "outputs": [
        {
          "output_type": "execute_result",
          "data": {
            "text/plain": [
              "10"
            ]
          },
          "metadata": {},
          "execution_count": 30
        }
      ]
    },
    {
      "cell_type": "code",
      "source": [
        "3*(3+1)"
      ],
      "metadata": {
        "colab": {
          "base_uri": "https://localhost:8080/"
        },
        "id": "8tVmNFzI8GyE",
        "outputId": "e2d43e07-8f46-4047-9689-e7b61d80f457"
      },
      "execution_count": 35,
      "outputs": [
        {
          "output_type": "execute_result",
          "data": {
            "text/plain": [
              "12"
            ]
          },
          "metadata": {},
          "execution_count": 35
        }
      ]
    },
    {
      "cell_type": "code",
      "source": [
        "# Como automatizo las tareas\n",
        "## Funciones ???\n",
        "## Bucles"
      ],
      "metadata": {
        "id": "uQYHP6_t82Kd"
      },
      "execution_count": 36,
      "outputs": []
    },
    {
      "cell_type": "code",
      "source": [
        "# Dentro de los parentesis están los argumentos o parametros de la función!!!\n",
        "# Operador de ambiente\n",
        "def Proceso1(x):\n",
        "  # La función imprime el valor del parametro\n",
        "  print(x)"
      ],
      "metadata": {
        "id": "cO9flQyp9U9u"
      },
      "execution_count": 38,
      "outputs": []
    },
    {
      "cell_type": "code",
      "source": [
        "Proceso1(1.75)"
      ],
      "metadata": {
        "colab": {
          "base_uri": "https://localhost:8080/"
        },
        "id": "SHxncjoW94bo",
        "outputId": "a8c847da-64af-451e-a349-a07dcc2ba4c5"
      },
      "execution_count": 41,
      "outputs": [
        {
          "output_type": "stream",
          "name": "stdout",
          "text": [
            "1.75\n"
          ]
        }
      ]
    },
    {
      "cell_type": "code",
      "source": [],
      "metadata": {
        "id": "vH5xUVkm-JNs"
      },
      "execution_count": null,
      "outputs": []
    }
  ]
}