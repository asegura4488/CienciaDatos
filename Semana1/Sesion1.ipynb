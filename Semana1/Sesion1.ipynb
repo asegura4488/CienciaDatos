{
  "nbformat": 4,
  "nbformat_minor": 0,
  "metadata": {
    "colab": {
      "provenance": [],
      "authorship_tag": "ABX9TyNQ0b42DPbKDdhnLTpgT5TQ",
      "include_colab_link": true
    },
    "kernelspec": {
      "name": "python3",
      "display_name": "Python 3"
    },
    "language_info": {
      "name": "python"
    }
  },
  "cells": [
    {
      "cell_type": "markdown",
      "metadata": {
        "id": "view-in-github",
        "colab_type": "text"
      },
      "source": [
        "<a href=\"https://colab.research.google.com/github/asegura4488/CienciaDatos/blob/main/Semana1/Sesion1.ipynb\" target=\"_parent\"><img src=\"https://colab.research.google.com/assets/colab-badge.svg\" alt=\"Open In Colab\"/></a>"
      ]
    },
    {
      "cell_type": "code",
      "source": [
        "# Lenguaje de alto nivel (sencillo)\n",
        "# Es de tipado dinamico\n",
        "## El contenido define al contenedor"
      ],
      "metadata": {
        "id": "PXwWg2uL4U8K"
      },
      "execution_count": 8,
      "outputs": []
    },
    {
      "cell_type": "code",
      "execution_count": 21,
      "metadata": {
        "id": "Yl7RHu6GviF9"
      },
      "outputs": [],
      "source": [
        "# Comentarios:e\n",
        "# Definicion de una variable\n",
        "# Almacenar \"informacion\" (valores)\n",
        "# Como almacenamos ? # Usando un operador (operador de asignacion = )\n",
        "Nombre = \"Alejandro\" # La informacion fluye de derecha a izquierda\n",
        "Edad = 35"
      ]
    },
    {
      "cell_type": "code",
      "source": [
        "type(Nombre) # String: cadena de texto"
      ],
      "metadata": {
        "colab": {
          "base_uri": "https://localhost:8080/"
        },
        "id": "SAsivk-JvoO-",
        "outputId": "d3b169e5-bc54-4aeb-c7d6-9ab489eac999"
      },
      "execution_count": 22,
      "outputs": [
        {
          "output_type": "execute_result",
          "data": {
            "text/plain": [
              "str"
            ]
          },
          "metadata": {},
          "execution_count": 22
        }
      ]
    },
    {
      "cell_type": "code",
      "source": [
        "Edad = Edad*1.5"
      ],
      "metadata": {
        "id": "R-2swmIv7QOK"
      },
      "execution_count": 24,
      "outputs": []
    },
    {
      "cell_type": "code",
      "source": [
        "type(Edad)"
      ],
      "metadata": {
        "colab": {
          "base_uri": "https://localhost:8080/"
        },
        "id": "35Vp6jTV6jyb",
        "outputId": "0acbb3db-1fc1-4f22-8940-5f93cd6447ee"
      },
      "execution_count": 25,
      "outputs": [
        {
          "output_type": "execute_result",
          "data": {
            "text/plain": [
              "float"
            ]
          },
          "metadata": {},
          "execution_count": 25
        }
      ]
    },
    {
      "cell_type": "code",
      "source": [
        "# Jerarquia de las operaciones : El lenguaje hace primero */ y luego +-\n",
        "3*3 + 1"
      ],
      "metadata": {
        "colab": {
          "base_uri": "https://localhost:8080/"
        },
        "id": "eH9v2RNz61Ai",
        "outputId": "42725e84-83bd-4f6f-b5fa-8861cf17a025"
      },
      "execution_count": 30,
      "outputs": [
        {
          "output_type": "execute_result",
          "data": {
            "text/plain": [
              "10"
            ]
          },
          "metadata": {},
          "execution_count": 30
        }
      ]
    },
    {
      "cell_type": "code",
      "source": [
        "3*(3+1)"
      ],
      "metadata": {
        "colab": {
          "base_uri": "https://localhost:8080/"
        },
        "id": "8tVmNFzI8GyE",
        "outputId": "e2d43e07-8f46-4047-9689-e7b61d80f457"
      },
      "execution_count": 35,
      "outputs": [
        {
          "output_type": "execute_result",
          "data": {
            "text/plain": [
              "12"
            ]
          },
          "metadata": {},
          "execution_count": 35
        }
      ]
    },
    {
      "cell_type": "code",
      "source": [
        "# Como automatizo las tareas\n",
        "## Funciones ???\n",
        "## Bucles    ??? Automatizar"
      ],
      "metadata": {
        "id": "uQYHP6_t82Kd"
      },
      "execution_count": 44,
      "outputs": []
    },
    {
      "cell_type": "code",
      "source": [
        "# Dentro de los parentesis están los argumentos o parametros de la función!!!\n",
        "# Operador de ambiente\n",
        "def Proceso1(x):\n",
        "  # La función imprime el valor del parametro\n",
        "  print(x)"
      ],
      "metadata": {
        "id": "cO9flQyp9U9u"
      },
      "execution_count": 45,
      "outputs": []
    },
    {
      "cell_type": "code",
      "source": [
        "Proceso1(1.75)"
      ],
      "metadata": {
        "colab": {
          "base_uri": "https://localhost:8080/"
        },
        "id": "SHxncjoW94bo",
        "outputId": "af476cc2-69ed-4b13-94b2-62a421322fb2"
      },
      "execution_count": 48,
      "outputs": [
        {
          "output_type": "stream",
          "name": "stdout",
          "text": [
            "1.75\n"
          ]
        }
      ]
    },
    {
      "cell_type": "code",
      "source": [
        "# i es el valor que esta cambiando\n",
        "# el computador cambia el numero\n",
        "for i in range(6): # Los ciclos (estructuras de datos arrancan en 0)\n",
        "  # El ultimo valor en el rango del ciclo no se toma\n",
        "  print(i)\n",
        "  # Ejecuto el proceso las veces que necesite\n",
        "  Proceso1(i)"
      ],
      "metadata": {
        "colab": {
          "base_uri": "https://localhost:8080/"
        },
        "id": "vH5xUVkm-JNs",
        "outputId": "7d82b215-a4f2-48c6-f826-477743818c28"
      },
      "execution_count": 63,
      "outputs": [
        {
          "output_type": "stream",
          "name": "stdout",
          "text": [
            "0\n",
            "0\n",
            "1\n",
            "1\n",
            "2\n",
            "2\n",
            "3\n",
            "3\n",
            "4\n",
            "4\n",
            "5\n",
            "5\n"
          ]
        }
      ]
    },
    {
      "cell_type": "code",
      "source": [
        "# leonardo style\n",
        "for i in range(6): # Los ciclos (estructuras de datos arrancan en 0)\n",
        "  # El ultimo valor en el rango del ciclo no se toma\n",
        "  print(i+1)"
      ],
      "metadata": {
        "colab": {
          "base_uri": "https://localhost:8080/"
        },
        "id": "aY_byKYsAtEz",
        "outputId": "08caff04-72b6-4b89-ac41-94486f4b319c"
      },
      "execution_count": 56,
      "outputs": [
        {
          "output_type": "stream",
          "name": "stdout",
          "text": [
            "1\n",
            "2\n",
            "3\n",
            "4\n",
            "5\n",
            "6\n"
          ]
        }
      ]
    },
    {
      "cell_type": "code",
      "source": [
        "# Quiero arrancar en 1, pero ojo!!! hacerlo 6 veces\n",
        "for i in range(1,7): # Los ciclos (estructuras de datos arrancan en 0)\n",
        "  # El ultimo valor en el rango del ciclo no se toma\n",
        "  print(i)"
      ],
      "metadata": {
        "colab": {
          "base_uri": "https://localhost:8080/"
        },
        "id": "I_xe7jiL_oxE",
        "outputId": "52d8605d-c1d7-44eb-842c-6ef759051392"
      },
      "execution_count": 57,
      "outputs": [
        {
          "output_type": "stream",
          "name": "stdout",
          "text": [
            "1\n",
            "2\n",
            "3\n",
            "4\n",
            "5\n",
            "6\n"
          ]
        }
      ]
    },
    {
      "cell_type": "code",
      "source": [
        "# Definir la Tarea1\n",
        "#Hacer un bucle 20 veces y tomar el valor del iterador, multiplicar 5 + 1\n",
        "# LLamar a proceso 1 en cada iteracion"
      ],
      "metadata": {
        "id": "NQ-vbcxRAbXp"
      },
      "execution_count": 67,
      "outputs": []
    },
    {
      "cell_type": "code",
      "source": [
        "def Proceso2(x):\n",
        "  return 5*x+1"
      ],
      "metadata": {
        "id": "lUsIh0GAElVA"
      },
      "execution_count": 76,
      "outputs": []
    },
    {
      "cell_type": "code",
      "source": [
        "Proceso2(10)"
      ],
      "metadata": {
        "colab": {
          "base_uri": "https://localhost:8080/"
        },
        "id": "A30UHanFEwMO",
        "outputId": "9dc680df-147d-4eeb-83f8-135a03412a31"
      },
      "execution_count": 70,
      "outputs": [
        {
          "output_type": "execute_result",
          "data": {
            "text/plain": [
              "51"
            ]
          },
          "metadata": {},
          "execution_count": 70
        }
      ]
    },
    {
      "cell_type": "code",
      "source": [
        "for i in range(20):\n",
        "  valor = Proceso2(i)\n",
        "  Proceso1(valor)"
      ],
      "metadata": {
        "colab": {
          "base_uri": "https://localhost:8080/"
        },
        "id": "z3UMo9cuD3EX",
        "outputId": "37b2512e-32fb-4cdf-8843-98d689bc7d6b"
      },
      "execution_count": 77,
      "outputs": [
        {
          "output_type": "stream",
          "name": "stdout",
          "text": [
            "1\n",
            "6\n",
            "11\n",
            "16\n",
            "21\n",
            "26\n",
            "31\n",
            "36\n",
            "41\n",
            "46\n",
            "51\n",
            "56\n",
            "61\n",
            "66\n",
            "71\n",
            "76\n",
            "81\n",
            "86\n",
            "91\n",
            "96\n"
          ]
        }
      ]
    },
    {
      "cell_type": "code",
      "source": [],
      "metadata": {
        "id": "fvR91pmyFEZa"
      },
      "execution_count": null,
      "outputs": []
    }
  ]
}